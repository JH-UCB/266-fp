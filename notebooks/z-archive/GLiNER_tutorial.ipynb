{
 "cells": [
  {
   "cell_type": "code",
   "execution_count": 2,
   "metadata": {},
   "outputs": [
    {
     "name": "stdout",
     "output_type": "stream",
     "text": [
      "Collecting gliner\n",
      "  Downloading gliner-0.2.16-py3-none-any.whl.metadata (8.8 kB)\n",
      "Requirement already satisfied: torch>=2.0.0 in /Users/home/miniconda3/envs/266/lib/python3.10/site-packages (from gliner) (2.6.0)\n",
      "Requirement already satisfied: transformers>=4.38.2 in /Users/home/miniconda3/envs/266/lib/python3.10/site-packages (from gliner) (4.49.0)\n",
      "Requirement already satisfied: huggingface_hub>=0.21.4 in /Users/home/miniconda3/envs/266/lib/python3.10/site-packages (from gliner) (0.28.1)\n",
      "Requirement already satisfied: tqdm in /Users/home/miniconda3/envs/266/lib/python3.10/site-packages (from gliner) (4.66.5)\n",
      "Collecting onnxruntime (from gliner)\n",
      "  Downloading onnxruntime-1.20.1-cp310-cp310-macosx_13_0_universal2.whl.metadata (4.5 kB)\n",
      "Requirement already satisfied: sentencepiece in /Users/home/miniconda3/envs/266/lib/python3.10/site-packages (from gliner) (0.2.0)\n",
      "Requirement already satisfied: filelock in /Users/home/miniconda3/envs/266/lib/python3.10/site-packages (from huggingface_hub>=0.21.4->gliner) (3.17.0)\n",
      "Requirement already satisfied: fsspec>=2023.5.0 in /Users/home/miniconda3/envs/266/lib/python3.10/site-packages (from huggingface_hub>=0.21.4->gliner) (2024.9.0)\n",
      "Requirement already satisfied: packaging>=20.9 in /Users/home/miniconda3/envs/266/lib/python3.10/site-packages (from huggingface_hub>=0.21.4->gliner) (24.2)\n",
      "Requirement already satisfied: pyyaml>=5.1 in /Users/home/miniconda3/envs/266/lib/python3.10/site-packages (from huggingface_hub>=0.21.4->gliner) (6.0.2)\n",
      "Requirement already satisfied: requests in /Users/home/miniconda3/envs/266/lib/python3.10/site-packages (from huggingface_hub>=0.21.4->gliner) (2.32.3)\n",
      "Requirement already satisfied: typing-extensions>=3.7.4.3 in /Users/home/miniconda3/envs/266/lib/python3.10/site-packages (from huggingface_hub>=0.21.4->gliner) (4.12.2)\n",
      "Requirement already satisfied: networkx in /Users/home/miniconda3/envs/266/lib/python3.10/site-packages (from torch>=2.0.0->gliner) (3.4.2)\n",
      "Requirement already satisfied: jinja2 in /Users/home/miniconda3/envs/266/lib/python3.10/site-packages (from torch>=2.0.0->gliner) (3.1.5)\n",
      "Requirement already satisfied: sympy==1.13.1 in /Users/home/miniconda3/envs/266/lib/python3.10/site-packages (from torch>=2.0.0->gliner) (1.13.1)\n",
      "Requirement already satisfied: mpmath<1.4,>=1.1.0 in /Users/home/miniconda3/envs/266/lib/python3.10/site-packages (from sympy==1.13.1->torch>=2.0.0->gliner) (1.3.0)\n",
      "Requirement already satisfied: numpy>=1.17 in /Users/home/miniconda3/envs/266/lib/python3.10/site-packages (from transformers>=4.38.2->gliner) (1.26.4)\n",
      "Requirement already satisfied: regex!=2019.12.17 in /Users/home/miniconda3/envs/266/lib/python3.10/site-packages (from transformers>=4.38.2->gliner) (2024.11.6)\n",
      "Requirement already satisfied: tokenizers<0.22,>=0.21 in /Users/home/miniconda3/envs/266/lib/python3.10/site-packages (from transformers>=4.38.2->gliner) (0.21.0)\n",
      "Requirement already satisfied: safetensors>=0.4.1 in /Users/home/miniconda3/envs/266/lib/python3.10/site-packages (from transformers>=4.38.2->gliner) (0.5.2)\n",
      "Collecting coloredlogs (from onnxruntime->gliner)\n",
      "  Downloading coloredlogs-15.0.1-py2.py3-none-any.whl.metadata (12 kB)\n",
      "Requirement already satisfied: flatbuffers in /Users/home/miniconda3/envs/266/lib/python3.10/site-packages (from onnxruntime->gliner) (24.3.25)\n",
      "Requirement already satisfied: protobuf in /Users/home/miniconda3/envs/266/lib/python3.10/site-packages (from onnxruntime->gliner) (3.20.3)\n",
      "Collecting humanfriendly>=9.1 (from coloredlogs->onnxruntime->gliner)\n",
      "  Downloading humanfriendly-10.0-py2.py3-none-any.whl.metadata (9.2 kB)\n",
      "Requirement already satisfied: MarkupSafe>=2.0 in /Users/home/miniconda3/envs/266/lib/python3.10/site-packages (from jinja2->torch>=2.0.0->gliner) (2.1.3)\n",
      "Requirement already satisfied: charset-normalizer<4,>=2 in /Users/home/miniconda3/envs/266/lib/python3.10/site-packages (from requests->huggingface_hub>=0.21.4->gliner) (3.3.2)\n",
      "Requirement already satisfied: idna<4,>=2.5 in /Users/home/miniconda3/envs/266/lib/python3.10/site-packages (from requests->huggingface_hub>=0.21.4->gliner) (3.7)\n",
      "Requirement already satisfied: urllib3<3,>=1.21.1 in /Users/home/miniconda3/envs/266/lib/python3.10/site-packages (from requests->huggingface_hub>=0.21.4->gliner) (2.2.3)\n",
      "Requirement already satisfied: certifi>=2017.4.17 in /Users/home/miniconda3/envs/266/lib/python3.10/site-packages (from requests->huggingface_hub>=0.21.4->gliner) (2024.12.14)\n",
      "Downloading gliner-0.2.16-py3-none-any.whl (62 kB)\n",
      "Downloading onnxruntime-1.20.1-cp310-cp310-macosx_13_0_universal2.whl (31.0 MB)\n",
      "\u001b[2K   \u001b[90m━━━━━━━━━━━━━━━━━━━━━━━━━━━━━━━━━━━━━━━━\u001b[0m \u001b[32m31.0/31.0 MB\u001b[0m \u001b[31m34.1 MB/s\u001b[0m eta \u001b[36m0:00:00\u001b[0ma \u001b[36m0:00:01\u001b[0m\n",
      "\u001b[?25hDownloading coloredlogs-15.0.1-py2.py3-none-any.whl (46 kB)\n",
      "Downloading humanfriendly-10.0-py2.py3-none-any.whl (86 kB)\n",
      "Installing collected packages: humanfriendly, coloredlogs, onnxruntime, gliner\n",
      "Successfully installed coloredlogs-15.0.1 gliner-0.2.16 humanfriendly-10.0 onnxruntime-1.20.1\n"
     ]
    }
   ],
   "source": [
    "!pip install gliner"
   ]
  },
  {
   "cell_type": "code",
   "execution_count": 3,
   "metadata": {},
   "outputs": [
    {
     "name": "stderr",
     "output_type": "stream",
     "text": [
      "/Users/home/miniconda3/envs/266/lib/python3.10/site-packages/torch/utils/_pytree.py:185: FutureWarning: optree is installed but the version is too old to support PyTorch Dynamo in C++ pytree. C++ pytree support is disabled. Please consider upgrading optree using `python3 -m pip install --upgrade 'optree>=0.13.0'`.\n",
      "  warnings.warn(\n",
      "/Users/home/miniconda3/envs/266/lib/python3.10/site-packages/tqdm/auto.py:21: TqdmWarning: IProgress not found. Please update jupyter and ipywidgets. See https://ipywidgets.readthedocs.io/en/stable/user_install.html\n",
      "  from .autonotebook import tqdm as notebook_tqdm\n",
      "Fetching 5 files: 100%|██████████| 5/5 [00:49<00:00,  9.94s/it]\n",
      "/Users/home/miniconda3/envs/266/lib/python3.10/site-packages/transformers/convert_slow_tokenizer.py:561: UserWarning: The sentencepiece tokenizer that you are converting to a fast tokenizer uses the byte fallback option which is not implemented in the fast tokenizers. In practice this means that the fast version of the tokenizer can produce unknown tokens whereas the sentencepiece version would have converted these unknown tokens into a sequence of byte tokens matching the original piece of text.\n",
      "  warnings.warn(\n",
      "Asking to truncate to max_length but no maximum length is provided and the model has no predefined maximum length. Default to no truncation.\n"
     ]
    },
    {
     "name": "stdout",
     "output_type": "stream",
     "text": [
      "Cristiano Ronaldo dos Santos Aveiro => Person\n",
      "5 February 1985 => Date\n",
      "Portugal national team => Teams\n",
      "Ballon d'Or => Award\n",
      "UEFA Men's Player of the Year Awards => Award\n",
      "European Golden Shoes => Award\n",
      "UEFA Champions Leagues => Competitions\n",
      "UEFA European Championship => Competitions\n",
      "UEFA Nations League => Competitions\n",
      "European Championship => Competitions\n"
     ]
    }
   ],
   "source": [
    "from gliner import GLiNER\n",
    "\n",
    "# Initialize GLiNER with the base model\n",
    "model = GLiNER.from_pretrained(\"urchade/gliner_medium-v2.1\")\n",
    "\n",
    "# Sample text for entity prediction\n",
    "text = \"\"\"\n",
    "Cristiano Ronaldo dos Santos Aveiro (Portuguese pronunciation: [kɾiʃˈtjɐnu ʁɔˈnaldu]; born 5 February 1985) is a Portuguese professional footballer who plays as a forward for and captains both Saudi Pro League club Al Nassr and the Portugal national team. Widely regarded as one of the greatest players of all time, Ronaldo has won five Ballon d'Or awards,[note 3] a record three UEFA Men's Player of the Year Awards, and four European Golden Shoes, the most by a European player. He has won 33 trophies in his career, including seven league titles, five UEFA Champions Leagues, the UEFA European Championship and the UEFA Nations League. Ronaldo holds the records for most appearances (183), goals (140) and assists (42) in the Champions League, goals in the European Championship (14), international goals (128) and international appearances (205). He is one of the few players to have made over 1,200 professional career appearances, the most by an outfield player, and has scored over 850 official senior career goals for club and country, making him the top goalscorer of all time.\n",
    "\"\"\"\n",
    "\n",
    "# Labels for entity prediction\n",
    "# Most GLiNER models should work best when entity types are in lower case or title case\n",
    "labels = [\"Person\", \"Award\", \"Date\", \"Competitions\", \"Teams\"]\n",
    "\n",
    "# Perform entity prediction\n",
    "entities = model.predict_entities(text, labels, threshold=0.5)\n",
    "\n",
    "# Display predicted entities and their labels\n",
    "for entity in entities:\n",
    "    print(entity[\"text\"], \"=>\", entity[\"label\"])"
   ]
  },
  {
   "cell_type": "code",
   "execution_count": 4,
   "metadata": {},
   "outputs": [
    {
     "name": "stderr",
     "output_type": "stream",
     "text": [
      "Fetching 5 files: 100%|██████████| 5/5 [00:00<00:00, 87381.33it/s]\n",
      "Asking to truncate to max_length but no maximum length is provided and the model has no predefined maximum length. Default to no truncation.\n"
     ]
    }
   ],
   "source": [
    "from gliner import GLiNER  \n",
    "model = GLiNER.from_pretrained(\"urchade/gliner_medium-v2.1\")\n",
    "entities = model.predict_entities(text, labels)"
   ]
  },
  {
   "cell_type": "code",
   "execution_count": 5,
   "metadata": {},
   "outputs": [
    {
     "name": "stderr",
     "output_type": "stream",
     "text": [
      "Fetching 10 files: 100%|██████████| 10/10 [00:27<00:00,  2.73s/it]\n"
     ]
    }
   ],
   "source": [
    "model = GLiNER.from_pretrained(\"gliner-community/gliner_medium-v2.5\", load_tokenizer=True)"
   ]
  },
  {
   "cell_type": "code",
   "execution_count": 6,
   "metadata": {},
   "outputs": [
    {
     "name": "stderr",
     "output_type": "stream",
     "text": [
      "Asking to truncate to max_length but no maximum length is provided and the model has no predefined maximum length. Default to no truncation.\n"
     ]
    }
   ],
   "source": [
    "entities = model.predict_entities(text, labels)"
   ]
  },
  {
   "cell_type": "code",
   "execution_count": null,
   "metadata": {},
   "outputs": [],
   "source": []
  },
  {
   "cell_type": "code",
   "execution_count": null,
   "metadata": {},
   "outputs": [],
   "source": []
  },
  {
   "cell_type": "code",
   "execution_count": null,
   "metadata": {},
   "outputs": [],
   "source": []
  },
  {
   "cell_type": "code",
   "execution_count": null,
   "metadata": {},
   "outputs": [],
   "source": []
  },
  {
   "cell_type": "code",
   "execution_count": null,
   "metadata": {},
   "outputs": [],
   "source": []
  },
  {
   "cell_type": "code",
   "execution_count": null,
   "metadata": {},
   "outputs": [],
   "source": []
  },
  {
   "cell_type": "code",
   "execution_count": null,
   "metadata": {},
   "outputs": [],
   "source": []
  }
 ],
 "metadata": {
  "kernelspec": {
   "display_name": "266",
   "language": "python",
   "name": "python3"
  },
  "language_info": {
   "codemirror_mode": {
    "name": "ipython",
    "version": 3
   },
   "file_extension": ".py",
   "mimetype": "text/x-python",
   "name": "python",
   "nbconvert_exporter": "python",
   "pygments_lexer": "ipython3",
   "version": "3.10.16"
  }
 },
 "nbformat": 4,
 "nbformat_minor": 2
}
