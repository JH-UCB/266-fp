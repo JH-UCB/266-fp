{
  "nbformat": 4,
  "nbformat_minor": 0,
  "metadata": {
    "colab": {
      "provenance": [],
      "gpuType": "A100",
      "machine_shape": "hm",
      "toc_visible": true
    },
    "kernelspec": {
      "name": "python3",
      "display_name": "Python 3"
    },
    "language_info": {
      "name": "python"
    },
    "accelerator": "GPU",
    "widgets": {
      "application/vnd.jupyter.widget-state+json": {
        "0737c757a8bf4ea9a1656f94b04f98ab": {
          "model_module": "@jupyter-widgets/controls",
          "model_name": "HBoxModel",
          "model_module_version": "1.5.0",
          "state": {
            "_dom_classes": [],
            "_model_module": "@jupyter-widgets/controls",
            "_model_module_version": "1.5.0",
            "_model_name": "HBoxModel",
            "_view_count": null,
            "_view_module": "@jupyter-widgets/controls",
            "_view_module_version": "1.5.0",
            "_view_name": "HBoxView",
            "box_style": "",
            "children": [
              "IPY_MODEL_d502a5c1583e4d9fb95781f436af4853",
              "IPY_MODEL_1638be92a6194b4e81ef1547389f70f4",
              "IPY_MODEL_5a302b3b390f4a27a6bf2be7d06554a4"
            ],
            "layout": "IPY_MODEL_9e73ba029c0a433daea51028c4b6013c"
          }
        },
        "d502a5c1583e4d9fb95781f436af4853": {
          "model_module": "@jupyter-widgets/controls",
          "model_name": "HTMLModel",
          "model_module_version": "1.5.0",
          "state": {
            "_dom_classes": [],
            "_model_module": "@jupyter-widgets/controls",
            "_model_module_version": "1.5.0",
            "_model_name": "HTMLModel",
            "_view_count": null,
            "_view_module": "@jupyter-widgets/controls",
            "_view_module_version": "1.5.0",
            "_view_name": "HTMLView",
            "description": "",
            "description_tooltip": null,
            "layout": "IPY_MODEL_8c8d8148bb10488ea373163e7e19a42a",
            "placeholder": "​",
            "style": "IPY_MODEL_af048d45f3a5408383b9142eae036e88",
            "value": "Map: 100%"
          }
        },
        "1638be92a6194b4e81ef1547389f70f4": {
          "model_module": "@jupyter-widgets/controls",
          "model_name": "FloatProgressModel",
          "model_module_version": "1.5.0",
          "state": {
            "_dom_classes": [],
            "_model_module": "@jupyter-widgets/controls",
            "_model_module_version": "1.5.0",
            "_model_name": "FloatProgressModel",
            "_view_count": null,
            "_view_module": "@jupyter-widgets/controls",
            "_view_module_version": "1.5.0",
            "_view_name": "ProgressView",
            "bar_style": "success",
            "description": "",
            "description_tooltip": null,
            "layout": "IPY_MODEL_080f39edbf3b43cbbee7b4d2cb6681b1",
            "max": 7662,
            "min": 0,
            "orientation": "horizontal",
            "style": "IPY_MODEL_db10a38fc68c41e284a7e4b539effd12",
            "value": 7662
          }
        },
        "5a302b3b390f4a27a6bf2be7d06554a4": {
          "model_module": "@jupyter-widgets/controls",
          "model_name": "HTMLModel",
          "model_module_version": "1.5.0",
          "state": {
            "_dom_classes": [],
            "_model_module": "@jupyter-widgets/controls",
            "_model_module_version": "1.5.0",
            "_model_name": "HTMLModel",
            "_view_count": null,
            "_view_module": "@jupyter-widgets/controls",
            "_view_module_version": "1.5.0",
            "_view_name": "HTMLView",
            "description": "",
            "description_tooltip": null,
            "layout": "IPY_MODEL_a37829153ab44a7c88b7c400de5a53df",
            "placeholder": "​",
            "style": "IPY_MODEL_43c9bf16f0064f07b4f6729159a0728b",
            "value": " 7662/7662 [00:02&lt;00:00, 3707.42 examples/s]"
          }
        },
        "9e73ba029c0a433daea51028c4b6013c": {
          "model_module": "@jupyter-widgets/base",
          "model_name": "LayoutModel",
          "model_module_version": "1.2.0",
          "state": {
            "_model_module": "@jupyter-widgets/base",
            "_model_module_version": "1.2.0",
            "_model_name": "LayoutModel",
            "_view_count": null,
            "_view_module": "@jupyter-widgets/base",
            "_view_module_version": "1.2.0",
            "_view_name": "LayoutView",
            "align_content": null,
            "align_items": null,
            "align_self": null,
            "border": null,
            "bottom": null,
            "display": null,
            "flex": null,
            "flex_flow": null,
            "grid_area": null,
            "grid_auto_columns": null,
            "grid_auto_flow": null,
            "grid_auto_rows": null,
            "grid_column": null,
            "grid_gap": null,
            "grid_row": null,
            "grid_template_areas": null,
            "grid_template_columns": null,
            "grid_template_rows": null,
            "height": null,
            "justify_content": null,
            "justify_items": null,
            "left": null,
            "margin": null,
            "max_height": null,
            "max_width": null,
            "min_height": null,
            "min_width": null,
            "object_fit": null,
            "object_position": null,
            "order": null,
            "overflow": null,
            "overflow_x": null,
            "overflow_y": null,
            "padding": null,
            "right": null,
            "top": null,
            "visibility": null,
            "width": null
          }
        },
        "8c8d8148bb10488ea373163e7e19a42a": {
          "model_module": "@jupyter-widgets/base",
          "model_name": "LayoutModel",
          "model_module_version": "1.2.0",
          "state": {
            "_model_module": "@jupyter-widgets/base",
            "_model_module_version": "1.2.0",
            "_model_name": "LayoutModel",
            "_view_count": null,
            "_view_module": "@jupyter-widgets/base",
            "_view_module_version": "1.2.0",
            "_view_name": "LayoutView",
            "align_content": null,
            "align_items": null,
            "align_self": null,
            "border": null,
            "bottom": null,
            "display": null,
            "flex": null,
            "flex_flow": null,
            "grid_area": null,
            "grid_auto_columns": null,
            "grid_auto_flow": null,
            "grid_auto_rows": null,
            "grid_column": null,
            "grid_gap": null,
            "grid_row": null,
            "grid_template_areas": null,
            "grid_template_columns": null,
            "grid_template_rows": null,
            "height": null,
            "justify_content": null,
            "justify_items": null,
            "left": null,
            "margin": null,
            "max_height": null,
            "max_width": null,
            "min_height": null,
            "min_width": null,
            "object_fit": null,
            "object_position": null,
            "order": null,
            "overflow": null,
            "overflow_x": null,
            "overflow_y": null,
            "padding": null,
            "right": null,
            "top": null,
            "visibility": null,
            "width": null
          }
        },
        "af048d45f3a5408383b9142eae036e88": {
          "model_module": "@jupyter-widgets/controls",
          "model_name": "DescriptionStyleModel",
          "model_module_version": "1.5.0",
          "state": {
            "_model_module": "@jupyter-widgets/controls",
            "_model_module_version": "1.5.0",
            "_model_name": "DescriptionStyleModel",
            "_view_count": null,
            "_view_module": "@jupyter-widgets/base",
            "_view_module_version": "1.2.0",
            "_view_name": "StyleView",
            "description_width": ""
          }
        },
        "080f39edbf3b43cbbee7b4d2cb6681b1": {
          "model_module": "@jupyter-widgets/base",
          "model_name": "LayoutModel",
          "model_module_version": "1.2.0",
          "state": {
            "_model_module": "@jupyter-widgets/base",
            "_model_module_version": "1.2.0",
            "_model_name": "LayoutModel",
            "_view_count": null,
            "_view_module": "@jupyter-widgets/base",
            "_view_module_version": "1.2.0",
            "_view_name": "LayoutView",
            "align_content": null,
            "align_items": null,
            "align_self": null,
            "border": null,
            "bottom": null,
            "display": null,
            "flex": null,
            "flex_flow": null,
            "grid_area": null,
            "grid_auto_columns": null,
            "grid_auto_flow": null,
            "grid_auto_rows": null,
            "grid_column": null,
            "grid_gap": null,
            "grid_row": null,
            "grid_template_areas": null,
            "grid_template_columns": null,
            "grid_template_rows": null,
            "height": null,
            "justify_content": null,
            "justify_items": null,
            "left": null,
            "margin": null,
            "max_height": null,
            "max_width": null,
            "min_height": null,
            "min_width": null,
            "object_fit": null,
            "object_position": null,
            "order": null,
            "overflow": null,
            "overflow_x": null,
            "overflow_y": null,
            "padding": null,
            "right": null,
            "top": null,
            "visibility": null,
            "width": null
          }
        },
        "db10a38fc68c41e284a7e4b539effd12": {
          "model_module": "@jupyter-widgets/controls",
          "model_name": "ProgressStyleModel",
          "model_module_version": "1.5.0",
          "state": {
            "_model_module": "@jupyter-widgets/controls",
            "_model_module_version": "1.5.0",
            "_model_name": "ProgressStyleModel",
            "_view_count": null,
            "_view_module": "@jupyter-widgets/base",
            "_view_module_version": "1.2.0",
            "_view_name": "StyleView",
            "bar_color": null,
            "description_width": ""
          }
        },
        "a37829153ab44a7c88b7c400de5a53df": {
          "model_module": "@jupyter-widgets/base",
          "model_name": "LayoutModel",
          "model_module_version": "1.2.0",
          "state": {
            "_model_module": "@jupyter-widgets/base",
            "_model_module_version": "1.2.0",
            "_model_name": "LayoutModel",
            "_view_count": null,
            "_view_module": "@jupyter-widgets/base",
            "_view_module_version": "1.2.0",
            "_view_name": "LayoutView",
            "align_content": null,
            "align_items": null,
            "align_self": null,
            "border": null,
            "bottom": null,
            "display": null,
            "flex": null,
            "flex_flow": null,
            "grid_area": null,
            "grid_auto_columns": null,
            "grid_auto_flow": null,
            "grid_auto_rows": null,
            "grid_column": null,
            "grid_gap": null,
            "grid_row": null,
            "grid_template_areas": null,
            "grid_template_columns": null,
            "grid_template_rows": null,
            "height": null,
            "justify_content": null,
            "justify_items": null,
            "left": null,
            "margin": null,
            "max_height": null,
            "max_width": null,
            "min_height": null,
            "min_width": null,
            "object_fit": null,
            "object_position": null,
            "order": null,
            "overflow": null,
            "overflow_x": null,
            "overflow_y": null,
            "padding": null,
            "right": null,
            "top": null,
            "visibility": null,
            "width": null
          }
        },
        "43c9bf16f0064f07b4f6729159a0728b": {
          "model_module": "@jupyter-widgets/controls",
          "model_name": "DescriptionStyleModel",
          "model_module_version": "1.5.0",
          "state": {
            "_model_module": "@jupyter-widgets/controls",
            "_model_module_version": "1.5.0",
            "_model_name": "DescriptionStyleModel",
            "_view_count": null,
            "_view_module": "@jupyter-widgets/base",
            "_view_module_version": "1.2.0",
            "_view_name": "StyleView",
            "description_width": ""
          }
        },
        "1f347df549db4d2ab85eb3c61c91f315": {
          "model_module": "@jupyter-widgets/controls",
          "model_name": "HBoxModel",
          "model_module_version": "1.5.0",
          "state": {
            "_dom_classes": [],
            "_model_module": "@jupyter-widgets/controls",
            "_model_module_version": "1.5.0",
            "_model_name": "HBoxModel",
            "_view_count": null,
            "_view_module": "@jupyter-widgets/controls",
            "_view_module_version": "1.5.0",
            "_view_name": "HBoxView",
            "box_style": "",
            "children": [
              "IPY_MODEL_d133f1ffdaad4fe7aabc47a4282f878e",
              "IPY_MODEL_a64d7f7321564b1d8eb71082b8daeb74",
              "IPY_MODEL_f1085d174e744b2e8c4eb9dbafca0a0f"
            ],
            "layout": "IPY_MODEL_a8223e5d3d4146b1bdd8001a54e4216c"
          }
        },
        "d133f1ffdaad4fe7aabc47a4282f878e": {
          "model_module": "@jupyter-widgets/controls",
          "model_name": "HTMLModel",
          "model_module_version": "1.5.0",
          "state": {
            "_dom_classes": [],
            "_model_module": "@jupyter-widgets/controls",
            "_model_module_version": "1.5.0",
            "_model_name": "HTMLModel",
            "_view_count": null,
            "_view_module": "@jupyter-widgets/controls",
            "_view_module_version": "1.5.0",
            "_view_name": "HTMLView",
            "description": "",
            "description_tooltip": null,
            "layout": "IPY_MODEL_5679b14f90f748bc98ae08d4c44a91ab",
            "placeholder": "​",
            "style": "IPY_MODEL_f1ab57eb36764377b7140d1bfc1d8d5c",
            "value": "Map: 100%"
          }
        },
        "a64d7f7321564b1d8eb71082b8daeb74": {
          "model_module": "@jupyter-widgets/controls",
          "model_name": "FloatProgressModel",
          "model_module_version": "1.5.0",
          "state": {
            "_dom_classes": [],
            "_model_module": "@jupyter-widgets/controls",
            "_model_module_version": "1.5.0",
            "_model_name": "FloatProgressModel",
            "_view_count": null,
            "_view_module": "@jupyter-widgets/controls",
            "_view_module_version": "1.5.0",
            "_view_name": "ProgressView",
            "bar_style": "success",
            "description": "",
            "description_tooltip": null,
            "layout": "IPY_MODEL_47bbb37223544903bac992523b76563c",
            "max": 421,
            "min": 0,
            "orientation": "horizontal",
            "style": "IPY_MODEL_c023cd7ef55845b0bc4ebe349212209a",
            "value": 421
          }
        },
        "f1085d174e744b2e8c4eb9dbafca0a0f": {
          "model_module": "@jupyter-widgets/controls",
          "model_name": "HTMLModel",
          "model_module_version": "1.5.0",
          "state": {
            "_dom_classes": [],
            "_model_module": "@jupyter-widgets/controls",
            "_model_module_version": "1.5.0",
            "_model_name": "HTMLModel",
            "_view_count": null,
            "_view_module": "@jupyter-widgets/controls",
            "_view_module_version": "1.5.0",
            "_view_name": "HTMLView",
            "description": "",
            "description_tooltip": null,
            "layout": "IPY_MODEL_02161ed764b04d56b1830dc18d6a5de0",
            "placeholder": "​",
            "style": "IPY_MODEL_c6666f64c22347d783849e33b1b906e3",
            "value": " 421/421 [00:00&lt;00:00, 3697.76 examples/s]"
          }
        },
        "a8223e5d3d4146b1bdd8001a54e4216c": {
          "model_module": "@jupyter-widgets/base",
          "model_name": "LayoutModel",
          "model_module_version": "1.2.0",
          "state": {
            "_model_module": "@jupyter-widgets/base",
            "_model_module_version": "1.2.0",
            "_model_name": "LayoutModel",
            "_view_count": null,
            "_view_module": "@jupyter-widgets/base",
            "_view_module_version": "1.2.0",
            "_view_name": "LayoutView",
            "align_content": null,
            "align_items": null,
            "align_self": null,
            "border": null,
            "bottom": null,
            "display": null,
            "flex": null,
            "flex_flow": null,
            "grid_area": null,
            "grid_auto_columns": null,
            "grid_auto_flow": null,
            "grid_auto_rows": null,
            "grid_column": null,
            "grid_gap": null,
            "grid_row": null,
            "grid_template_areas": null,
            "grid_template_columns": null,
            "grid_template_rows": null,
            "height": null,
            "justify_content": null,
            "justify_items": null,
            "left": null,
            "margin": null,
            "max_height": null,
            "max_width": null,
            "min_height": null,
            "min_width": null,
            "object_fit": null,
            "object_position": null,
            "order": null,
            "overflow": null,
            "overflow_x": null,
            "overflow_y": null,
            "padding": null,
            "right": null,
            "top": null,
            "visibility": null,
            "width": null
          }
        },
        "5679b14f90f748bc98ae08d4c44a91ab": {
          "model_module": "@jupyter-widgets/base",
          "model_name": "LayoutModel",
          "model_module_version": "1.2.0",
          "state": {
            "_model_module": "@jupyter-widgets/base",
            "_model_module_version": "1.2.0",
            "_model_name": "LayoutModel",
            "_view_count": null,
            "_view_module": "@jupyter-widgets/base",
            "_view_module_version": "1.2.0",
            "_view_name": "LayoutView",
            "align_content": null,
            "align_items": null,
            "align_self": null,
            "border": null,
            "bottom": null,
            "display": null,
            "flex": null,
            "flex_flow": null,
            "grid_area": null,
            "grid_auto_columns": null,
            "grid_auto_flow": null,
            "grid_auto_rows": null,
            "grid_column": null,
            "grid_gap": null,
            "grid_row": null,
            "grid_template_areas": null,
            "grid_template_columns": null,
            "grid_template_rows": null,
            "height": null,
            "justify_content": null,
            "justify_items": null,
            "left": null,
            "margin": null,
            "max_height": null,
            "max_width": null,
            "min_height": null,
            "min_width": null,
            "object_fit": null,
            "object_position": null,
            "order": null,
            "overflow": null,
            "overflow_x": null,
            "overflow_y": null,
            "padding": null,
            "right": null,
            "top": null,
            "visibility": null,
            "width": null
          }
        },
        "f1ab57eb36764377b7140d1bfc1d8d5c": {
          "model_module": "@jupyter-widgets/controls",
          "model_name": "DescriptionStyleModel",
          "model_module_version": "1.5.0",
          "state": {
            "_model_module": "@jupyter-widgets/controls",
            "_model_module_version": "1.5.0",
            "_model_name": "DescriptionStyleModel",
            "_view_count": null,
            "_view_module": "@jupyter-widgets/base",
            "_view_module_version": "1.2.0",
            "_view_name": "StyleView",
            "description_width": ""
          }
        },
        "47bbb37223544903bac992523b76563c": {
          "model_module": "@jupyter-widgets/base",
          "model_name": "LayoutModel",
          "model_module_version": "1.2.0",
          "state": {
            "_model_module": "@jupyter-widgets/base",
            "_model_module_version": "1.2.0",
            "_model_name": "LayoutModel",
            "_view_count": null,
            "_view_module": "@jupyter-widgets/base",
            "_view_module_version": "1.2.0",
            "_view_name": "LayoutView",
            "align_content": null,
            "align_items": null,
            "align_self": null,
            "border": null,
            "bottom": null,
            "display": null,
            "flex": null,
            "flex_flow": null,
            "grid_area": null,
            "grid_auto_columns": null,
            "grid_auto_flow": null,
            "grid_auto_rows": null,
            "grid_column": null,
            "grid_gap": null,
            "grid_row": null,
            "grid_template_areas": null,
            "grid_template_columns": null,
            "grid_template_rows": null,
            "height": null,
            "justify_content": null,
            "justify_items": null,
            "left": null,
            "margin": null,
            "max_height": null,
            "max_width": null,
            "min_height": null,
            "min_width": null,
            "object_fit": null,
            "object_position": null,
            "order": null,
            "overflow": null,
            "overflow_x": null,
            "overflow_y": null,
            "padding": null,
            "right": null,
            "top": null,
            "visibility": null,
            "width": null
          }
        },
        "c023cd7ef55845b0bc4ebe349212209a": {
          "model_module": "@jupyter-widgets/controls",
          "model_name": "ProgressStyleModel",
          "model_module_version": "1.5.0",
          "state": {
            "_model_module": "@jupyter-widgets/controls",
            "_model_module_version": "1.5.0",
            "_model_name": "ProgressStyleModel",
            "_view_count": null,
            "_view_module": "@jupyter-widgets/base",
            "_view_module_version": "1.2.0",
            "_view_name": "StyleView",
            "bar_color": null,
            "description_width": ""
          }
        },
        "02161ed764b04d56b1830dc18d6a5de0": {
          "model_module": "@jupyter-widgets/base",
          "model_name": "LayoutModel",
          "model_module_version": "1.2.0",
          "state": {
            "_model_module": "@jupyter-widgets/base",
            "_model_module_version": "1.2.0",
            "_model_name": "LayoutModel",
            "_view_count": null,
            "_view_module": "@jupyter-widgets/base",
            "_view_module_version": "1.2.0",
            "_view_name": "LayoutView",
            "align_content": null,
            "align_items": null,
            "align_self": null,
            "border": null,
            "bottom": null,
            "display": null,
            "flex": null,
            "flex_flow": null,
            "grid_area": null,
            "grid_auto_columns": null,
            "grid_auto_flow": null,
            "grid_auto_rows": null,
            "grid_column": null,
            "grid_gap": null,
            "grid_row": null,
            "grid_template_areas": null,
            "grid_template_columns": null,
            "grid_template_rows": null,
            "height": null,
            "justify_content": null,
            "justify_items": null,
            "left": null,
            "margin": null,
            "max_height": null,
            "max_width": null,
            "min_height": null,
            "min_width": null,
            "object_fit": null,
            "object_position": null,
            "order": null,
            "overflow": null,
            "overflow_x": null,
            "overflow_y": null,
            "padding": null,
            "right": null,
            "top": null,
            "visibility": null,
            "width": null
          }
        },
        "c6666f64c22347d783849e33b1b906e3": {
          "model_module": "@jupyter-widgets/controls",
          "model_name": "DescriptionStyleModel",
          "model_module_version": "1.5.0",
          "state": {
            "_model_module": "@jupyter-widgets/controls",
            "_model_module_version": "1.5.0",
            "_model_name": "DescriptionStyleModel",
            "_view_count": null,
            "_view_module": "@jupyter-widgets/base",
            "_view_module_version": "1.2.0",
            "_view_name": "StyleView",
            "description_width": ""
          }
        },
        "a61344fab07b4fb5bf93f46db988edd9": {
          "model_module": "@jupyter-widgets/controls",
          "model_name": "HBoxModel",
          "model_module_version": "1.5.0",
          "state": {
            "_dom_classes": [],
            "_model_module": "@jupyter-widgets/controls",
            "_model_module_version": "1.5.0",
            "_model_name": "HBoxModel",
            "_view_count": null,
            "_view_module": "@jupyter-widgets/controls",
            "_view_module_version": "1.5.0",
            "_view_name": "HBoxView",
            "box_style": "",
            "children": [
              "IPY_MODEL_6f06fd28baf5446f8d36f192bf146f6b",
              "IPY_MODEL_e57f18352b7447b89325aab6b2852f21",
              "IPY_MODEL_a583b2d5dd174a11bbddd489f999957c"
            ],
            "layout": "IPY_MODEL_53f4ff0116d74432bf45b994d9d4504a"
          }
        },
        "6f06fd28baf5446f8d36f192bf146f6b": {
          "model_module": "@jupyter-widgets/controls",
          "model_name": "HTMLModel",
          "model_module_version": "1.5.0",
          "state": {
            "_dom_classes": [],
            "_model_module": "@jupyter-widgets/controls",
            "_model_module_version": "1.5.0",
            "_model_name": "HTMLModel",
            "_view_count": null,
            "_view_module": "@jupyter-widgets/controls",
            "_view_module_version": "1.5.0",
            "_view_name": "HTMLView",
            "description": "",
            "description_tooltip": null,
            "layout": "IPY_MODEL_dca2a1860ef04d7ba56856a0ce8ca1a6",
            "placeholder": "​",
            "style": "IPY_MODEL_1837661d2cbb431dab05a5d341c6b7c6",
            "value": "Map: 100%"
          }
        },
        "e57f18352b7447b89325aab6b2852f21": {
          "model_module": "@jupyter-widgets/controls",
          "model_name": "FloatProgressModel",
          "model_module_version": "1.5.0",
          "state": {
            "_dom_classes": [],
            "_model_module": "@jupyter-widgets/controls",
            "_model_module_version": "1.5.0",
            "_model_name": "FloatProgressModel",
            "_view_count": null,
            "_view_module": "@jupyter-widgets/controls",
            "_view_module_version": "1.5.0",
            "_view_name": "ProgressView",
            "bar_style": "success",
            "description": "",
            "description_tooltip": null,
            "layout": "IPY_MODEL_912f7ff689b14694b745606b96853b24",
            "max": 917,
            "min": 0,
            "orientation": "horizontal",
            "style": "IPY_MODEL_a3a21cdc2d9040439a7f5a345955313b",
            "value": 917
          }
        },
        "a583b2d5dd174a11bbddd489f999957c": {
          "model_module": "@jupyter-widgets/controls",
          "model_name": "HTMLModel",
          "model_module_version": "1.5.0",
          "state": {
            "_dom_classes": [],
            "_model_module": "@jupyter-widgets/controls",
            "_model_module_version": "1.5.0",
            "_model_name": "HTMLModel",
            "_view_count": null,
            "_view_module": "@jupyter-widgets/controls",
            "_view_module_version": "1.5.0",
            "_view_name": "HTMLView",
            "description": "",
            "description_tooltip": null,
            "layout": "IPY_MODEL_af64e9de9c344f7da1af46a60d96592d",
            "placeholder": "​",
            "style": "IPY_MODEL_5a965eac4f7c41189c0707f12ba7f2b6",
            "value": " 917/917 [00:00&lt;00:00, 3895.59 examples/s]"
          }
        },
        "53f4ff0116d74432bf45b994d9d4504a": {
          "model_module": "@jupyter-widgets/base",
          "model_name": "LayoutModel",
          "model_module_version": "1.2.0",
          "state": {
            "_model_module": "@jupyter-widgets/base",
            "_model_module_version": "1.2.0",
            "_model_name": "LayoutModel",
            "_view_count": null,
            "_view_module": "@jupyter-widgets/base",
            "_view_module_version": "1.2.0",
            "_view_name": "LayoutView",
            "align_content": null,
            "align_items": null,
            "align_self": null,
            "border": null,
            "bottom": null,
            "display": null,
            "flex": null,
            "flex_flow": null,
            "grid_area": null,
            "grid_auto_columns": null,
            "grid_auto_flow": null,
            "grid_auto_rows": null,
            "grid_column": null,
            "grid_gap": null,
            "grid_row": null,
            "grid_template_areas": null,
            "grid_template_columns": null,
            "grid_template_rows": null,
            "height": null,
            "justify_content": null,
            "justify_items": null,
            "left": null,
            "margin": null,
            "max_height": null,
            "max_width": null,
            "min_height": null,
            "min_width": null,
            "object_fit": null,
            "object_position": null,
            "order": null,
            "overflow": null,
            "overflow_x": null,
            "overflow_y": null,
            "padding": null,
            "right": null,
            "top": null,
            "visibility": null,
            "width": null
          }
        },
        "dca2a1860ef04d7ba56856a0ce8ca1a6": {
          "model_module": "@jupyter-widgets/base",
          "model_name": "LayoutModel",
          "model_module_version": "1.2.0",
          "state": {
            "_model_module": "@jupyter-widgets/base",
            "_model_module_version": "1.2.0",
            "_model_name": "LayoutModel",
            "_view_count": null,
            "_view_module": "@jupyter-widgets/base",
            "_view_module_version": "1.2.0",
            "_view_name": "LayoutView",
            "align_content": null,
            "align_items": null,
            "align_self": null,
            "border": null,
            "bottom": null,
            "display": null,
            "flex": null,
            "flex_flow": null,
            "grid_area": null,
            "grid_auto_columns": null,
            "grid_auto_flow": null,
            "grid_auto_rows": null,
            "grid_column": null,
            "grid_gap": null,
            "grid_row": null,
            "grid_template_areas": null,
            "grid_template_columns": null,
            "grid_template_rows": null,
            "height": null,
            "justify_content": null,
            "justify_items": null,
            "left": null,
            "margin": null,
            "max_height": null,
            "max_width": null,
            "min_height": null,
            "min_width": null,
            "object_fit": null,
            "object_position": null,
            "order": null,
            "overflow": null,
            "overflow_x": null,
            "overflow_y": null,
            "padding": null,
            "right": null,
            "top": null,
            "visibility": null,
            "width": null
          }
        },
        "1837661d2cbb431dab05a5d341c6b7c6": {
          "model_module": "@jupyter-widgets/controls",
          "model_name": "DescriptionStyleModel",
          "model_module_version": "1.5.0",
          "state": {
            "_model_module": "@jupyter-widgets/controls",
            "_model_module_version": "1.5.0",
            "_model_name": "DescriptionStyleModel",
            "_view_count": null,
            "_view_module": "@jupyter-widgets/base",
            "_view_module_version": "1.2.0",
            "_view_name": "StyleView",
            "description_width": ""
          }
        },
        "912f7ff689b14694b745606b96853b24": {
          "model_module": "@jupyter-widgets/base",
          "model_name": "LayoutModel",
          "model_module_version": "1.2.0",
          "state": {
            "_model_module": "@jupyter-widgets/base",
            "_model_module_version": "1.2.0",
            "_model_name": "LayoutModel",
            "_view_count": null,
            "_view_module": "@jupyter-widgets/base",
            "_view_module_version": "1.2.0",
            "_view_name": "LayoutView",
            "align_content": null,
            "align_items": null,
            "align_self": null,
            "border": null,
            "bottom": null,
            "display": null,
            "flex": null,
            "flex_flow": null,
            "grid_area": null,
            "grid_auto_columns": null,
            "grid_auto_flow": null,
            "grid_auto_rows": null,
            "grid_column": null,
            "grid_gap": null,
            "grid_row": null,
            "grid_template_areas": null,
            "grid_template_columns": null,
            "grid_template_rows": null,
            "height": null,
            "justify_content": null,
            "justify_items": null,
            "left": null,
            "margin": null,
            "max_height": null,
            "max_width": null,
            "min_height": null,
            "min_width": null,
            "object_fit": null,
            "object_position": null,
            "order": null,
            "overflow": null,
            "overflow_x": null,
            "overflow_y": null,
            "padding": null,
            "right": null,
            "top": null,
            "visibility": null,
            "width": null
          }
        },
        "a3a21cdc2d9040439a7f5a345955313b": {
          "model_module": "@jupyter-widgets/controls",
          "model_name": "ProgressStyleModel",
          "model_module_version": "1.5.0",
          "state": {
            "_model_module": "@jupyter-widgets/controls",
            "_model_module_version": "1.5.0",
            "_model_name": "ProgressStyleModel",
            "_view_count": null,
            "_view_module": "@jupyter-widgets/base",
            "_view_module_version": "1.2.0",
            "_view_name": "StyleView",
            "bar_color": null,
            "description_width": ""
          }
        },
        "af64e9de9c344f7da1af46a60d96592d": {
          "model_module": "@jupyter-widgets/base",
          "model_name": "LayoutModel",
          "model_module_version": "1.2.0",
          "state": {
            "_model_module": "@jupyter-widgets/base",
            "_model_module_version": "1.2.0",
            "_model_name": "LayoutModel",
            "_view_count": null,
            "_view_module": "@jupyter-widgets/base",
            "_view_module_version": "1.2.0",
            "_view_name": "LayoutView",
            "align_content": null,
            "align_items": null,
            "align_self": null,
            "border": null,
            "bottom": null,
            "display": null,
            "flex": null,
            "flex_flow": null,
            "grid_area": null,
            "grid_auto_columns": null,
            "grid_auto_flow": null,
            "grid_auto_rows": null,
            "grid_column": null,
            "grid_gap": null,
            "grid_row": null,
            "grid_template_areas": null,
            "grid_template_columns": null,
            "grid_template_rows": null,
            "height": null,
            "justify_content": null,
            "justify_items": null,
            "left": null,
            "margin": null,
            "max_height": null,
            "max_width": null,
            "min_height": null,
            "min_width": null,
            "object_fit": null,
            "object_position": null,
            "order": null,
            "overflow": null,
            "overflow_x": null,
            "overflow_y": null,
            "padding": null,
            "right": null,
            "top": null,
            "visibility": null,
            "width": null
          }
        },
        "5a965eac4f7c41189c0707f12ba7f2b6": {
          "model_module": "@jupyter-widgets/controls",
          "model_name": "DescriptionStyleModel",
          "model_module_version": "1.5.0",
          "state": {
            "_model_module": "@jupyter-widgets/controls",
            "_model_module_version": "1.5.0",
            "_model_name": "DescriptionStyleModel",
            "_view_count": null,
            "_view_module": "@jupyter-widgets/base",
            "_view_module_version": "1.2.0",
            "_view_name": "StyleView",
            "description_width": ""
          }
        },
        "537267f3d33f4970b3358183c5acf300": {
          "model_module": "@jupyter-widgets/controls",
          "model_name": "HBoxModel",
          "model_module_version": "1.5.0",
          "state": {
            "_dom_classes": [],
            "_model_module": "@jupyter-widgets/controls",
            "_model_module_version": "1.5.0",
            "_model_name": "HBoxModel",
            "_view_count": null,
            "_view_module": "@jupyter-widgets/controls",
            "_view_module_version": "1.5.0",
            "_view_name": "HBoxView",
            "box_style": "",
            "children": [
              "IPY_MODEL_f7e9384cd73942ed8aec0e5433abf2ee",
              "IPY_MODEL_dab6b0d24a724c5097811e92ca657759",
              "IPY_MODEL_c081ca7a05504a72b9374e3e60d97b96"
            ],
            "layout": "IPY_MODEL_8f0dbdf37b284ed987cf57c60507759e"
          }
        },
        "f7e9384cd73942ed8aec0e5433abf2ee": {
          "model_module": "@jupyter-widgets/controls",
          "model_name": "HTMLModel",
          "model_module_version": "1.5.0",
          "state": {
            "_dom_classes": [],
            "_model_module": "@jupyter-widgets/controls",
            "_model_module_version": "1.5.0",
            "_model_name": "HTMLModel",
            "_view_count": null,
            "_view_module": "@jupyter-widgets/controls",
            "_view_module_version": "1.5.0",
            "_view_name": "HTMLView",
            "description": "",
            "description_tooltip": null,
            "layout": "IPY_MODEL_5963fb53db87437b907486e5659b7aae",
            "placeholder": "​",
            "style": "IPY_MODEL_42bdba65ae2f4b4aa91b0891499c31a1",
            "value": "Map: 100%"
          }
        },
        "dab6b0d24a724c5097811e92ca657759": {
          "model_module": "@jupyter-widgets/controls",
          "model_name": "FloatProgressModel",
          "model_module_version": "1.5.0",
          "state": {
            "_dom_classes": [],
            "_model_module": "@jupyter-widgets/controls",
            "_model_module_version": "1.5.0",
            "_model_name": "FloatProgressModel",
            "_view_count": null,
            "_view_module": "@jupyter-widgets/controls",
            "_view_module_version": "1.5.0",
            "_view_name": "ProgressView",
            "bar_style": "success",
            "description": "",
            "description_tooltip": null,
            "layout": "IPY_MODEL_77d03afeb4334caa8012cbdaef058df2",
            "max": 7662,
            "min": 0,
            "orientation": "horizontal",
            "style": "IPY_MODEL_2e9a8337e1624d58a88a5a38ad1db9c0",
            "value": 7662
          }
        },
        "c081ca7a05504a72b9374e3e60d97b96": {
          "model_module": "@jupyter-widgets/controls",
          "model_name": "HTMLModel",
          "model_module_version": "1.5.0",
          "state": {
            "_dom_classes": [],
            "_model_module": "@jupyter-widgets/controls",
            "_model_module_version": "1.5.0",
            "_model_name": "HTMLModel",
            "_view_count": null,
            "_view_module": "@jupyter-widgets/controls",
            "_view_module_version": "1.5.0",
            "_view_name": "HTMLView",
            "description": "",
            "description_tooltip": null,
            "layout": "IPY_MODEL_1526bf99aa4048e4be9aa6da34ee1f0e",
            "placeholder": "​",
            "style": "IPY_MODEL_350267edbe4e49c7918d9b1908ac9638",
            "value": " 7662/7662 [00:01&lt;00:00, 4515.30 examples/s]"
          }
        },
        "8f0dbdf37b284ed987cf57c60507759e": {
          "model_module": "@jupyter-widgets/base",
          "model_name": "LayoutModel",
          "model_module_version": "1.2.0",
          "state": {
            "_model_module": "@jupyter-widgets/base",
            "_model_module_version": "1.2.0",
            "_model_name": "LayoutModel",
            "_view_count": null,
            "_view_module": "@jupyter-widgets/base",
            "_view_module_version": "1.2.0",
            "_view_name": "LayoutView",
            "align_content": null,
            "align_items": null,
            "align_self": null,
            "border": null,
            "bottom": null,
            "display": null,
            "flex": null,
            "flex_flow": null,
            "grid_area": null,
            "grid_auto_columns": null,
            "grid_auto_flow": null,
            "grid_auto_rows": null,
            "grid_column": null,
            "grid_gap": null,
            "grid_row": null,
            "grid_template_areas": null,
            "grid_template_columns": null,
            "grid_template_rows": null,
            "height": null,
            "justify_content": null,
            "justify_items": null,
            "left": null,
            "margin": null,
            "max_height": null,
            "max_width": null,
            "min_height": null,
            "min_width": null,
            "object_fit": null,
            "object_position": null,
            "order": null,
            "overflow": null,
            "overflow_x": null,
            "overflow_y": null,
            "padding": null,
            "right": null,
            "top": null,
            "visibility": null,
            "width": null
          }
        },
        "5963fb53db87437b907486e5659b7aae": {
          "model_module": "@jupyter-widgets/base",
          "model_name": "LayoutModel",
          "model_module_version": "1.2.0",
          "state": {
            "_model_module": "@jupyter-widgets/base",
            "_model_module_version": "1.2.0",
            "_model_name": "LayoutModel",
            "_view_count": null,
            "_view_module": "@jupyter-widgets/base",
            "_view_module_version": "1.2.0",
            "_view_name": "LayoutView",
            "align_content": null,
            "align_items": null,
            "align_self": null,
            "border": null,
            "bottom": null,
            "display": null,
            "flex": null,
            "flex_flow": null,
            "grid_area": null,
            "grid_auto_columns": null,
            "grid_auto_flow": null,
            "grid_auto_rows": null,
            "grid_column": null,
            "grid_gap": null,
            "grid_row": null,
            "grid_template_areas": null,
            "grid_template_columns": null,
            "grid_template_rows": null,
            "height": null,
            "justify_content": null,
            "justify_items": null,
            "left": null,
            "margin": null,
            "max_height": null,
            "max_width": null,
            "min_height": null,
            "min_width": null,
            "object_fit": null,
            "object_position": null,
            "order": null,
            "overflow": null,
            "overflow_x": null,
            "overflow_y": null,
            "padding": null,
            "right": null,
            "top": null,
            "visibility": null,
            "width": null
          }
        },
        "42bdba65ae2f4b4aa91b0891499c31a1": {
          "model_module": "@jupyter-widgets/controls",
          "model_name": "DescriptionStyleModel",
          "model_module_version": "1.5.0",
          "state": {
            "_model_module": "@jupyter-widgets/controls",
            "_model_module_version": "1.5.0",
            "_model_name": "DescriptionStyleModel",
            "_view_count": null,
            "_view_module": "@jupyter-widgets/base",
            "_view_module_version": "1.2.0",
            "_view_name": "StyleView",
            "description_width": ""
          }
        },
        "77d03afeb4334caa8012cbdaef058df2": {
          "model_module": "@jupyter-widgets/base",
          "model_name": "LayoutModel",
          "model_module_version": "1.2.0",
          "state": {
            "_model_module": "@jupyter-widgets/base",
            "_model_module_version": "1.2.0",
            "_model_name": "LayoutModel",
            "_view_count": null,
            "_view_module": "@jupyter-widgets/base",
            "_view_module_version": "1.2.0",
            "_view_name": "LayoutView",
            "align_content": null,
            "align_items": null,
            "align_self": null,
            "border": null,
            "bottom": null,
            "display": null,
            "flex": null,
            "flex_flow": null,
            "grid_area": null,
            "grid_auto_columns": null,
            "grid_auto_flow": null,
            "grid_auto_rows": null,
            "grid_column": null,
            "grid_gap": null,
            "grid_row": null,
            "grid_template_areas": null,
            "grid_template_columns": null,
            "grid_template_rows": null,
            "height": null,
            "justify_content": null,
            "justify_items": null,
            "left": null,
            "margin": null,
            "max_height": null,
            "max_width": null,
            "min_height": null,
            "min_width": null,
            "object_fit": null,
            "object_position": null,
            "order": null,
            "overflow": null,
            "overflow_x": null,
            "overflow_y": null,
            "padding": null,
            "right": null,
            "top": null,
            "visibility": null,
            "width": null
          }
        },
        "2e9a8337e1624d58a88a5a38ad1db9c0": {
          "model_module": "@jupyter-widgets/controls",
          "model_name": "ProgressStyleModel",
          "model_module_version": "1.5.0",
          "state": {
            "_model_module": "@jupyter-widgets/controls",
            "_model_module_version": "1.5.0",
            "_model_name": "ProgressStyleModel",
            "_view_count": null,
            "_view_module": "@jupyter-widgets/base",
            "_view_module_version": "1.2.0",
            "_view_name": "StyleView",
            "bar_color": null,
            "description_width": ""
          }
        },
        "1526bf99aa4048e4be9aa6da34ee1f0e": {
          "model_module": "@jupyter-widgets/base",
          "model_name": "LayoutModel",
          "model_module_version": "1.2.0",
          "state": {
            "_model_module": "@jupyter-widgets/base",
            "_model_module_version": "1.2.0",
            "_model_name": "LayoutModel",
            "_view_count": null,
            "_view_module": "@jupyter-widgets/base",
            "_view_module_version": "1.2.0",
            "_view_name": "LayoutView",
            "align_content": null,
            "align_items": null,
            "align_self": null,
            "border": null,
            "bottom": null,
            "display": null,
            "flex": null,
            "flex_flow": null,
            "grid_area": null,
            "grid_auto_columns": null,
            "grid_auto_flow": null,
            "grid_auto_rows": null,
            "grid_column": null,
            "grid_gap": null,
            "grid_row": null,
            "grid_template_areas": null,
            "grid_template_columns": null,
            "grid_template_rows": null,
            "height": null,
            "justify_content": null,
            "justify_items": null,
            "left": null,
            "margin": null,
            "max_height": null,
            "max_width": null,
            "min_height": null,
            "min_width": null,
            "object_fit": null,
            "object_position": null,
            "order": null,
            "overflow": null,
            "overflow_x": null,
            "overflow_y": null,
            "padding": null,
            "right": null,
            "top": null,
            "visibility": null,
            "width": null
          }
        },
        "350267edbe4e49c7918d9b1908ac9638": {
          "model_module": "@jupyter-widgets/controls",
          "model_name": "DescriptionStyleModel",
          "model_module_version": "1.5.0",
          "state": {
            "_model_module": "@jupyter-widgets/controls",
            "_model_module_version": "1.5.0",
            "_model_name": "DescriptionStyleModel",
            "_view_count": null,
            "_view_module": "@jupyter-widgets/base",
            "_view_module_version": "1.2.0",
            "_view_name": "StyleView",
            "description_width": ""
          }
        },
        "b49f33d491ae4ec0b12f3aa29fe9f976": {
          "model_module": "@jupyter-widgets/controls",
          "model_name": "HBoxModel",
          "model_module_version": "1.5.0",
          "state": {
            "_dom_classes": [],
            "_model_module": "@jupyter-widgets/controls",
            "_model_module_version": "1.5.0",
            "_model_name": "HBoxModel",
            "_view_count": null,
            "_view_module": "@jupyter-widgets/controls",
            "_view_module_version": "1.5.0",
            "_view_name": "HBoxView",
            "box_style": "",
            "children": [
              "IPY_MODEL_21bee0a7a1104131ad13f3af7f55ca72",
              "IPY_MODEL_110973823b1d4d42a6d3b538ec20cd07",
              "IPY_MODEL_a335def1552747df94f53087fda3172c"
            ],
            "layout": "IPY_MODEL_cd79c05a8ae34548a80740e77e784d9f"
          }
        },
        "21bee0a7a1104131ad13f3af7f55ca72": {
          "model_module": "@jupyter-widgets/controls",
          "model_name": "HTMLModel",
          "model_module_version": "1.5.0",
          "state": {
            "_dom_classes": [],
            "_model_module": "@jupyter-widgets/controls",
            "_model_module_version": "1.5.0",
            "_model_name": "HTMLModel",
            "_view_count": null,
            "_view_module": "@jupyter-widgets/controls",
            "_view_module_version": "1.5.0",
            "_view_name": "HTMLView",
            "description": "",
            "description_tooltip": null,
            "layout": "IPY_MODEL_11c3d525696d4ec4b5b0dcc044b584db",
            "placeholder": "​",
            "style": "IPY_MODEL_aa0bcc44671848cdb7f7f92614f56980",
            "value": "Map: 100%"
          }
        },
        "110973823b1d4d42a6d3b538ec20cd07": {
          "model_module": "@jupyter-widgets/controls",
          "model_name": "FloatProgressModel",
          "model_module_version": "1.5.0",
          "state": {
            "_dom_classes": [],
            "_model_module": "@jupyter-widgets/controls",
            "_model_module_version": "1.5.0",
            "_model_name": "FloatProgressModel",
            "_view_count": null,
            "_view_module": "@jupyter-widgets/controls",
            "_view_module_version": "1.5.0",
            "_view_name": "ProgressView",
            "bar_style": "success",
            "description": "",
            "description_tooltip": null,
            "layout": "IPY_MODEL_be771883874942ef8100dabacd339a70",
            "max": 421,
            "min": 0,
            "orientation": "horizontal",
            "style": "IPY_MODEL_923b03deffcc430c877949e503cb3dfd",
            "value": 421
          }
        },
        "a335def1552747df94f53087fda3172c": {
          "model_module": "@jupyter-widgets/controls",
          "model_name": "HTMLModel",
          "model_module_version": "1.5.0",
          "state": {
            "_dom_classes": [],
            "_model_module": "@jupyter-widgets/controls",
            "_model_module_version": "1.5.0",
            "_model_name": "HTMLModel",
            "_view_count": null,
            "_view_module": "@jupyter-widgets/controls",
            "_view_module_version": "1.5.0",
            "_view_name": "HTMLView",
            "description": "",
            "description_tooltip": null,
            "layout": "IPY_MODEL_5e4bbf603ebb423faa3fd68a3995052f",
            "placeholder": "​",
            "style": "IPY_MODEL_b93ae3c6a68d49b58567b5608966e436",
            "value": " 421/421 [00:00&lt;00:00, 4432.27 examples/s]"
          }
        },
        "cd79c05a8ae34548a80740e77e784d9f": {
          "model_module": "@jupyter-widgets/base",
          "model_name": "LayoutModel",
          "model_module_version": "1.2.0",
          "state": {
            "_model_module": "@jupyter-widgets/base",
            "_model_module_version": "1.2.0",
            "_model_name": "LayoutModel",
            "_view_count": null,
            "_view_module": "@jupyter-widgets/base",
            "_view_module_version": "1.2.0",
            "_view_name": "LayoutView",
            "align_content": null,
            "align_items": null,
            "align_self": null,
            "border": null,
            "bottom": null,
            "display": null,
            "flex": null,
            "flex_flow": null,
            "grid_area": null,
            "grid_auto_columns": null,
            "grid_auto_flow": null,
            "grid_auto_rows": null,
            "grid_column": null,
            "grid_gap": null,
            "grid_row": null,
            "grid_template_areas": null,
            "grid_template_columns": null,
            "grid_template_rows": null,
            "height": null,
            "justify_content": null,
            "justify_items": null,
            "left": null,
            "margin": null,
            "max_height": null,
            "max_width": null,
            "min_height": null,
            "min_width": null,
            "object_fit": null,
            "object_position": null,
            "order": null,
            "overflow": null,
            "overflow_x": null,
            "overflow_y": null,
            "padding": null,
            "right": null,
            "top": null,
            "visibility": null,
            "width": null
          }
        },
        "11c3d525696d4ec4b5b0dcc044b584db": {
          "model_module": "@jupyter-widgets/base",
          "model_name": "LayoutModel",
          "model_module_version": "1.2.0",
          "state": {
            "_model_module": "@jupyter-widgets/base",
            "_model_module_version": "1.2.0",
            "_model_name": "LayoutModel",
            "_view_count": null,
            "_view_module": "@jupyter-widgets/base",
            "_view_module_version": "1.2.0",
            "_view_name": "LayoutView",
            "align_content": null,
            "align_items": null,
            "align_self": null,
            "border": null,
            "bottom": null,
            "display": null,
            "flex": null,
            "flex_flow": null,
            "grid_area": null,
            "grid_auto_columns": null,
            "grid_auto_flow": null,
            "grid_auto_rows": null,
            "grid_column": null,
            "grid_gap": null,
            "grid_row": null,
            "grid_template_areas": null,
            "grid_template_columns": null,
            "grid_template_rows": null,
            "height": null,
            "justify_content": null,
            "justify_items": null,
            "left": null,
            "margin": null,
            "max_height": null,
            "max_width": null,
            "min_height": null,
            "min_width": null,
            "object_fit": null,
            "object_position": null,
            "order": null,
            "overflow": null,
            "overflow_x": null,
            "overflow_y": null,
            "padding": null,
            "right": null,
            "top": null,
            "visibility": null,
            "width": null
          }
        },
        "aa0bcc44671848cdb7f7f92614f56980": {
          "model_module": "@jupyter-widgets/controls",
          "model_name": "DescriptionStyleModel",
          "model_module_version": "1.5.0",
          "state": {
            "_model_module": "@jupyter-widgets/controls",
            "_model_module_version": "1.5.0",
            "_model_name": "DescriptionStyleModel",
            "_view_count": null,
            "_view_module": "@jupyter-widgets/base",
            "_view_module_version": "1.2.0",
            "_view_name": "StyleView",
            "description_width": ""
          }
        },
        "be771883874942ef8100dabacd339a70": {
          "model_module": "@jupyter-widgets/base",
          "model_name": "LayoutModel",
          "model_module_version": "1.2.0",
          "state": {
            "_model_module": "@jupyter-widgets/base",
            "_model_module_version": "1.2.0",
            "_model_name": "LayoutModel",
            "_view_count": null,
            "_view_module": "@jupyter-widgets/base",
            "_view_module_version": "1.2.0",
            "_view_name": "LayoutView",
            "align_content": null,
            "align_items": null,
            "align_self": null,
            "border": null,
            "bottom": null,
            "display": null,
            "flex": null,
            "flex_flow": null,
            "grid_area": null,
            "grid_auto_columns": null,
            "grid_auto_flow": null,
            "grid_auto_rows": null,
            "grid_column": null,
            "grid_gap": null,
            "grid_row": null,
            "grid_template_areas": null,
            "grid_template_columns": null,
            "grid_template_rows": null,
            "height": null,
            "justify_content": null,
            "justify_items": null,
            "left": null,
            "margin": null,
            "max_height": null,
            "max_width": null,
            "min_height": null,
            "min_width": null,
            "object_fit": null,
            "object_position": null,
            "order": null,
            "overflow": null,
            "overflow_x": null,
            "overflow_y": null,
            "padding": null,
            "right": null,
            "top": null,
            "visibility": null,
            "width": null
          }
        },
        "923b03deffcc430c877949e503cb3dfd": {
          "model_module": "@jupyter-widgets/controls",
          "model_name": "ProgressStyleModel",
          "model_module_version": "1.5.0",
          "state": {
            "_model_module": "@jupyter-widgets/controls",
            "_model_module_version": "1.5.0",
            "_model_name": "ProgressStyleModel",
            "_view_count": null,
            "_view_module": "@jupyter-widgets/base",
            "_view_module_version": "1.2.0",
            "_view_name": "StyleView",
            "bar_color": null,
            "description_width": ""
          }
        },
        "5e4bbf603ebb423faa3fd68a3995052f": {
          "model_module": "@jupyter-widgets/base",
          "model_name": "LayoutModel",
          "model_module_version": "1.2.0",
          "state": {
            "_model_module": "@jupyter-widgets/base",
            "_model_module_version": "1.2.0",
            "_model_name": "LayoutModel",
            "_view_count": null,
            "_view_module": "@jupyter-widgets/base",
            "_view_module_version": "1.2.0",
            "_view_name": "LayoutView",
            "align_content": null,
            "align_items": null,
            "align_self": null,
            "border": null,
            "bottom": null,
            "display": null,
            "flex": null,
            "flex_flow": null,
            "grid_area": null,
            "grid_auto_columns": null,
            "grid_auto_flow": null,
            "grid_auto_rows": null,
            "grid_column": null,
            "grid_gap": null,
            "grid_row": null,
            "grid_template_areas": null,
            "grid_template_columns": null,
            "grid_template_rows": null,
            "height": null,
            "justify_content": null,
            "justify_items": null,
            "left": null,
            "margin": null,
            "max_height": null,
            "max_width": null,
            "min_height": null,
            "min_width": null,
            "object_fit": null,
            "object_position": null,
            "order": null,
            "overflow": null,
            "overflow_x": null,
            "overflow_y": null,
            "padding": null,
            "right": null,
            "top": null,
            "visibility": null,
            "width": null
          }
        },
        "b93ae3c6a68d49b58567b5608966e436": {
          "model_module": "@jupyter-widgets/controls",
          "model_name": "DescriptionStyleModel",
          "model_module_version": "1.5.0",
          "state": {
            "_model_module": "@jupyter-widgets/controls",
            "_model_module_version": "1.5.0",
            "_model_name": "DescriptionStyleModel",
            "_view_count": null,
            "_view_module": "@jupyter-widgets/base",
            "_view_module_version": "1.2.0",
            "_view_name": "StyleView",
            "description_width": ""
          }
        },
        "cb4e2a71f7874493a051e65d44bebf52": {
          "model_module": "@jupyter-widgets/controls",
          "model_name": "HBoxModel",
          "model_module_version": "1.5.0",
          "state": {
            "_dom_classes": [],
            "_model_module": "@jupyter-widgets/controls",
            "_model_module_version": "1.5.0",
            "_model_name": "HBoxModel",
            "_view_count": null,
            "_view_module": "@jupyter-widgets/controls",
            "_view_module_version": "1.5.0",
            "_view_name": "HBoxView",
            "box_style": "",
            "children": [
              "IPY_MODEL_a0f4475ed2ad4a61845ccdcef086fb38",
              "IPY_MODEL_a0697ba6855e40cb8a966e84257be95b",
              "IPY_MODEL_1c88fcd26ee14bf9a147c7a54d240749"
            ],
            "layout": "IPY_MODEL_e79269ee9aad4c0e89c877e6d88323a0"
          }
        },
        "a0f4475ed2ad4a61845ccdcef086fb38": {
          "model_module": "@jupyter-widgets/controls",
          "model_name": "HTMLModel",
          "model_module_version": "1.5.0",
          "state": {
            "_dom_classes": [],
            "_model_module": "@jupyter-widgets/controls",
            "_model_module_version": "1.5.0",
            "_model_name": "HTMLModel",
            "_view_count": null,
            "_view_module": "@jupyter-widgets/controls",
            "_view_module_version": "1.5.0",
            "_view_name": "HTMLView",
            "description": "",
            "description_tooltip": null,
            "layout": "IPY_MODEL_8c4131271a214d79a23c34f8f7c9e26b",
            "placeholder": "​",
            "style": "IPY_MODEL_f98a84120fe941698dced4fb1a56217b",
            "value": "Map: 100%"
          }
        },
        "a0697ba6855e40cb8a966e84257be95b": {
          "model_module": "@jupyter-widgets/controls",
          "model_name": "FloatProgressModel",
          "model_module_version": "1.5.0",
          "state": {
            "_dom_classes": [],
            "_model_module": "@jupyter-widgets/controls",
            "_model_module_version": "1.5.0",
            "_model_name": "FloatProgressModel",
            "_view_count": null,
            "_view_module": "@jupyter-widgets/controls",
            "_view_module_version": "1.5.0",
            "_view_name": "ProgressView",
            "bar_style": "success",
            "description": "",
            "description_tooltip": null,
            "layout": "IPY_MODEL_fc04c6bb57634f8f973a8f39937e8b4e",
            "max": 917,
            "min": 0,
            "orientation": "horizontal",
            "style": "IPY_MODEL_9ef923751bc5444fac6b64eef5a022ab",
            "value": 917
          }
        },
        "1c88fcd26ee14bf9a147c7a54d240749": {
          "model_module": "@jupyter-widgets/controls",
          "model_name": "HTMLModel",
          "model_module_version": "1.5.0",
          "state": {
            "_dom_classes": [],
            "_model_module": "@jupyter-widgets/controls",
            "_model_module_version": "1.5.0",
            "_model_name": "HTMLModel",
            "_view_count": null,
            "_view_module": "@jupyter-widgets/controls",
            "_view_module_version": "1.5.0",
            "_view_name": "HTMLView",
            "description": "",
            "description_tooltip": null,
            "layout": "IPY_MODEL_44c74ce8c9084845833963817a90e121",
            "placeholder": "​",
            "style": "IPY_MODEL_5db21f436fa14d63bb63968ae8acc6e5",
            "value": " 917/917 [00:00&lt;00:00, 4936.17 examples/s]"
          }
        },
        "e79269ee9aad4c0e89c877e6d88323a0": {
          "model_module": "@jupyter-widgets/base",
          "model_name": "LayoutModel",
          "model_module_version": "1.2.0",
          "state": {
            "_model_module": "@jupyter-widgets/base",
            "_model_module_version": "1.2.0",
            "_model_name": "LayoutModel",
            "_view_count": null,
            "_view_module": "@jupyter-widgets/base",
            "_view_module_version": "1.2.0",
            "_view_name": "LayoutView",
            "align_content": null,
            "align_items": null,
            "align_self": null,
            "border": null,
            "bottom": null,
            "display": null,
            "flex": null,
            "flex_flow": null,
            "grid_area": null,
            "grid_auto_columns": null,
            "grid_auto_flow": null,
            "grid_auto_rows": null,
            "grid_column": null,
            "grid_gap": null,
            "grid_row": null,
            "grid_template_areas": null,
            "grid_template_columns": null,
            "grid_template_rows": null,
            "height": null,
            "justify_content": null,
            "justify_items": null,
            "left": null,
            "margin": null,
            "max_height": null,
            "max_width": null,
            "min_height": null,
            "min_width": null,
            "object_fit": null,
            "object_position": null,
            "order": null,
            "overflow": null,
            "overflow_x": null,
            "overflow_y": null,
            "padding": null,
            "right": null,
            "top": null,
            "visibility": null,
            "width": null
          }
        },
        "8c4131271a214d79a23c34f8f7c9e26b": {
          "model_module": "@jupyter-widgets/base",
          "model_name": "LayoutModel",
          "model_module_version": "1.2.0",
          "state": {
            "_model_module": "@jupyter-widgets/base",
            "_model_module_version": "1.2.0",
            "_model_name": "LayoutModel",
            "_view_count": null,
            "_view_module": "@jupyter-widgets/base",
            "_view_module_version": "1.2.0",
            "_view_name": "LayoutView",
            "align_content": null,
            "align_items": null,
            "align_self": null,
            "border": null,
            "bottom": null,
            "display": null,
            "flex": null,
            "flex_flow": null,
            "grid_area": null,
            "grid_auto_columns": null,
            "grid_auto_flow": null,
            "grid_auto_rows": null,
            "grid_column": null,
            "grid_gap": null,
            "grid_row": null,
            "grid_template_areas": null,
            "grid_template_columns": null,
            "grid_template_rows": null,
            "height": null,
            "justify_content": null,
            "justify_items": null,
            "left": null,
            "margin": null,
            "max_height": null,
            "max_width": null,
            "min_height": null,
            "min_width": null,
            "object_fit": null,
            "object_position": null,
            "order": null,
            "overflow": null,
            "overflow_x": null,
            "overflow_y": null,
            "padding": null,
            "right": null,
            "top": null,
            "visibility": null,
            "width": null
          }
        },
        "f98a84120fe941698dced4fb1a56217b": {
          "model_module": "@jupyter-widgets/controls",
          "model_name": "DescriptionStyleModel",
          "model_module_version": "1.5.0",
          "state": {
            "_model_module": "@jupyter-widgets/controls",
            "_model_module_version": "1.5.0",
            "_model_name": "DescriptionStyleModel",
            "_view_count": null,
            "_view_module": "@jupyter-widgets/base",
            "_view_module_version": "1.2.0",
            "_view_name": "StyleView",
            "description_width": ""
          }
        },
        "fc04c6bb57634f8f973a8f39937e8b4e": {
          "model_module": "@jupyter-widgets/base",
          "model_name": "LayoutModel",
          "model_module_version": "1.2.0",
          "state": {
            "_model_module": "@jupyter-widgets/base",
            "_model_module_version": "1.2.0",
            "_model_name": "LayoutModel",
            "_view_count": null,
            "_view_module": "@jupyter-widgets/base",
            "_view_module_version": "1.2.0",
            "_view_name": "LayoutView",
            "align_content": null,
            "align_items": null,
            "align_self": null,
            "border": null,
            "bottom": null,
            "display": null,
            "flex": null,
            "flex_flow": null,
            "grid_area": null,
            "grid_auto_columns": null,
            "grid_auto_flow": null,
            "grid_auto_rows": null,
            "grid_column": null,
            "grid_gap": null,
            "grid_row": null,
            "grid_template_areas": null,
            "grid_template_columns": null,
            "grid_template_rows": null,
            "height": null,
            "justify_content": null,
            "justify_items": null,
            "left": null,
            "margin": null,
            "max_height": null,
            "max_width": null,
            "min_height": null,
            "min_width": null,
            "object_fit": null,
            "object_position": null,
            "order": null,
            "overflow": null,
            "overflow_x": null,
            "overflow_y": null,
            "padding": null,
            "right": null,
            "top": null,
            "visibility": null,
            "width": null
          }
        },
        "9ef923751bc5444fac6b64eef5a022ab": {
          "model_module": "@jupyter-widgets/controls",
          "model_name": "ProgressStyleModel",
          "model_module_version": "1.5.0",
          "state": {
            "_model_module": "@jupyter-widgets/controls",
            "_model_module_version": "1.5.0",
            "_model_name": "ProgressStyleModel",
            "_view_count": null,
            "_view_module": "@jupyter-widgets/base",
            "_view_module_version": "1.2.0",
            "_view_name": "StyleView",
            "bar_color": null,
            "description_width": ""
          }
        },
        "44c74ce8c9084845833963817a90e121": {
          "model_module": "@jupyter-widgets/base",
          "model_name": "LayoutModel",
          "model_module_version": "1.2.0",
          "state": {
            "_model_module": "@jupyter-widgets/base",
            "_model_module_version": "1.2.0",
            "_model_name": "LayoutModel",
            "_view_count": null,
            "_view_module": "@jupyter-widgets/base",
            "_view_module_version": "1.2.0",
            "_view_name": "LayoutView",
            "align_content": null,
            "align_items": null,
            "align_self": null,
            "border": null,
            "bottom": null,
            "display": null,
            "flex": null,
            "flex_flow": null,
            "grid_area": null,
            "grid_auto_columns": null,
            "grid_auto_flow": null,
            "grid_auto_rows": null,
            "grid_column": null,
            "grid_gap": null,
            "grid_row": null,
            "grid_template_areas": null,
            "grid_template_columns": null,
            "grid_template_rows": null,
            "height": null,
            "justify_content": null,
            "justify_items": null,
            "left": null,
            "margin": null,
            "max_height": null,
            "max_width": null,
            "min_height": null,
            "min_width": null,
            "object_fit": null,
            "object_position": null,
            "order": null,
            "overflow": null,
            "overflow_x": null,
            "overflow_y": null,
            "padding": null,
            "right": null,
            "top": null,
            "visibility": null,
            "width": null
          }
        },
        "5db21f436fa14d63bb63968ae8acc6e5": {
          "model_module": "@jupyter-widgets/controls",
          "model_name": "DescriptionStyleModel",
          "model_module_version": "1.5.0",
          "state": {
            "_model_module": "@jupyter-widgets/controls",
            "_model_module_version": "1.5.0",
            "_model_name": "DescriptionStyleModel",
            "_view_count": null,
            "_view_module": "@jupyter-widgets/base",
            "_view_module_version": "1.2.0",
            "_view_name": "StyleView",
            "description_width": ""
          }
        }
      }
    }
  },
  "cells": [
    {
      "cell_type": "code",
      "source": [
        "#@title Install Packages"
      ],
      "metadata": {
        "id": "xYRurcbg2fuq"
      },
      "execution_count": 1,
      "outputs": []
    },
    {
      "cell_type": "code",
      "execution_count": 2,
      "metadata": {
        "id": "XWeMhKnlvi9F",
        "colab": {
          "base_uri": "https://localhost:8080/"
        },
        "outputId": "a2534e11-3572-41f3-c2d6-4aaae45982a0"
      },
      "outputs": [
        {
          "output_type": "stream",
          "name": "stdout",
          "text": [
            "\u001b[?25l   \u001b[90m━━━━━━━━━━━━━━━━━━━━━━━━━━━━━━━━━━━━━━━━\u001b[0m \u001b[32m0.0/491.2 kB\u001b[0m \u001b[31m?\u001b[0m eta \u001b[36m-:--:--\u001b[0m\r\u001b[2K   \u001b[90m━━━━━━━━━━━━━━━━━━━━━━━━━━━━━━━━━━━━━━━━\u001b[0m \u001b[32m491.2/491.2 kB\u001b[0m \u001b[31m32.9 MB/s\u001b[0m eta \u001b[36m0:00:00\u001b[0m\n",
            "\u001b[?25h\u001b[?25l   \u001b[90m━━━━━━━━━━━━━━━━━━━━━━━━━━━━━━━━━━━━━━━━\u001b[0m \u001b[32m0.0/116.3 kB\u001b[0m \u001b[31m?\u001b[0m eta \u001b[36m-:--:--\u001b[0m\r\u001b[2K   \u001b[90m━━━━━━━━━━━━━━━━━━━━━━━━━━━━━━━━━━━━━━━━\u001b[0m \u001b[32m116.3/116.3 kB\u001b[0m \u001b[31m12.2 MB/s\u001b[0m eta \u001b[36m0:00:00\u001b[0m\n",
            "\u001b[?25h\u001b[?25l   \u001b[90m━━━━━━━━━━━━━━━━━━━━━━━━━━━━━━━━━━━━━━━━\u001b[0m \u001b[32m0.0/183.9 kB\u001b[0m \u001b[31m?\u001b[0m eta \u001b[36m-:--:--\u001b[0m\r\u001b[2K   \u001b[90m━━━━━━━━━━━━━━━━━━━━━━━━━━━━━━━━━━━━━━━━\u001b[0m \u001b[32m183.9/183.9 kB\u001b[0m \u001b[31m19.7 MB/s\u001b[0m eta \u001b[36m0:00:00\u001b[0m\n",
            "\u001b[?25h\u001b[?25l   \u001b[90m━━━━━━━━━━━━━━━━━━━━━━━━━━━━━━━━━━━━━━━━\u001b[0m \u001b[32m0.0/143.5 kB\u001b[0m \u001b[31m?\u001b[0m eta \u001b[36m-:--:--\u001b[0m\r\u001b[2K   \u001b[90m━━━━━━━━━━━━━━━━━━━━━━━━━━━━━━━━━━━━━━━━\u001b[0m \u001b[32m143.5/143.5 kB\u001b[0m \u001b[31m15.0 MB/s\u001b[0m eta \u001b[36m0:00:00\u001b[0m\n",
            "\u001b[?25h\u001b[?25l   \u001b[90m━━━━━━━━━━━━━━━━━━━━━━━━━━━━━━━━━━━━━━━━\u001b[0m \u001b[32m0.0/194.8 kB\u001b[0m \u001b[31m?\u001b[0m eta \u001b[36m-:--:--\u001b[0m\r\u001b[2K   \u001b[90m━━━━━━━━━━━━━━━━━━━━━━━━━━━━━━━━━━━━━━━━\u001b[0m \u001b[32m194.8/194.8 kB\u001b[0m \u001b[31m19.6 MB/s\u001b[0m eta \u001b[36m0:00:00\u001b[0m\n",
            "\u001b[?25h\u001b[31mERROR: pip's dependency resolver does not currently take into account all the packages that are installed. This behaviour is the source of the following dependency conflicts.\n",
            "torch 2.6.0+cu124 requires nvidia-cublas-cu12==12.4.5.8; platform_system == \"Linux\" and platform_machine == \"x86_64\", but you have nvidia-cublas-cu12 12.5.3.2 which is incompatible.\n",
            "torch 2.6.0+cu124 requires nvidia-cuda-cupti-cu12==12.4.127; platform_system == \"Linux\" and platform_machine == \"x86_64\", but you have nvidia-cuda-cupti-cu12 12.5.82 which is incompatible.\n",
            "torch 2.6.0+cu124 requires nvidia-cuda-nvrtc-cu12==12.4.127; platform_system == \"Linux\" and platform_machine == \"x86_64\", but you have nvidia-cuda-nvrtc-cu12 12.5.82 which is incompatible.\n",
            "torch 2.6.0+cu124 requires nvidia-cuda-runtime-cu12==12.4.127; platform_system == \"Linux\" and platform_machine == \"x86_64\", but you have nvidia-cuda-runtime-cu12 12.5.82 which is incompatible.\n",
            "torch 2.6.0+cu124 requires nvidia-cudnn-cu12==9.1.0.70; platform_system == \"Linux\" and platform_machine == \"x86_64\", but you have nvidia-cudnn-cu12 9.3.0.75 which is incompatible.\n",
            "torch 2.6.0+cu124 requires nvidia-cufft-cu12==11.2.1.3; platform_system == \"Linux\" and platform_machine == \"x86_64\", but you have nvidia-cufft-cu12 11.2.3.61 which is incompatible.\n",
            "torch 2.6.0+cu124 requires nvidia-curand-cu12==10.3.5.147; platform_system == \"Linux\" and platform_machine == \"x86_64\", but you have nvidia-curand-cu12 10.3.6.82 which is incompatible.\n",
            "torch 2.6.0+cu124 requires nvidia-cusolver-cu12==11.6.1.9; platform_system == \"Linux\" and platform_machine == \"x86_64\", but you have nvidia-cusolver-cu12 11.6.3.83 which is incompatible.\n",
            "torch 2.6.0+cu124 requires nvidia-cusparse-cu12==12.3.1.170; platform_system == \"Linux\" and platform_machine == \"x86_64\", but you have nvidia-cusparse-cu12 12.5.1.3 which is incompatible.\n",
            "torch 2.6.0+cu124 requires nvidia-nvjitlink-cu12==12.4.127; platform_system == \"Linux\" and platform_machine == \"x86_64\", but you have nvidia-nvjitlink-cu12 12.5.82 which is incompatible.\n",
            "gcsfs 2025.3.2 requires fsspec==2025.3.2, but you have fsspec 2024.12.0 which is incompatible.\u001b[0m\u001b[31m\n",
            "\u001b[2K   \u001b[90m━━━━━━━━━━━━━━━━━━━━━━━━━━━━━━━━━━━━━━━━\u001b[0m \u001b[32m84.0/84.0 kB\u001b[0m \u001b[31m8.5 MB/s\u001b[0m eta \u001b[36m0:00:00\u001b[0m\n",
            "\u001b[2K   \u001b[90m━━━━━━━━━━━━━━━━━━━━━━━━━━━━━━━━━━━━━━━━\u001b[0m \u001b[32m289.9/289.9 kB\u001b[0m \u001b[31m26.6 MB/s\u001b[0m eta \u001b[36m0:00:00\u001b[0m\n",
            "\u001b[2K   \u001b[90m━━━━━━━━━━━━━━━━━━━━━━━━━━━━━━━━━━━━━━━━\u001b[0m \u001b[32m118.3/118.3 kB\u001b[0m \u001b[31m12.6 MB/s\u001b[0m eta \u001b[36m0:00:00\u001b[0m\n",
            "\u001b[?25h"
          ]
        }
      ],
      "source": [
        "!pip install -q transformers\n",
        "!pip install -q torchinfo\n",
        "!pip install -q datasets\n",
        "!pip install -q evaluate\n",
        "!pip install -q nltk\n",
        "!pip install -q contractions\n",
        "!pip install -q hf_xet\n",
        "!pip install -q sentencepiece"
      ]
    },
    {
      "cell_type": "code",
      "source": [
        "!sudo apt-get update\n",
        "! sudo apt-get install tree"
      ],
      "metadata": {
        "colab": {
          "base_uri": "https://localhost:8080/"
        },
        "id": "rX3VqZu11-s_",
        "outputId": "c90ba8bc-2d1f-4691-dc97-a55164588e5f"
      },
      "execution_count": 3,
      "outputs": [
        {
          "output_type": "stream",
          "name": "stdout",
          "text": [
            "\r0% [Working]\r            \rGet:1 https://cloud.r-project.org/bin/linux/ubuntu jammy-cran40/ InRelease [3,632 B]\n",
            "\r0% [Connecting to archive.ubuntu.com] [Connecting to security.ubuntu.com (185.1\r0% [Connecting to archive.ubuntu.com] [Connecting to security.ubuntu.com (185.1\r                                                                               \rGet:2 https://developer.download.nvidia.com/compute/cuda/repos/ubuntu2204/x86_64  InRelease [1,581 B]\n",
            "Get:3 https://developer.download.nvidia.com/compute/cuda/repos/ubuntu2204/x86_64  Packages [1,383 kB]\n",
            "Get:4 http://security.ubuntu.com/ubuntu jammy-security InRelease [129 kB]\n",
            "Hit:5 http://archive.ubuntu.com/ubuntu jammy InRelease\n",
            "Get:6 http://archive.ubuntu.com/ubuntu jammy-updates InRelease [128 kB]\n",
            "Hit:7 https://ppa.launchpadcontent.net/deadsnakes/ppa/ubuntu jammy InRelease\n",
            "Get:8 https://r2u.stat.illinois.edu/ubuntu jammy InRelease [6,555 B]\n",
            "Hit:9 https://ppa.launchpadcontent.net/graphics-drivers/ppa/ubuntu jammy InRelease\n",
            "Get:10 http://security.ubuntu.com/ubuntu jammy-security/main amd64 Packages [2,783 kB]\n",
            "Hit:11 https://ppa.launchpadcontent.net/ubuntugis/ppa/ubuntu jammy InRelease\n",
            "Get:12 https://r2u.stat.illinois.edu/ubuntu jammy/main all Packages [8,804 kB]\n",
            "Get:13 http://archive.ubuntu.com/ubuntu jammy-backports InRelease [127 kB]\n",
            "Get:14 http://security.ubuntu.com/ubuntu jammy-security/universe amd64 Packages [1,243 kB]\n",
            "Get:15 http://security.ubuntu.com/ubuntu jammy-security/restricted amd64 Packages [3,994 kB]\n",
            "Get:16 http://archive.ubuntu.com/ubuntu jammy-updates/restricted amd64 Packages [4,154 kB]\n",
            "Get:17 http://archive.ubuntu.com/ubuntu jammy-updates/main amd64 Packages [3,097 kB]\n",
            "Get:18 http://archive.ubuntu.com/ubuntu jammy-updates/universe amd64 Packages [1,540 kB]\n",
            "Get:19 https://r2u.stat.illinois.edu/ubuntu jammy/main amd64 Packages [2,683 kB]\n",
            "Fetched 30.1 MB in 4s (6,871 kB/s)\n",
            "Reading package lists... Done\n",
            "W: Skipping acquire of configured file 'main/source/Sources' as repository 'https://r2u.stat.illinois.edu/ubuntu jammy InRelease' does not seem to provide it (sources.list entry misspelt?)\n",
            "Reading package lists... Done\n",
            "Building dependency tree... Done\n",
            "Reading state information... Done\n",
            "The following NEW packages will be installed:\n",
            "  tree\n",
            "0 upgraded, 1 newly installed, 0 to remove and 37 not upgraded.\n",
            "Need to get 47.9 kB of archives.\n",
            "After this operation, 116 kB of additional disk space will be used.\n",
            "Get:1 http://archive.ubuntu.com/ubuntu jammy/universe amd64 tree amd64 2.0.2-1 [47.9 kB]\n",
            "Fetched 47.9 kB in 1s (55.0 kB/s)\n",
            "debconf: unable to initialize frontend: Dialog\n",
            "debconf: (No usable dialog-like program is installed, so the dialog based frontend cannot be used. at /usr/share/perl5/Debconf/FrontEnd/Dialog.pm line 78, <> line 1.)\n",
            "debconf: falling back to frontend: Readline\n",
            "debconf: unable to initialize frontend: Readline\n",
            "debconf: (This frontend requires a controlling tty.)\n",
            "debconf: falling back to frontend: Teletype\n",
            "dpkg-preconfigure: unable to re-open stdin: \n",
            "Selecting previously unselected package tree.\n",
            "(Reading database ... 126213 files and directories currently installed.)\n",
            "Preparing to unpack .../tree_2.0.2-1_amd64.deb ...\n",
            "Unpacking tree (2.0.2-1) ...\n",
            "Setting up tree (2.0.2-1) ...\n",
            "Processing triggers for man-db (2.10.2-1) ...\n"
          ]
        }
      ]
    },
    {
      "cell_type": "code",
      "source": [
        "#@title Imports\n",
        "import nltk\n",
        "from nltk.tokenize import RegexpTokenizer\n",
        "\n",
        "import contractions\n",
        "\n",
        "import evaluate\n",
        "import transformers\n",
        "import torch\n",
        "\n",
        "from torchinfo import summary\n",
        "\n",
        "from datasets import load_dataset, Dataset, DatasetDict\n",
        "\n",
        "from transformers import AutoTokenizer, AutoModel, AutoModelForSequenceClassification, TrainingArguments, Trainer\n",
        "\n",
        "import os\n",
        "import pandas as pd\n",
        "import numpy as np\n",
        "import matplotlib.pyplot as plt\n",
        "import seaborn as sns\n",
        "\n",
        "import sklearn\n",
        "\n",
        "import spacy\n",
        "\n",
        "from sklearn.feature_extraction.text import TfidfVectorizer\n",
        "from sklearn.naive_bayes import MultinomialNB\n",
        "from sklearn.metrics import classification_report, precision_recall_fscore_support, accuracy_score\n",
        "\n",
        "import sentencepiece"
      ],
      "metadata": {
        "id": "3wEgNBR6zosA"
      },
      "execution_count": 4,
      "outputs": []
    },
    {
      "cell_type": "code",
      "source": [
        "# @title Mount Google Drive"
      ],
      "metadata": {
        "id": "rSP7bIn12YU7"
      },
      "execution_count": 5,
      "outputs": []
    },
    {
      "cell_type": "code",
      "source": [
        "from google.colab import drive\n",
        "drive.mount('/content/drive')"
      ],
      "metadata": {
        "colab": {
          "base_uri": "https://localhost:8080/"
        },
        "id": "oWKPq7h01cXk",
        "outputId": "9ad1c9c3-73d0-4cf5-b1bd-e46c5161fb93"
      },
      "execution_count": 6,
      "outputs": [
        {
          "output_type": "stream",
          "name": "stdout",
          "text": [
            "Mounted at /content/drive\n"
          ]
        }
      ]
    },
    {
      "cell_type": "code",
      "source": [
        "dir_root = '/content/drive/MyDrive/266-final/'\n",
        "# dir_data = '/content/drive/MyDrive/266-final/data/'\n",
        "# dir_data = '/content/drive/MyDrive/266-final/data/se21-t1-comp-lex-master/'\n",
        "dir_data = '/content/drive/MyDrive/266-final/data/266-comp-lex-master'\n",
        "dir_models = '/content/drive/MyDrive/266-final/models/'\n",
        "dir_results = '/content/drive/MyDrive/266-final/results/'"
      ],
      "metadata": {
        "id": "I3Tfro3Zzop5"
      },
      "execution_count": 7,
      "outputs": []
    },
    {
      "cell_type": "code",
      "source": [
        "wandbai_api_key = \"5236444b7e96f5cf74038116d8c1efba161a4310\""
      ],
      "metadata": {
        "id": "HjZtvw5ScRDp"
      },
      "execution_count": 33,
      "outputs": []
    },
    {
      "cell_type": "code",
      "source": [
        "!tree /content/drive/MyDrive/266-final/data/266-comp-lex-master/"
      ],
      "metadata": {
        "colab": {
          "base_uri": "https://localhost:8080/"
        },
        "id": "Qw9f1Hol2UhL",
        "outputId": "d564d0e6-8dc6-4005-e009-2304cf642396"
      },
      "execution_count": 8,
      "outputs": [
        {
          "output_type": "stream",
          "name": "stdout",
          "text": [
            "\u001b[01;34m/content/drive/MyDrive/266-final/data/266-comp-lex-master/\u001b[0m\n",
            "├── \u001b[01;34mfe-test-labels\u001b[0m\n",
            "│   ├── \u001b[00mtest_multi_df.csv\u001b[0m\n",
            "│   └── \u001b[00mtest_single_df.csv\u001b[0m\n",
            "├── \u001b[01;34mfe-train\u001b[0m\n",
            "│   ├── \u001b[00mtrain_multi_df.csv\u001b[0m\n",
            "│   └── \u001b[00mtrain_single_df.csv\u001b[0m\n",
            "├── \u001b[01;34mfe-trial-val\u001b[0m\n",
            "│   ├── \u001b[00mtrial_val_multi_df.csv\u001b[0m\n",
            "│   └── \u001b[00mtrial_val_single_df.csv\u001b[0m\n",
            "├── \u001b[01;34mtest-labels\u001b[0m\n",
            "│   ├── \u001b[00mlcp_multi_test.tsv\u001b[0m\n",
            "│   └── \u001b[00mlcp_single_test.tsv\u001b[0m\n",
            "├── \u001b[01;34mtrain\u001b[0m\n",
            "│   ├── \u001b[00mlcp_multi_train.tsv\u001b[0m\n",
            "│   └── \u001b[00mlcp_single_train.tsv\u001b[0m\n",
            "└── \u001b[01;34mtrial\u001b[0m\n",
            "    ├── \u001b[00mlcp_multi_trial.tsv\u001b[0m\n",
            "    └── \u001b[00mlcp_single_trial.tsv\u001b[0m\n",
            "\n",
            "6 directories, 12 files\n"
          ]
        }
      ]
    },
    {
      "cell_type": "code",
      "source": [
        "!ls -R /content/drive/MyDrive/266-final/data/266-comp-lex-master/"
      ],
      "metadata": {
        "colab": {
          "base_uri": "https://localhost:8080/"
        },
        "id": "Zgul33NlKkbV",
        "outputId": "2ad83a65-1302-4992-897f-40038207c1c0"
      },
      "execution_count": 9,
      "outputs": [
        {
          "output_type": "stream",
          "name": "stdout",
          "text": [
            "/content/drive/MyDrive/266-final/data/266-comp-lex-master/:\n",
            "fe-test-labels\tfe-train  fe-trial-val\ttest-labels  train  trial\n",
            "\n",
            "/content/drive/MyDrive/266-final/data/266-comp-lex-master/fe-test-labels:\n",
            "test_multi_df.csv  test_single_df.csv\n",
            "\n",
            "/content/drive/MyDrive/266-final/data/266-comp-lex-master/fe-train:\n",
            "train_multi_df.csv  train_single_df.csv\n",
            "\n",
            "/content/drive/MyDrive/266-final/data/266-comp-lex-master/fe-trial-val:\n",
            "trial_val_multi_df.csv\ttrial_val_single_df.csv\n",
            "\n",
            "/content/drive/MyDrive/266-final/data/266-comp-lex-master/test-labels:\n",
            "lcp_multi_test.tsv  lcp_single_test.tsv\n",
            "\n",
            "/content/drive/MyDrive/266-final/data/266-comp-lex-master/train:\n",
            "lcp_multi_train.tsv  lcp_single_train.tsv\n",
            "\n",
            "/content/drive/MyDrive/266-final/data/266-comp-lex-master/trial:\n",
            "lcp_multi_trial.tsv  lcp_single_trial.tsv\n"
          ]
        }
      ]
    },
    {
      "cell_type": "code",
      "source": [
        "!tree /content/drive/MyDrive/266-final/data/266-comp-lex-master/"
      ],
      "metadata": {
        "colab": {
          "base_uri": "https://localhost:8080/"
        },
        "id": "G9f8sPUBdbVr",
        "outputId": "1e451625-0fb9-4338-924f-898e74c028ee"
      },
      "execution_count": 10,
      "outputs": [
        {
          "output_type": "stream",
          "name": "stdout",
          "text": [
            "\u001b[01;34m/content/drive/MyDrive/266-final/data/266-comp-lex-master/\u001b[0m\n",
            "├── \u001b[01;34mfe-test-labels\u001b[0m\n",
            "│   ├── \u001b[00mtest_multi_df.csv\u001b[0m\n",
            "│   └── \u001b[00mtest_single_df.csv\u001b[0m\n",
            "├── \u001b[01;34mfe-train\u001b[0m\n",
            "│   ├── \u001b[00mtrain_multi_df.csv\u001b[0m\n",
            "│   └── \u001b[00mtrain_single_df.csv\u001b[0m\n",
            "├── \u001b[01;34mfe-trial-val\u001b[0m\n",
            "│   ├── \u001b[00mtrial_val_multi_df.csv\u001b[0m\n",
            "│   └── \u001b[00mtrial_val_single_df.csv\u001b[0m\n",
            "├── \u001b[01;34mtest-labels\u001b[0m\n",
            "│   ├── \u001b[00mlcp_multi_test.tsv\u001b[0m\n",
            "│   └── \u001b[00mlcp_single_test.tsv\u001b[0m\n",
            "├── \u001b[01;34mtrain\u001b[0m\n",
            "│   ├── \u001b[00mlcp_multi_train.tsv\u001b[0m\n",
            "│   └── \u001b[00mlcp_single_train.tsv\u001b[0m\n",
            "└── \u001b[01;34mtrial\u001b[0m\n",
            "    ├── \u001b[00mlcp_multi_trial.tsv\u001b[0m\n",
            "    └── \u001b[00mlcp_single_trial.tsv\u001b[0m\n",
            "\n",
            "6 directories, 12 files\n"
          ]
        }
      ]
    },
    {
      "cell_type": "code",
      "source": [
        "#@title Import Data"
      ],
      "metadata": {
        "id": "oftTqvV8zojV"
      },
      "execution_count": 11,
      "outputs": []
    },
    {
      "cell_type": "code",
      "source": [
        "df_names = [\n",
        "    \"train_single_df\",\n",
        "    \"train_multi_df\",\n",
        "    \"trial_val_single_df\",\n",
        "    \"trial_val_multi_df\",\n",
        "    \"test_single_df\",\n",
        "    \"test_multi_df\"\n",
        "]\n",
        "\n",
        "loaded_dataframes = {}\n",
        "\n",
        "for df_name in df_names:\n",
        "    if \"train\" in df_name:\n",
        "        subdir = \"fe-train\"\n",
        "    elif \"trial_val\" in df_name:\n",
        "        subdir = \"fe-trial-val\"\n",
        "    elif \"test\" in df_name:\n",
        "        subdir = \"fe-test-labels\"\n",
        "    else:\n",
        "        subdir = None\n",
        "\n",
        "    if subdir:\n",
        "        read_path = os.path.join(dir_data, subdir, f\"{df_name}.csv\")\n",
        "        loaded_df = pd.read_csv(read_path)\n",
        "        loaded_dataframes[df_name] = loaded_df\n",
        "        print(f\"Loaded {df_name} from {read_path}\")\n",
        "\n",
        "# for df_name, df in loaded_dataframes.items():\n",
        "#     print(f\"\\n>>> {df_name} shape: {df.shape}\")\n",
        "#     if 'binary_complexity' in df.columns:\n",
        "#         print(df['binary_complexity'].value_counts())\n",
        "#         print(df.info())\n",
        "#         print(df.head())\n",
        "\n",
        "for df_name, df in loaded_dataframes.items():\n",
        "    globals()[df_name] = df\n",
        "    print(f\"{df_name} loaded into global namespace.\")"
      ],
      "metadata": {
        "id": "73lV0P87eV-P",
        "colab": {
          "base_uri": "https://localhost:8080/"
        },
        "outputId": "3a4c7596-eceb-49ab-de5a-e24bf27c2aba"
      },
      "execution_count": 12,
      "outputs": [
        {
          "output_type": "stream",
          "name": "stdout",
          "text": [
            "Loaded train_single_df from /content/drive/MyDrive/266-final/data/266-comp-lex-master/fe-train/train_single_df.csv\n",
            "Loaded train_multi_df from /content/drive/MyDrive/266-final/data/266-comp-lex-master/fe-train/train_multi_df.csv\n",
            "Loaded trial_val_single_df from /content/drive/MyDrive/266-final/data/266-comp-lex-master/fe-trial-val/trial_val_single_df.csv\n",
            "Loaded trial_val_multi_df from /content/drive/MyDrive/266-final/data/266-comp-lex-master/fe-trial-val/trial_val_multi_df.csv\n",
            "Loaded test_single_df from /content/drive/MyDrive/266-final/data/266-comp-lex-master/fe-test-labels/test_single_df.csv\n",
            "Loaded test_multi_df from /content/drive/MyDrive/266-final/data/266-comp-lex-master/fe-test-labels/test_multi_df.csv\n",
            "train_single_df loaded into global namespace.\n",
            "train_multi_df loaded into global namespace.\n",
            "trial_val_single_df loaded into global namespace.\n",
            "trial_val_multi_df loaded into global namespace.\n",
            "test_single_df loaded into global namespace.\n",
            "test_multi_df loaded into global namespace.\n"
          ]
        }
      ]
    },
    {
      "cell_type": "markdown",
      "source": [
        "- Functional tests pass, we can proceed with Baseline Modeling"
      ],
      "metadata": {
        "id": "8VsgfL5ZhO4z"
      }
    },
    {
      "cell_type": "code",
      "source": [
        "#@title Experiment 1: Baseline Modeling"
      ],
      "metadata": {
        "id": "AryofObMaySF"
      },
      "execution_count": 13,
      "outputs": []
    },
    {
      "cell_type": "markdown",
      "source": [
        "### Reminders:\n",
        "\n",
        "- Precision\n",
        "$$\n",
        "\\text{Precision} = \\frac{TP}{TP + FP}\n",
        "$$\n",
        "- Recall\n",
        "$$\n",
        "\\text{Recall} = \\frac{TP}{TP + FN}\n",
        "$$\n",
        "\n",
        "- Accuracy\n",
        "$$\n",
        "\\text{Accuracy} = \\frac{TP + TN}{TP + TN + FP + FN}\n",
        "$$\n",
        "\n",
        "- F1 Score\n",
        "$$\n",
        "\\text{F1} = 2 \\times \\frac{\\text{Precision} \\times \\text{Recall}}{\\text{Precision} + \\text{Recall}}\n",
        "$$\n",
        "\n",
        "- Cosine Similarity\n",
        "$$\n",
        "\\text{Cosine Similarity} = \\frac{\\mathbf{A} \\cdot \\mathbf{B}}{\\|\\mathbf{A}\\| \\, \\|\\mathbf{B}\\|}\n",
        "$$\n",
        "\n",
        "- Jaccard Similarity\n",
        "$$\n",
        "\\text{Jaccard Similarity} = \\frac{|A \\cap B|}{|A \\cup B|}\n",
        "$$\n",
        "\n",
        "- Overlap Similarity (Overlap Coefficient)\n",
        "$$\n",
        "\\text{Overlap Similarity} = \\frac{|A \\cap B|}{\\min(|A|, |B|)}\n",
        "$$\n",
        "\n",
        "- Dice Coefficient\n",
        "$$\n",
        "\\text{Dice Coefficient} = \\frac{2 \\, |A \\cap B|}{|A| + |B|}\n",
        "$$\n",
        "\n"
      ],
      "metadata": {
        "id": "zcq7Fwy9jazt"
      }
    },
    {
      "cell_type": "markdown",
      "source": [
        "## Naive Bayes"
      ],
      "metadata": {
        "id": "kXGkjXQGqeH8"
      }
    },
    {
      "cell_type": "markdown",
      "source": [
        "### X = Sentence: contractions and no contractions"
      ],
      "metadata": {
        "id": "25Ph58CZtFJJ"
      }
    },
    {
      "cell_type": "markdown",
      "source": [
        "- sentence no contractions"
      ],
      "metadata": {
        "id": "MMDGr-ELvBZL"
      }
    },
    {
      "cell_type": "code",
      "source": [
        "train_df = train_single_df\n",
        "val_df = trial_val_single_df\n",
        "\n",
        "vectorizer = TfidfVectorizer()  # just on 'sentence_no_contractions'\n",
        "X_train = vectorizer.fit_transform(train_df['sentence_no_contractions'])\n",
        "y_train = train_df['binary_complexity']\n",
        "\n",
        "X_val = vectorizer.transform(val_df['sentence_no_contractions'])\n",
        "y_val = val_df['binary_complexity']\n",
        "\n",
        "clf = MultinomialNB()\n",
        "clf.fit(X_train, y_train)\n",
        "preds = clf.predict(X_val)\n",
        "print(classification_report(y_val, preds))\n"
      ],
      "metadata": {
        "colab": {
          "base_uri": "https://localhost:8080/"
        },
        "id": "nd8mW5gfhV8j",
        "outputId": "9591843e-7358-48f7-ed42-c124ca1478dd"
      },
      "execution_count": 14,
      "outputs": [
        {
          "output_type": "stream",
          "name": "stdout",
          "text": [
            "              precision    recall  f1-score   support\n",
            "\n",
            "           0       0.58      0.74      0.65       229\n",
            "           1       0.55      0.38      0.44       192\n",
            "\n",
            "    accuracy                           0.57       421\n",
            "   macro avg       0.57      0.56      0.55       421\n",
            "weighted avg       0.57      0.57      0.56       421\n",
            "\n"
          ]
        }
      ]
    },
    {
      "cell_type": "markdown",
      "source": [
        "- sentence with contractions"
      ],
      "metadata": {
        "id": "00DmH5T-vDp3"
      }
    },
    {
      "cell_type": "code",
      "source": [
        "train_df = train_single_df\n",
        "val_df = trial_val_single_df\n",
        "\n",
        "vectorizer = TfidfVectorizer()  # just on 'sentence'\n",
        "X_train = vectorizer.fit_transform(train_df['sentence'])\n",
        "y_train = train_df['binary_complexity']\n",
        "\n",
        "X_val = vectorizer.transform(val_df['sentence'])\n",
        "y_val = val_df['binary_complexity']\n",
        "\n",
        "clf = MultinomialNB()\n",
        "clf.fit(X_train, y_train)\n",
        "preds = clf.predict(X_val)\n",
        "print(classification_report(y_val, preds))\n"
      ],
      "metadata": {
        "colab": {
          "base_uri": "https://localhost:8080/"
        },
        "id": "p0rDGC_Ur7Tc",
        "outputId": "492ecfce-45ae-4fe7-f52b-ae28326e3708"
      },
      "execution_count": 15,
      "outputs": [
        {
          "output_type": "stream",
          "name": "stdout",
          "text": [
            "              precision    recall  f1-score   support\n",
            "\n",
            "           0       0.58      0.74      0.65       229\n",
            "           1       0.55      0.38      0.44       192\n",
            "\n",
            "    accuracy                           0.57       421\n",
            "   macro avg       0.57      0.56      0.55       421\n",
            "weighted avg       0.57      0.57      0.56       421\n",
            "\n"
          ]
        }
      ]
    },
    {
      "cell_type": "markdown",
      "source": [
        "- sentence no contractions"
      ],
      "metadata": {
        "id": "s90SKXECvFdU"
      }
    },
    {
      "cell_type": "code",
      "source": [
        "train_df = train_multi_df\n",
        "val_df = trial_val_multi_df\n",
        "\n",
        "vectorizer = TfidfVectorizer()  # just on 'sentence_no_contractions'\n",
        "X_train = vectorizer.fit_transform(train_df['sentence_no_contractions'])\n",
        "y_train = train_df['binary_complexity']\n",
        "\n",
        "X_val = vectorizer.transform(val_df['sentence_no_contractions'])\n",
        "y_val = val_df['binary_complexity']\n",
        "\n",
        "clf = MultinomialNB()\n",
        "clf.fit(X_train, y_train)\n",
        "preds = clf.predict(X_val)\n",
        "print(classification_report(y_val, preds))"
      ],
      "metadata": {
        "colab": {
          "base_uri": "https://localhost:8080/"
        },
        "id": "5krsiE6ohV6F",
        "outputId": "2038b7d3-4f2c-4b60-ed90-c48c6e76c948"
      },
      "execution_count": 16,
      "outputs": [
        {
          "output_type": "stream",
          "name": "stdout",
          "text": [
            "              precision    recall  f1-score   support\n",
            "\n",
            "           0       0.52      0.67      0.58        48\n",
            "           1       0.57      0.41      0.48        51\n",
            "\n",
            "    accuracy                           0.54        99\n",
            "   macro avg       0.54      0.54      0.53        99\n",
            "weighted avg       0.54      0.54      0.53        99\n",
            "\n"
          ]
        }
      ]
    },
    {
      "cell_type": "markdown",
      "source": [
        "- sentence with contractions"
      ],
      "metadata": {
        "id": "gSARiKJUvJlO"
      }
    },
    {
      "cell_type": "code",
      "source": [
        "train_df = train_multi_df\n",
        "val_df = trial_val_multi_df\n",
        "\n",
        "vectorizer = TfidfVectorizer()  # just on 'sentence'\n",
        "X_train = vectorizer.fit_transform(train_df['sentence'])\n",
        "y_train = train_df['binary_complexity']\n",
        "\n",
        "X_val = vectorizer.transform(val_df['sentence'])\n",
        "y_val = val_df['binary_complexity']\n",
        "\n",
        "clf = MultinomialNB()\n",
        "clf.fit(X_train, y_train)\n",
        "preds = clf.predict(X_val)\n",
        "print(classification_report(y_val, preds))\n"
      ],
      "metadata": {
        "colab": {
          "base_uri": "https://localhost:8080/"
        },
        "id": "nDhdExbrhV3n",
        "outputId": "b92f539d-a88c-4a6d-e42b-28ff543483d0"
      },
      "execution_count": 17,
      "outputs": [
        {
          "output_type": "stream",
          "name": "stdout",
          "text": [
            "              precision    recall  f1-score   support\n",
            "\n",
            "           0       0.52      0.67      0.58        48\n",
            "           1       0.57      0.41      0.48        51\n",
            "\n",
            "    accuracy                           0.54        99\n",
            "   macro avg       0.54      0.54      0.53        99\n",
            "weighted avg       0.54      0.54      0.53        99\n",
            "\n"
          ]
        }
      ]
    },
    {
      "cell_type": "markdown",
      "source": [
        "- **Score is higher than expected for a Naive Bayes model**\n",
        "- **There is no difference in performance when using the input sequence of the sentence with and without contractions**"
      ],
      "metadata": {
        "id": "8ZGQHDtwsMwa"
      }
    },
    {
      "cell_type": "markdown",
      "source": [
        "### X = pos_sequence: Part-of-Speech Tags"
      ],
      "metadata": {
        "id": "kmm6vDVPsm6a"
      }
    },
    {
      "cell_type": "markdown",
      "source": [
        "- POS Tags: Extracts the part-of-speech (POS) tags for each token (e.g., \"DET\", \"NOUN\", \"VERB\")."
      ],
      "metadata": {
        "id": "UAkALOTjuG36"
      }
    },
    {
      "cell_type": "code",
      "source": [
        "train_df = train_single_df\n",
        "val_df = trial_val_single_df\n",
        "\n",
        "vectorizer = TfidfVectorizer()\n",
        "X_train = vectorizer.fit_transform(train_df['pos_sequence'])\n",
        "y_train = train_df['binary_complexity']\n",
        "\n",
        "X_val = vectorizer.transform(val_df['pos_sequence'])\n",
        "y_val = val_df['binary_complexity']\n",
        "\n",
        "clf = MultinomialNB()\n",
        "clf.fit(X_train, y_train)\n",
        "preds = clf.predict(X_val)\n",
        "print(classification_report(y_val, preds))\n"
      ],
      "metadata": {
        "colab": {
          "base_uri": "https://localhost:8080/"
        },
        "id": "_j5rivRdsbaQ",
        "outputId": "4e5f1385-f88d-4e33-c199-fcc992be1c67"
      },
      "execution_count": 18,
      "outputs": [
        {
          "output_type": "stream",
          "name": "stdout",
          "text": [
            "              precision    recall  f1-score   support\n",
            "\n",
            "           0       0.60      0.67      0.63       229\n",
            "           1       0.54      0.46      0.50       192\n",
            "\n",
            "    accuracy                           0.57       421\n",
            "   macro avg       0.57      0.57      0.56       421\n",
            "weighted avg       0.57      0.57      0.57       421\n",
            "\n"
          ]
        }
      ]
    },
    {
      "cell_type": "code",
      "source": [
        "train_df = train_multi_df\n",
        "val_df = trial_val_multi_df\n",
        "\n",
        "vectorizer = TfidfVectorizer()\n",
        "X_train = vectorizer.fit_transform(train_df['pos_sequence'])\n",
        "y_train = train_df['binary_complexity']\n",
        "\n",
        "X_val = vectorizer.transform(val_df['pos_sequence'])\n",
        "y_val = val_df['binary_complexity']\n",
        "\n",
        "clf = MultinomialNB()\n",
        "clf.fit(X_train, y_train)\n",
        "preds = clf.predict(X_val)\n",
        "print(classification_report(y_val, preds))\n"
      ],
      "metadata": {
        "colab": {
          "base_uri": "https://localhost:8080/"
        },
        "id": "vJUA-jU3tBKj",
        "outputId": "e0d3743d-233e-43f6-eccc-0e4b3e4e801b"
      },
      "execution_count": 19,
      "outputs": [
        {
          "output_type": "stream",
          "name": "stdout",
          "text": [
            "              precision    recall  f1-score   support\n",
            "\n",
            "           0       0.58      0.54      0.56        48\n",
            "           1       0.59      0.63      0.61        51\n",
            "\n",
            "    accuracy                           0.59        99\n",
            "   macro avg       0.59      0.58      0.58        99\n",
            "weighted avg       0.59      0.59      0.59        99\n",
            "\n"
          ]
        }
      ]
    },
    {
      "cell_type": "markdown",
      "source": [
        "- Part of Speech tags outperform raw input sequence"
      ],
      "metadata": {
        "id": "y9fD5Js7t8Ez"
      }
    },
    {
      "cell_type": "markdown",
      "source": [
        "### X = dep_sequence: Dependency Tags\n",
        "\n",
        "- Dependency Tags: Extracts the syntactic dependency labels for each token (e.g., \"det\", \"nsubj\", \"ROOT\")."
      ],
      "metadata": {
        "id": "N9puBjbrtktC"
      }
    },
    {
      "cell_type": "code",
      "source": [
        "train_df = train_single_df\n",
        "val_df = trial_val_single_df\n",
        "\n",
        "vectorizer = TfidfVectorizer()\n",
        "X_train = vectorizer.fit_transform(train_df['dep_sequence'])\n",
        "y_train = train_df['binary_complexity']\n",
        "\n",
        "X_val = vectorizer.transform(val_df['dep_sequence'])\n",
        "y_val = val_df['binary_complexity']\n",
        "\n",
        "clf = MultinomialNB()\n",
        "clf.fit(X_train, y_train)\n",
        "preds = clf.predict(X_val)\n",
        "print(classification_report(y_val, preds))"
      ],
      "metadata": {
        "colab": {
          "base_uri": "https://localhost:8080/"
        },
        "id": "Z0uXfJPLsbX0",
        "outputId": "404e8949-6044-4927-c8f7-cc6780a31f7b"
      },
      "execution_count": 20,
      "outputs": [
        {
          "output_type": "stream",
          "name": "stdout",
          "text": [
            "              precision    recall  f1-score   support\n",
            "\n",
            "           0       0.61      0.60      0.60       229\n",
            "           1       0.53      0.54      0.54       192\n",
            "\n",
            "    accuracy                           0.57       421\n",
            "   macro avg       0.57      0.57      0.57       421\n",
            "weighted avg       0.57      0.57      0.57       421\n",
            "\n"
          ]
        }
      ]
    },
    {
      "cell_type": "code",
      "source": [
        "train_df = train_multi_df\n",
        "val_df = trial_val_multi_df\n",
        "\n",
        "vectorizer = TfidfVectorizer()\n",
        "X_train = vectorizer.fit_transform(train_df['dep_sequence'])\n",
        "y_train = train_df['binary_complexity']\n",
        "\n",
        "X_val = vectorizer.transform(val_df['dep_sequence'])\n",
        "y_val = val_df['binary_complexity']\n",
        "\n",
        "clf = MultinomialNB()\n",
        "clf.fit(X_train, y_train)\n",
        "preds = clf.predict(X_val)\n",
        "print(classification_report(y_val, preds))"
      ],
      "metadata": {
        "colab": {
          "base_uri": "https://localhost:8080/"
        },
        "id": "zmVkGchCuuj2",
        "outputId": "9428c46e-f472-4acd-d213-28b7f6f36f48"
      },
      "execution_count": 21,
      "outputs": [
        {
          "output_type": "stream",
          "name": "stdout",
          "text": [
            "              precision    recall  f1-score   support\n",
            "\n",
            "           0       0.51      0.46      0.48        48\n",
            "           1       0.54      0.59      0.56        51\n",
            "\n",
            "    accuracy                           0.53        99\n",
            "   macro avg       0.52      0.52      0.52        99\n",
            "weighted avg       0.52      0.53      0.52        99\n",
            "\n"
          ]
        }
      ]
    },
    {
      "cell_type": "markdown",
      "source": [
        "### X = morph_sequence: Morphological Features\n",
        "- For each token, the morphological attributes have been retrieved for each token"
      ],
      "metadata": {
        "id": "hlE9BbXuuYQO"
      }
    },
    {
      "cell_type": "code",
      "source": [
        "train_df = train_single_df\n",
        "val_df = trial_val_single_df\n",
        "\n",
        "vectorizer = TfidfVectorizer()\n",
        "X_train = vectorizer.fit_transform(train_df['morph_sequence'])\n",
        "y_train = train_df['binary_complexity']\n",
        "\n",
        "X_val = vectorizer.transform(val_df['morph_sequence'])\n",
        "y_val = val_df['binary_complexity']\n",
        "\n",
        "clf = MultinomialNB()\n",
        "clf.fit(X_train, y_train)\n",
        "preds = clf.predict(X_val)\n",
        "print(classification_report(y_val, preds))\n"
      ],
      "metadata": {
        "colab": {
          "base_uri": "https://localhost:8080/"
        },
        "id": "jpy5Kh8SsbTR",
        "outputId": "4a69f0f3-d20a-48b2-edbf-cc7fae94cb78"
      },
      "execution_count": 22,
      "outputs": [
        {
          "output_type": "stream",
          "name": "stdout",
          "text": [
            "              precision    recall  f1-score   support\n",
            "\n",
            "           0       0.62      0.59      0.60       229\n",
            "           1       0.53      0.57      0.55       192\n",
            "\n",
            "    accuracy                           0.58       421\n",
            "   macro avg       0.58      0.58      0.58       421\n",
            "weighted avg       0.58      0.58      0.58       421\n",
            "\n"
          ]
        }
      ]
    },
    {
      "cell_type": "code",
      "source": [
        "train_df = train_multi_df\n",
        "val_df = trial_val_multi_df\n",
        "\n",
        "vectorizer = TfidfVectorizer()\n",
        "X_train = vectorizer.fit_transform(train_df['morph_sequence'])\n",
        "y_train = train_df['binary_complexity']\n",
        "\n",
        "X_val = vectorizer.transform(val_df['morph_sequence'])\n",
        "y_val = val_df['binary_complexity']\n",
        "\n",
        "clf = MultinomialNB()\n",
        "clf.fit(X_train, y_train)\n",
        "preds = clf.predict(X_val)\n",
        "print(classification_report(y_val, preds))\n"
      ],
      "metadata": {
        "colab": {
          "base_uri": "https://localhost:8080/"
        },
        "id": "SS92gFd1sbQe",
        "outputId": "0fd0de53-8832-4e58-b7db-df9c02615dd2"
      },
      "execution_count": 23,
      "outputs": [
        {
          "output_type": "stream",
          "name": "stdout",
          "text": [
            "              precision    recall  f1-score   support\n",
            "\n",
            "           0       0.62      0.52      0.57        48\n",
            "           1       0.61      0.71      0.65        51\n",
            "\n",
            "    accuracy                           0.62        99\n",
            "   macro avg       0.62      0.61      0.61        99\n",
            "weighted avg       0.62      0.62      0.61        99\n",
            "\n"
          ]
        }
      ]
    },
    {
      "cell_type": "markdown",
      "source": [
        "### Baseline Experiment Results\n",
        "\n",
        "The table below summarizes the evaluation metrics for our Naive Bayes experiments. We report results for both sentence inputs (with and without contractions) as well as for the linguistic feature representations: Part-of-Speech tags (POS), Dependency tags, and Morphological features. Results are provided separately for the *Single* and *Multi* datasets. **Our Preferred Evaluation Metric of Interest is F1 Score**.\n",
        "\n",
        "| **Input Type**                   | **Dataset** | **Accuracy** | **Precision** | **Recall** | **F1 Score** |\n",
        "|----------------------------------|-------------|--------------|---------------|------------|--------------|\n",
        "| Sentence (with contractions)     | Single      | 57%          | 57%           | 57%        | 57%          |\n",
        "| Sentence (without contractions)  | Single      | 57%          | 57%           | 57%        | 57%          |\n",
        "| Sentence (with contractions)     | Multi       | 54%          | 54%           | 54%        | 54%          |\n",
        "| Sentence (without contractions)  | Multi       | 54%          | 54%           | 54%        | 54%          |\n",
        "| POS Tags (pos_sequence)      | Single      | 57%          | 57%           | 57%        | 57%          |\n",
        "| POS Tags (pos_sequence)      | Multi       | 59%          | 59%           | 59%        | 59%          |\n",
        "| Dependency Tags (dep_sequence) | Single    | 57%          | 57%           | 57%        | 57%          |\n",
        "| Dependency Tags (dep_sequence) | Multi     | 52%          | 52%           | 52%        | 52%          |\n",
        "| Morphological Features (morph_sequence) | Single | 58%    | 58%           | 58%        | 58%          |\n",
        "| Morphological Features (morph_sequence) | Multi  | 62%    | 62%           | 62%        | 62%          |\n",
        "\n",
        "*Note:* The metrics shown above are the weighted averages derived from Trial_Val.\n",
        "\n",
        "\n",
        "\n",
        "#### Evaluation\n",
        "\n",
        "- **Raw Sentence Input:** Both with and without contractions, the single-dataset experiment shows a macro F1-score of 0.57, while the multi-dataset experiment yields a lower F1-score (0.54). This suggests that for raw text, model performance degrades on the multi-label version. **While there is no contextual difference between in the contexts between the single and multi versions, the binary_complexity is different, as the complexity scores derived from the 'complex unigram and bigram tokens' in both the single and multi splits of the datasets achieved different scores, and thus different medians (from which we derived our binarized value).**\n",
        "\n",
        "- **POS Tags:** Using part-of-speech tag sequences produces results similar to raw text on the single dataset (F1 = 0.57) and even slightly better performance on the multi dataset (F1 = 0.59).\n",
        "\n",
        "- **Dependency Tags:** Dependency label sequences perform on par with the other features in the single-dataset setting (F1 = 0.57) but drop to an F1-score of 0.52 on the multi dataset, indicating less robustness for this representation in that setting.\n",
        "\n",
        "- **Morphological Features:** On the single dataset, morphological features give a modest improvement (F1 = 0.58) over raw text. Notably, on the multi dataset, they yield the highest performance (F1 = 0.62), suggesting that despite there being no contextual difference between the two, Naive Bayes' capacity to split the complexity of the input sequence is more aligned with the median threshold of the multi-version split of the data. <i>However, it should be noted that the multi-split for trial_val is literally only 99 records, so I expect that these performance metrics will drop substantially on the test set</i>\n",
        "\n",
        "- **Hyperparameter Tuning:** Naive Bayes was used in a fairly vanilla manner, not reflected in this notebook were some experiments done with varying alphas (i.e. Laplace Smoothing Values)—these led to effectively no difference in average F1 Score results.\n",
        "\n",
        "Overall, these results indicate that while raw text and simple POS tags are competitive, the morphological feature representation provides an edge—especially in the multi dataset scenario. **This indicates keeping these additional features on-hand for transformers-based ablations may be a good call.**\n"
      ],
      "metadata": {
        "id": "pGyR5awNxlm8"
      }
    },
    {
      "cell_type": "markdown",
      "source": [
        "## Experiments with Transformers Models"
      ],
      "metadata": {
        "id": "kxZvACQZQu61"
      }
    },
    {
      "cell_type": "code",
      "source": [
        "!ls /content/drive/MyDrive/266-final/models/"
      ],
      "metadata": {
        "colab": {
          "base_uri": "https://localhost:8080/"
        },
        "id": "AOm3XFNB8CWU",
        "outputId": "08c8a1f7-4522-4efb-b61d-4cf9a50776fe"
      },
      "execution_count": 24,
      "outputs": [
        {
          "output_type": "stream",
          "name": "stdout",
          "text": [
            "nltk_data\n"
          ]
        }
      ]
    },
    {
      "cell_type": "code",
      "source": [
        "# !mkdir /content/drive/MyDrive/266-final/results/bert-base-uncased/\n",
        "!ls -R /content/drive/MyDrive/266-final/results/"
      ],
      "metadata": {
        "colab": {
          "base_uri": "https://localhost:8080/"
        },
        "id": "Y48_PgW_8GaO",
        "outputId": "a962aec9-4b23-41c7-ceb5-99c17b1c70fe"
      },
      "execution_count": 25,
      "outputs": [
        {
          "output_type": "stream",
          "name": "stdout",
          "text": [
            "/content/drive/MyDrive/266-final/results/:\n",
            "bert-base-uncased\t\t\t   sentence_span_analysis.csv\n",
            "sentence_no_contraction_span_analysis.csv  sentence_span_analysis_no_contractions.csv\n",
            "\n",
            "/content/drive/MyDrive/266-final/results/bert-base-uncased:\n",
            "morph_single\n",
            "\n",
            "/content/drive/MyDrive/266-final/results/bert-base-uncased/morph_single:\n"
          ]
        }
      ]
    },
    {
      "cell_type": "markdown",
      "source": [
        "#### Helper Functions and Experiment Parameters"
      ],
      "metadata": {
        "id": "Yk81lOk-aMOD"
      }
    },
    {
      "cell_type": "code",
      "source": [
        "# Convert Pandas DataFrame to a HF Dataset\n",
        "def dataframe_to_hf_dataset(df, text_col, label_col=\"binary_complexity\"):\n",
        "    \"\"\"\n",
        "    Converts a Pandas DataFrame to a Hugging Face Dataset, keeping only:\n",
        "      - text_col (e.g. 'sentence_no_contractions')\n",
        "      - label_col (e.g. 'binary_complexity')\n",
        "    Returns a HF Dataset with columns [\"text\", \"label\"].\n",
        "    \"\"\"\n",
        "    subset_df = df[[text_col, label_col]].copy()\n",
        "    subset_df.columns = [\"text\", \"label\"]\n",
        "    hf_dataset = Dataset.from_pandas(subset_df)\n",
        "    return hf_dataset\n",
        "\n",
        "def prepare_dataset_for_trainer(df, text_col, tokenizer, label_col=\"binary_complexity\", max_length=128):\n",
        "    \"\"\"\n",
        "    1) Converts the DataFrame to a HF Dataset (only text_col, label_col).\n",
        "    2) Tokenizes using tokenizer (truncation, padding).\n",
        "    3) Casts the dataset to PyTorch with columns [\"input_ids\", \"attention_mask\", \"label\"].\n",
        "    \"\"\"\n",
        "    hf_dataset = dataframe_to_hf_dataset(df, text_col, label_col=label_col)\n",
        "\n",
        "    def tokenize_batch(examples):\n",
        "        return tokenizer(\n",
        "            examples[\"text\"],\n",
        "            truncation=True,\n",
        "            padding=\"max_length\",\n",
        "            max_length=max_length\n",
        "        )\n",
        "    hf_dataset = hf_dataset.map(tokenize_batch, batched=True)\n",
        "    hf_dataset.set_format(type=\"torch\", columns=[\"input_ids\", \"attention_mask\", \"label\"])\n",
        "    return hf_dataset"
      ],
      "metadata": {
        "id": "2eA8_WHLZEIJ"
      },
      "execution_count": 26,
      "outputs": []
    },
    {
      "cell_type": "code",
      "source": [
        "# Compute Binary Classification Metrics\n",
        "def compute_metrics(eval_pred):\n",
        "    \"\"\"\n",
        "    Returns dict with accuracy, precision, recall, f1\n",
        "    for binary classification.\n",
        "    \"\"\"\n",
        "    logits, labels = eval_pred\n",
        "    predictions = np.argmax(logits, axis=-1)\n",
        "    precision, recall, f1, _ = precision_recall_fscore_support(\n",
        "        labels, predictions, average=\"binary\", zero_division=0\n",
        "    )\n",
        "    acc = accuracy_score(labels, predictions)\n",
        "    return {\n",
        "        \"accuracy\": acc,\n",
        "        \"precision\": precision,\n",
        "        \"recall\": recall,\n",
        "        \"f1\": f1\n",
        "    }"
      ],
      "metadata": {
        "id": "RmsT1SvAZFc0"
      },
      "execution_count": 27,
      "outputs": []
    },
    {
      "cell_type": "code",
      "source": [
        "# Build Output Directory\n",
        "def build_output_dir(base_dir, model_name, lr, epochs, batch_size, max_len, x_task, x_col):\n",
        "    \"\"\"\n",
        "    Creates a folder name that encodes the experimental setup, e.g.:\n",
        "      /content/drive/MyDrive/266-final/results/\n",
        "        [model_name]_[x_task]_[x_col]_lr1e-3_ep3_bs4_len348\n",
        "    \"\"\"\n",
        "    # Clean up model_name for folder naming (remove any slashes)\n",
        "    model_dir_name = model_name.replace(\"/\", \"-\")\n",
        "\n",
        "    folder_name = f\"{model_dir_name}_{x_task}_{x_col}_lr{lr}_ep{epochs}_bs{batch_size}_len{max_len}\"\n",
        "    out_path = os.path.join(base_dir, folder_name)\n",
        "    return out_path"
      ],
      "metadata": {
        "id": "Rc39ys1wZJgr"
      },
      "execution_count": 28,
      "outputs": []
    },
    {
      "cell_type": "code",
      "source": [
        "# Experiment Runner\n",
        "def run_transformer_experiment(\n",
        "    train_df,\n",
        "    val_df,\n",
        "    test_df,\n",
        "    text_col,\n",
        "    model_name,\n",
        "    lr,\n",
        "    epochs,\n",
        "    batch_size,\n",
        "    max_len,\n",
        "    y_col=\"binary_complexity\",\n",
        "    base_out_dir=\"/content/drive/MyDrive/266-final/results/\"\n",
        "):\n",
        "    # Build output directory from hyperparams\n",
        "    output_dir = build_output_dir(\n",
        "        base_out_dir, model_name, lr, epochs, batch_size, max_len, x_task, text_col\n",
        "    )\n",
        "\n",
        "    print(f\"[INFO] Using output_dir: {output_dir}\")\n",
        "\n",
        "    # 1. Load tokenizer\n",
        "    tokenizer = AutoTokenizer.from_pretrained(model_name)\n",
        "\n",
        "    # 2. Prepare Datasets\n",
        "    train_dataset = prepare_dataset_for_trainer(train_df, text_col, tokenizer, label_col=y_col, max_length=max_len)\n",
        "    val_dataset   = prepare_dataset_for_trainer(val_df,   text_col, tokenizer, label_col=y_col, max_length=max_len)\n",
        "    test_dataset  = prepare_dataset_for_trainer(test_df,  text_col, tokenizer, label_col=y_col, max_length=max_len)\n",
        "\n",
        "    # 3. Load model\n",
        "    model = AutoModelForSequenceClassification.from_pretrained(model_name, num_labels=2)\n",
        "\n",
        "    # 4. TrainingArguments\n",
        "    training_args = TrainingArguments(\n",
        "        output_dir = output_dir,\n",
        "        evaluation_strategy = \"epoch\",\n",
        "        save_strategy = \"epoch\",\n",
        "        learning_rate = lr,\n",
        "        per_device_train_batch_size = batch_size,\n",
        "        per_device_eval_batch_size = batch_size,\n",
        "        num_train_epochs = epochs,\n",
        "        weight_decay = 0,\n",
        "        logging_dir = \"./my_bert_logs\",\n",
        "        logging_steps = 500\n",
        "    )\n",
        "\n",
        "    # 5. Trainer\n",
        "    trainer = Trainer(\n",
        "        model = model,\n",
        "        args = training_args,\n",
        "        train_dataset = train_dataset,\n",
        "        eval_dataset = val_dataset,\n",
        "        tokenizer = tokenizer,\n",
        "        compute_metrics = compute_metrics\n",
        "    )\n",
        "\n",
        "    # 6. Train\n",
        "    trainer.train()\n",
        "\n",
        "    # 7. Evaluate\n",
        "    metrics_val = trainer.evaluate(eval_dataset=val_dataset)\n",
        "    metrics_test = trainer.evaluate(eval_dataset=test_dataset)\n",
        "\n",
        "    print(f\"\\n===== RESULTS for text_col='{text_col}' =====\")\n",
        "    print(\"[Validation]:\", metrics_val)\n",
        "    print(\"[Test]:\", metrics_test)\n",
        "\n",
        "    return trainer, (metrics_val, metrics_test)"
      ],
      "metadata": {
        "id": "IAWuyLqWZWtq"
      },
      "execution_count": 29,
      "outputs": []
    },
    {
      "cell_type": "markdown",
      "source": [
        "### Experiment Configuration"
      ],
      "metadata": {
        "id": "e2pR0J_haT0g"
      }
    },
    {
      "cell_type": "code",
      "source": [
        "# Define Experiment Parameters\n",
        "\n",
        "named_model = \"bert-base-cased\"\n",
        "# named_model = \"roberta-base\"\n",
        "# named_model = \"bert-large\"\n",
        "# named_model = \"roberta-large\"\n",
        "# named_model = \"\"\n",
        "\n",
        "# learning_rate = 1e-3\n",
        "learning_rate = 1e-4\n",
        "# learning_rate = 1e-5\n",
        "# learning_rate = 5e-6\n",
        "\n",
        "# num_epochs = 3\n",
        "num_epochs = 5\n",
        "# num_epochs = 10\n",
        "# num_epochs = 15\n",
        "# num_epochs = 20\n",
        "\n",
        "length_max = 348\n",
        "# length_max = 512\n",
        "\n",
        "# size_batch = 1\n",
        "# size_batch = 4\n",
        "# size_batch = 8\n",
        "# size_batch = 16\n",
        "# size_batch = 24\n",
        "size_batch = 32\n",
        "\n",
        "y_col = \"binary_complexity\"\n",
        "# y_col = \"complexity\"\n",
        "\n",
        "x_task = \"single\"\n",
        "# x_task = \"multi\"\n",
        "\n",
        "# x_col = \"sentence\"\n",
        "# x_col = \"sentence_no_contractions\"\n",
        "# x_col = \"pos_sequence\"\n",
        "# x_col = \"dep_sequence\"\n",
        "x_col = \"morph_sequence\"\n",
        "\n",
        "if x_task == \"single\":\n",
        "    df_train = train_single_df\n",
        "    df_val   = trial_val_single_df\n",
        "    df_test  = test_single_df\n",
        "else:\n",
        "    df_train = train_multi_df\n",
        "    df_val   = trial_val_multi_df\n",
        "    df_test  = test_multi_df"
      ],
      "metadata": {
        "id": "cviQ64Y-aRlk"
      },
      "execution_count": 41,
      "outputs": []
    },
    {
      "cell_type": "code",
      "source": [
        "trainer_obj, (val_metrics, test_metrics) = run_transformer_experiment(\n",
        "    train_df = df_train,\n",
        "    val_df = df_val,\n",
        "    test_df = df_test,\n",
        "    text_col = x_col,\n",
        "    model_name = named_model,\n",
        "    lr = learning_rate,\n",
        "    epochs = num_epochs,\n",
        "    batch_size = size_batch,\n",
        "    max_len = length_max,\n",
        "    y_col = y_col,\n",
        "    base_out_dir = \"/content/drive/MyDrive/266-final/results/\"\n",
        ")\n",
        "\n",
        "print(\"\\nFinal Validation Metrics:\", val_metrics)\n",
        "print(\"Final Test Metrics:\", test_metrics)"
      ],
      "metadata": {
        "colab": {
          "base_uri": "https://localhost:8080/",
          "height": 609,
          "referenced_widgets": [
            "0737c757a8bf4ea9a1656f94b04f98ab",
            "d502a5c1583e4d9fb95781f436af4853",
            "1638be92a6194b4e81ef1547389f70f4",
            "5a302b3b390f4a27a6bf2be7d06554a4",
            "9e73ba029c0a433daea51028c4b6013c",
            "8c8d8148bb10488ea373163e7e19a42a",
            "af048d45f3a5408383b9142eae036e88",
            "080f39edbf3b43cbbee7b4d2cb6681b1",
            "db10a38fc68c41e284a7e4b539effd12",
            "a37829153ab44a7c88b7c400de5a53df",
            "43c9bf16f0064f07b4f6729159a0728b",
            "1f347df549db4d2ab85eb3c61c91f315",
            "d133f1ffdaad4fe7aabc47a4282f878e",
            "a64d7f7321564b1d8eb71082b8daeb74",
            "f1085d174e744b2e8c4eb9dbafca0a0f",
            "a8223e5d3d4146b1bdd8001a54e4216c",
            "5679b14f90f748bc98ae08d4c44a91ab",
            "f1ab57eb36764377b7140d1bfc1d8d5c",
            "47bbb37223544903bac992523b76563c",
            "c023cd7ef55845b0bc4ebe349212209a",
            "02161ed764b04d56b1830dc18d6a5de0",
            "c6666f64c22347d783849e33b1b906e3",
            "a61344fab07b4fb5bf93f46db988edd9",
            "6f06fd28baf5446f8d36f192bf146f6b",
            "e57f18352b7447b89325aab6b2852f21",
            "a583b2d5dd174a11bbddd489f999957c",
            "53f4ff0116d74432bf45b994d9d4504a",
            "dca2a1860ef04d7ba56856a0ce8ca1a6",
            "1837661d2cbb431dab05a5d341c6b7c6",
            "912f7ff689b14694b745606b96853b24",
            "a3a21cdc2d9040439a7f5a345955313b",
            "af64e9de9c344f7da1af46a60d96592d",
            "5a965eac4f7c41189c0707f12ba7f2b6"
          ]
        },
        "id": "5kkguSfsaD6P",
        "outputId": "0596d2a8-9474-436c-c731-5624f9ce1048"
      },
      "execution_count": 38,
      "outputs": [
        {
          "output_type": "stream",
          "name": "stdout",
          "text": [
            "[INFO] Using output_dir: /content/drive/MyDrive/266-final/results/bert-base-uncased_single_morph_sequence_lr0.0001_ep5_bs32_len348\n"
          ]
        },
        {
          "output_type": "display_data",
          "data": {
            "text/plain": [
              "Map:   0%|          | 0/7662 [00:00<?, ? examples/s]"
            ],
            "application/vnd.jupyter.widget-view+json": {
              "version_major": 2,
              "version_minor": 0,
              "model_id": "0737c757a8bf4ea9a1656f94b04f98ab"
            }
          },
          "metadata": {}
        },
        {
          "output_type": "display_data",
          "data": {
            "text/plain": [
              "Map:   0%|          | 0/421 [00:00<?, ? examples/s]"
            ],
            "application/vnd.jupyter.widget-view+json": {
              "version_major": 2,
              "version_minor": 0,
              "model_id": "1f347df549db4d2ab85eb3c61c91f315"
            }
          },
          "metadata": {}
        },
        {
          "output_type": "display_data",
          "data": {
            "text/plain": [
              "Map:   0%|          | 0/917 [00:00<?, ? examples/s]"
            ],
            "application/vnd.jupyter.widget-view+json": {
              "version_major": 2,
              "version_minor": 0,
              "model_id": "a61344fab07b4fb5bf93f46db988edd9"
            }
          },
          "metadata": {}
        },
        {
          "output_type": "stream",
          "name": "stderr",
          "text": [
            "Some weights of BertForSequenceClassification were not initialized from the model checkpoint at bert-base-uncased and are newly initialized: ['classifier.bias', 'classifier.weight']\n",
            "You should probably TRAIN this model on a down-stream task to be able to use it for predictions and inference.\n",
            "/usr/local/lib/python3.11/dist-packages/transformers/training_args.py:1611: FutureWarning: `evaluation_strategy` is deprecated and will be removed in version 4.46 of 🤗 Transformers. Use `eval_strategy` instead\n",
            "  warnings.warn(\n",
            "<ipython-input-29-fc1f37fce11c>:48: FutureWarning: `tokenizer` is deprecated and will be removed in version 5.0.0 for `Trainer.__init__`. Use `processing_class` instead.\n",
            "  trainer = Trainer(\n"
          ]
        },
        {
          "output_type": "display_data",
          "data": {
            "text/plain": [
              "<IPython.core.display.HTML object>"
            ],
            "text/html": [
              "\n",
              "    <div>\n",
              "      \n",
              "      <progress value='1200' max='1200' style='width:300px; height:20px; vertical-align: middle;'></progress>\n",
              "      [1200/1200 08:20, Epoch 5/5]\n",
              "    </div>\n",
              "    <table border=\"1\" class=\"dataframe\">\n",
              "  <thead>\n",
              " <tr style=\"text-align: left;\">\n",
              "      <th>Epoch</th>\n",
              "      <th>Training Loss</th>\n",
              "      <th>Validation Loss</th>\n",
              "      <th>Accuracy</th>\n",
              "      <th>Precision</th>\n",
              "      <th>Recall</th>\n",
              "      <th>F1</th>\n",
              "    </tr>\n",
              "  </thead>\n",
              "  <tbody>\n",
              "    <tr>\n",
              "      <td>1</td>\n",
              "      <td>0.699700</td>\n",
              "      <td>0.689430</td>\n",
              "      <td>0.543943</td>\n",
              "      <td>0.000000</td>\n",
              "      <td>0.000000</td>\n",
              "      <td>0.000000</td>\n",
              "    </tr>\n",
              "    <tr>\n",
              "      <td>2</td>\n",
              "      <td>0.697600</td>\n",
              "      <td>0.689957</td>\n",
              "      <td>0.543943</td>\n",
              "      <td>0.000000</td>\n",
              "      <td>0.000000</td>\n",
              "      <td>0.000000</td>\n",
              "    </tr>\n",
              "    <tr>\n",
              "      <td>3</td>\n",
              "      <td>0.694900</td>\n",
              "      <td>0.691353</td>\n",
              "      <td>0.543943</td>\n",
              "      <td>0.000000</td>\n",
              "      <td>0.000000</td>\n",
              "      <td>0.000000</td>\n",
              "    </tr>\n",
              "    <tr>\n",
              "      <td>4</td>\n",
              "      <td>0.695700</td>\n",
              "      <td>0.691684</td>\n",
              "      <td>0.543943</td>\n",
              "      <td>0.000000</td>\n",
              "      <td>0.000000</td>\n",
              "      <td>0.000000</td>\n",
              "    </tr>\n",
              "    <tr>\n",
              "      <td>5</td>\n",
              "      <td>0.693100</td>\n",
              "      <td>0.692698</td>\n",
              "      <td>0.543943</td>\n",
              "      <td>0.000000</td>\n",
              "      <td>0.000000</td>\n",
              "      <td>0.000000</td>\n",
              "    </tr>\n",
              "  </tbody>\n",
              "</table><p>"
            ]
          },
          "metadata": {}
        },
        {
          "output_type": "display_data",
          "data": {
            "text/plain": [
              "<IPython.core.display.HTML object>"
            ],
            "text/html": [
              "\n",
              "    <div>\n",
              "      \n",
              "      <progress value='43' max='14' style='width:300px; height:20px; vertical-align: middle;'></progress>\n",
              "      [14/14 00:05]\n",
              "    </div>\n",
              "    "
            ]
          },
          "metadata": {}
        },
        {
          "output_type": "stream",
          "name": "stdout",
          "text": [
            "\n",
            "===== RESULTS for text_col='morph_sequence' =====\n",
            "[Validation]: {'eval_loss': 0.6926975846290588, 'eval_accuracy': 0.5439429928741093, 'eval_precision': 0.0, 'eval_recall': 0.0, 'eval_f1': 0.0, 'eval_runtime': 1.7336, 'eval_samples_per_second': 242.853, 'eval_steps_per_second': 8.076, 'epoch': 5.0}\n",
            "[Test]: {'eval_loss': 0.692959725856781, 'eval_accuracy': 0.5190839694656488, 'eval_precision': 0.0, 'eval_recall': 0.0, 'eval_f1': 0.0, 'eval_runtime': 3.6839, 'eval_samples_per_second': 248.919, 'eval_steps_per_second': 7.872, 'epoch': 5.0}\n",
            "\n",
            "Final Validation Metrics: {'eval_loss': 0.6926975846290588, 'eval_accuracy': 0.5439429928741093, 'eval_precision': 0.0, 'eval_recall': 0.0, 'eval_f1': 0.0, 'eval_runtime': 1.7336, 'eval_samples_per_second': 242.853, 'eval_steps_per_second': 8.076, 'epoch': 5.0}\n",
            "Final Test Metrics: {'eval_loss': 0.692959725856781, 'eval_accuracy': 0.5190839694656488, 'eval_precision': 0.0, 'eval_recall': 0.0, 'eval_f1': 0.0, 'eval_runtime': 3.6839, 'eval_samples_per_second': 248.919, 'eval_steps_per_second': 7.872, 'epoch': 5.0}\n"
          ]
        }
      ]
    },
    {
      "cell_type": "code",
      "source": [
        "!tree /content/drive/MyDrive/266-final/results/"
      ],
      "metadata": {
        "colab": {
          "base_uri": "https://localhost:8080/"
        },
        "id": "FOEorrDebTYN",
        "outputId": "a448418e-6537-4ad7-a658-2a03a57df2b4"
      },
      "execution_count": 32,
      "outputs": [
        {
          "output_type": "stream",
          "name": "stdout",
          "text": [
            "\u001b[01;34m/content/drive/MyDrive/266-final/results/\u001b[0m\n",
            "├── \u001b[01;34mbert-base-uncased\u001b[0m\n",
            "│   └── \u001b[01;34mmorph_single\u001b[0m\n",
            "├── \u001b[01;34mbert-base-uncased_multi_sentence_no_contractions_lr0.001_ep3_bs4_len348\u001b[0m\n",
            "│   ├── \u001b[01;34mcheckpoint-1140\u001b[0m\n",
            "│   │   ├── \u001b[00mconfig.json\u001b[0m\n",
            "│   │   ├── \u001b[00mmodel.safetensors\u001b[0m\n",
            "│   │   ├── \u001b[00moptimizer.pt\u001b[0m\n",
            "│   │   ├── \u001b[00mrng_state.pth\u001b[0m\n",
            "│   │   ├── \u001b[00mscheduler.pt\u001b[0m\n",
            "│   │   ├── \u001b[00mspecial_tokens_map.json\u001b[0m\n",
            "│   │   ├── \u001b[00mtokenizer_config.json\u001b[0m\n",
            "│   │   ├── \u001b[00mtokenizer.json\u001b[0m\n",
            "│   │   ├── \u001b[00mtrainer_state.json\u001b[0m\n",
            "│   │   ├── \u001b[00mtraining_args.bin\u001b[0m\n",
            "│   │   └── \u001b[00mvocab.txt\u001b[0m\n",
            "│   ├── \u001b[01;34mcheckpoint-380\u001b[0m\n",
            "│   │   ├── \u001b[00mconfig.json\u001b[0m\n",
            "│   │   ├── \u001b[00mmodel.safetensors\u001b[0m\n",
            "│   │   ├── \u001b[00moptimizer.pt\u001b[0m\n",
            "│   │   ├── \u001b[00mrng_state.pth\u001b[0m\n",
            "│   │   ├── \u001b[00mscheduler.pt\u001b[0m\n",
            "│   │   ├── \u001b[00mspecial_tokens_map.json\u001b[0m\n",
            "│   │   ├── \u001b[00mtokenizer_config.json\u001b[0m\n",
            "│   │   ├── \u001b[00mtokenizer.json\u001b[0m\n",
            "│   │   ├── \u001b[00mtrainer_state.json\u001b[0m\n",
            "│   │   ├── \u001b[00mtraining_args.bin\u001b[0m\n",
            "│   │   └── \u001b[00mvocab.txt\u001b[0m\n",
            "│   └── \u001b[01;34mcheckpoint-760\u001b[0m\n",
            "│       ├── \u001b[00mconfig.json\u001b[0m\n",
            "│       ├── \u001b[00mmodel.safetensors\u001b[0m\n",
            "│       ├── \u001b[00moptimizer.pt\u001b[0m\n",
            "│       ├── \u001b[00mrng_state.pth\u001b[0m\n",
            "│       ├── \u001b[00mscheduler.pt\u001b[0m\n",
            "│       ├── \u001b[00mspecial_tokens_map.json\u001b[0m\n",
            "│       ├── \u001b[00mtokenizer_config.json\u001b[0m\n",
            "│       ├── \u001b[00mtokenizer.json\u001b[0m\n",
            "│       ├── \u001b[00mtrainer_state.json\u001b[0m\n",
            "│       ├── \u001b[00mtraining_args.bin\u001b[0m\n",
            "│       └── \u001b[00mvocab.txt\u001b[0m\n",
            "├── \u001b[00msentence_no_contraction_span_analysis.csv\u001b[0m\n",
            "├── \u001b[00msentence_span_analysis.csv\u001b[0m\n",
            "└── \u001b[00msentence_span_analysis_no_contractions.csv\u001b[0m\n",
            "\n",
            "6 directories, 36 files\n"
          ]
        }
      ]
    },
    {
      "cell_type": "markdown",
      "source": [
        "### BERT base uncased"
      ],
      "metadata": {
        "id": "kY07zXcV3Yq4"
      }
    },
    {
      "cell_type": "code",
      "source": [
        "# # 1. DataFrame to HF Dataset Conversion\n",
        "# def dataframe_to_hf_dataset(df, text_col, label_col=\"binary_complexity\"):\n",
        "#     \"\"\"\n",
        "#     Converts a Pandas DataFrame to a Hugging Face Dataset, keeping only:\n",
        "#       - text_col: Name of column containing input text (e.g. 'sentence')\n",
        "#       - label_col: Name of column containing the label (default 'binary_complexity')\n",
        "#     The resulting columns in the HF Dataset will be [\"text\", \"label\"].\n",
        "#     \"\"\"\n",
        "#     # Subset the DF\n",
        "#     subset_df = df[[text_col, label_col]].copy()\n",
        "#     # Rename columns for clarity\n",
        "#     subset_df.columns = [\"text\", \"label\"]\n",
        "#     # Build and return HF Dataset\n",
        "#     hf_dataset = Dataset.from_pandas(subset_df)\n",
        "#     return hf_dataset\n",
        "\n",
        "# def prepare_dataset_for_trainer(df, text_col, tokenizer, label_col=\"binary_complexity\", max_length=128):\n",
        "#     \"\"\"\n",
        "#     1. Converts the DataFrame to a HF Dataset (only text_col and label_col).\n",
        "#     2. Tokenizes using the provided tokenizer (truncates/pads to max_length).\n",
        "#     3. Casts the dataset to PyTorch format, ensuring columns are [\"input_ids\", \"attention_mask\", \"label\"].\n",
        "#     4. Returns the prepared dataset.\n",
        "#     \"\"\"\n",
        "#     # Create initial dataset\n",
        "#     hf_dataset = dataframe_to_hf_dataset(df, text_col, label_col=label_col)\n",
        "\n",
        "#     # Define our tokenize function for the dataset.map\n",
        "#     def tokenize_batch(examples):\n",
        "#         return tokenizer(\n",
        "#             examples[\"text\"],\n",
        "#             truncation=True,\n",
        "#             padding=\"max_length\",\n",
        "#             max_length=max_length\n",
        "#         )\n",
        "\n",
        "#     # Tokenize entire dataset (batched for speed)\n",
        "#     hf_dataset = hf_dataset.map(tokenize_batch, batched=True)\n",
        "\n",
        "#     # Set the dataset format so PyTorch can read \"input_ids\", \"attention_mask\", \"label\"\n",
        "#     hf_dataset.set_format(type=\"torch\", columns=[\"input_ids\", \"attention_mask\", \"label\"])\n",
        "#     return hf_dataset\n",
        "\n",
        "# # 2. Compute Metrics\n",
        "# def compute_metrics(eval_pred):\n",
        "#     logits, labels = eval_pred\n",
        "#     predictions = np.argmax(logits, axis=-1)\n",
        "#     precision, recall, f1, _ = precision_recall_fscore_support(\n",
        "#         labels, predictions, average=\"binary\", zero_division=0\n",
        "#     )\n",
        "#     acc = accuracy_score(labels, predictions)\n",
        "#     return {\n",
        "#         \"accuracy\": acc,\n",
        "#         \"precision\": precision,\n",
        "#         \"recall\": recall,\n",
        "#         \"f1\": f1\n",
        "#     }\n",
        "\n",
        "# # 3. Training\n",
        "# def run_bert_experiment(\n",
        "#     train_df,\n",
        "#     val_df,\n",
        "#     test_df,\n",
        "#     text_col,\n",
        "#     model_name=\"bert-base-uncased\",\n",
        "#     output_dir=\"/content/drive/MyDrive/266-final/results/bert-base-uncased/\",\n",
        "#     epochs=num_epochs,\n",
        "#     lr=learning_rate,\n",
        "#     batch_size=size_batch,\n",
        "#     max_length=length_max\n",
        "# ):\n",
        "#     \"\"\"\n",
        "#     A compartmentalized function to:\n",
        "#       1. Prepare DataFrames (train_df, val_df, test_df) for BERT-based classification\n",
        "#          (binary_complexity as label, text_col as input text).\n",
        "#       2. Instantiate a Transformer model with `num_labels=2`.\n",
        "#       3. Configure and run a Hugging Face Trainer.\n",
        "#       4. Evaluate on both the validation and test sets.\n",
        "#     Returns:\n",
        "#       trainer (Trainer) object,\n",
        "#       (metrics_val, metrics_test) tuple containing evaluation metrics on val/test.\n",
        "#     \"\"\"\n",
        "#     # 1. Load tokenizer\n",
        "#     tokenizer = AutoTokenizer.from_pretrained(model_name)\n",
        "\n",
        "#     # 2. Convert DataFrames -> tokenized HF Datasets\n",
        "#     train_dataset = prepare_dataset_for_trainer(train_df, text_col, tokenizer, max_length=max_length)\n",
        "#     val_dataset   = prepare_dataset_for_trainer(val_df,   text_col, tokenizer, max_length=max_length)\n",
        "#     test_dataset  = prepare_dataset_for_trainer(test_df,  text_col, tokenizer, max_length=max_length)\n",
        "\n",
        "#     # 3. Load model (AutoModelForSequenceClassification) with binary classification\n",
        "#     model = AutoModelForSequenceClassification.from_pretrained(model_name, num_labels=2)\n",
        "\n",
        "#     # 4. Define training arguments\n",
        "#     training_args = TrainingArguments(\n",
        "#         output_dir=output_dir,\n",
        "#         evaluation_strategy=\"epoch\",\n",
        "#         save_strategy=\"epoch\",\n",
        "#         learning_rate=lr,\n",
        "#         per_device_train_batch_size=batch_size,\n",
        "#         per_device_eval_batch_size=batch_size,\n",
        "#         num_train_epochs=epochs,\n",
        "#         weight_decay=0,\n",
        "#         logging_dir=\"./my_bert_logs\",  # local logs\n",
        "#         logging_steps=500\n",
        "#     )\n",
        "\n",
        "#     # 5. Build the Trainer\n",
        "#     trainer = Trainer(\n",
        "#         model=model,\n",
        "#         args=training_args,\n",
        "#         train_dataset=train_dataset,\n",
        "#         eval_dataset=val_dataset,\n",
        "#         tokenizer=tokenizer,\n",
        "#         compute_metrics=compute_metrics  # optional\n",
        "#     )\n",
        "\n",
        "#     # 6. Train\n",
        "#     trainer.train()\n",
        "\n",
        "#     # 7. Evaluate on val & test\n",
        "#     metrics_val = trainer.evaluate(eval_dataset=val_dataset)\n",
        "#     metrics_test = trainer.evaluate(eval_dataset=test_dataset)\n",
        "\n",
        "#     print(f\"\\n----- RESULTS for text_col='{text_col}' -----\")\n",
        "#     print(\"Validation:\", metrics_val)\n",
        "#     print(\"Test:\", metrics_test)\n",
        "\n",
        "#     return trainer, (metrics_val, metrics_test)"
      ],
      "metadata": {
        "id": "H9aB_NDO_LaF"
      },
      "execution_count": 34,
      "outputs": []
    },
    {
      "cell_type": "code",
      "source": [
        "\n",
        "# trainer_single_morph, (val_metrics_single_morph, test_metrics_single_morph) = run_bert_experiment(\n",
        "#     train_df=train_single_df,\n",
        "#     val_df=trial_val_single_df,\n",
        "#     test_df=test_single_df,\n",
        "#     text_col=\"sentence_no_contractions\", # \"pos_sequence\", \"dep_sequence\", \"morph_sequence\",\n",
        "#     model_name=\"bert-base-uncased\",\n",
        "#     output_dir=\"/content/drive/MyDrive/266-final/results/bert-base-uncased/morph_single\",\n",
        "#     epochs=3,\n",
        "#     lr=1e-4, #5e-6 1e-5 1e-4 1e-3\n",
        "#     batch_size=8,\n",
        "#     max_length=348\n",
        "# )"
      ],
      "metadata": {
        "colab": {
          "base_uri": "https://localhost:8080/",
          "height": 675,
          "referenced_widgets": [
            "537267f3d33f4970b3358183c5acf300",
            "f7e9384cd73942ed8aec0e5433abf2ee",
            "dab6b0d24a724c5097811e92ca657759",
            "c081ca7a05504a72b9374e3e60d97b96",
            "8f0dbdf37b284ed987cf57c60507759e",
            "5963fb53db87437b907486e5659b7aae",
            "42bdba65ae2f4b4aa91b0891499c31a1",
            "77d03afeb4334caa8012cbdaef058df2",
            "2e9a8337e1624d58a88a5a38ad1db9c0",
            "1526bf99aa4048e4be9aa6da34ee1f0e",
            "350267edbe4e49c7918d9b1908ac9638",
            "b49f33d491ae4ec0b12f3aa29fe9f976",
            "21bee0a7a1104131ad13f3af7f55ca72",
            "110973823b1d4d42a6d3b538ec20cd07",
            "a335def1552747df94f53087fda3172c",
            "cd79c05a8ae34548a80740e77e784d9f",
            "11c3d525696d4ec4b5b0dcc044b584db",
            "aa0bcc44671848cdb7f7f92614f56980",
            "be771883874942ef8100dabacd339a70",
            "923b03deffcc430c877949e503cb3dfd",
            "5e4bbf603ebb423faa3fd68a3995052f",
            "b93ae3c6a68d49b58567b5608966e436",
            "cb4e2a71f7874493a051e65d44bebf52",
            "a0f4475ed2ad4a61845ccdcef086fb38",
            "a0697ba6855e40cb8a966e84257be95b",
            "1c88fcd26ee14bf9a147c7a54d240749",
            "e79269ee9aad4c0e89c877e6d88323a0",
            "8c4131271a214d79a23c34f8f7c9e26b",
            "f98a84120fe941698dced4fb1a56217b",
            "fc04c6bb57634f8f973a8f39937e8b4e",
            "9ef923751bc5444fac6b64eef5a022ab",
            "44c74ce8c9084845833963817a90e121",
            "5db21f436fa14d63bb63968ae8acc6e5"
          ]
        },
        "id": "EKZeGhjB_e-x",
        "outputId": "434470aa-3e7a-4016-8bbd-7d436a4966cf"
      },
      "execution_count": 35,
      "outputs": [
        {
          "output_type": "display_data",
          "data": {
            "text/plain": [
              "Map:   0%|          | 0/7662 [00:00<?, ? examples/s]"
            ],
            "application/vnd.jupyter.widget-view+json": {
              "version_major": 2,
              "version_minor": 0,
              "model_id": "537267f3d33f4970b3358183c5acf300"
            }
          },
          "metadata": {}
        },
        {
          "output_type": "display_data",
          "data": {
            "text/plain": [
              "Map:   0%|          | 0/421 [00:00<?, ? examples/s]"
            ],
            "application/vnd.jupyter.widget-view+json": {
              "version_major": 2,
              "version_minor": 0,
              "model_id": "b49f33d491ae4ec0b12f3aa29fe9f976"
            }
          },
          "metadata": {}
        },
        {
          "output_type": "display_data",
          "data": {
            "text/plain": [
              "Map:   0%|          | 0/917 [00:00<?, ? examples/s]"
            ],
            "application/vnd.jupyter.widget-view+json": {
              "version_major": 2,
              "version_minor": 0,
              "model_id": "cb4e2a71f7874493a051e65d44bebf52"
            }
          },
          "metadata": {}
        },
        {
          "output_type": "stream",
          "name": "stderr",
          "text": [
            "Some weights of BertForSequenceClassification were not initialized from the model checkpoint at bert-base-uncased and are newly initialized: ['classifier.bias', 'classifier.weight']\n",
            "You should probably TRAIN this model on a down-stream task to be able to use it for predictions and inference.\n",
            "/usr/local/lib/python3.11/dist-packages/transformers/training_args.py:1611: FutureWarning: `evaluation_strategy` is deprecated and will be removed in version 4.46 of 🤗 Transformers. Use `eval_strategy` instead\n",
            "  warnings.warn(\n",
            "<ipython-input-34-81f1dfcc869e>:108: FutureWarning: `tokenizer` is deprecated and will be removed in version 5.0.0 for `Trainer.__init__`. Use `processing_class` instead.\n",
            "  trainer = Trainer(\n"
          ]
        },
        {
          "output_type": "display_data",
          "data": {
            "text/plain": [
              "<IPython.core.display.HTML object>"
            ],
            "text/html": [
              "\n",
              "    <div>\n",
              "      \n",
              "      <progress value='1209' max='2874' style='width:300px; height:20px; vertical-align: middle;'></progress>\n",
              "      [1209/2874 02:27 < 03:24, 8.16 it/s, Epoch 1.26/3]\n",
              "    </div>\n",
              "    <table border=\"1\" class=\"dataframe\">\n",
              "  <thead>\n",
              " <tr style=\"text-align: left;\">\n",
              "      <th>Epoch</th>\n",
              "      <th>Training Loss</th>\n",
              "      <th>Validation Loss</th>\n",
              "      <th>Accuracy</th>\n",
              "      <th>Precision</th>\n",
              "      <th>Recall</th>\n",
              "      <th>F1</th>\n",
              "    </tr>\n",
              "  </thead>\n",
              "  <tbody>\n",
              "    <tr>\n",
              "      <td>1</td>\n",
              "      <td>0.704700</td>\n",
              "      <td>0.699812</td>\n",
              "      <td>0.543943</td>\n",
              "      <td>0.000000</td>\n",
              "      <td>0.000000</td>\n",
              "      <td>0.000000</td>\n",
              "    </tr>\n",
              "  </tbody>\n",
              "</table><p>"
            ]
          },
          "metadata": {}
        },
        {
          "output_type": "error",
          "ename": "KeyboardInterrupt",
          "evalue": "",
          "traceback": [
            "\u001b[0;31m---------------------------------------------------------------------------\u001b[0m",
            "\u001b[0;31mKeyboardInterrupt\u001b[0m                         Traceback (most recent call last)",
            "\u001b[0;32m<ipython-input-35-5c5394ef8c5c>\u001b[0m in \u001b[0;36m<cell line: 0>\u001b[0;34m()\u001b[0m\n\u001b[0;32m----> 1\u001b[0;31m trainer_single_morph, (val_metrics_single_morph, test_metrics_single_morph) = run_bert_experiment(\n\u001b[0m\u001b[1;32m      2\u001b[0m     \u001b[0mtrain_df\u001b[0m\u001b[0;34m=\u001b[0m\u001b[0mtrain_single_df\u001b[0m\u001b[0;34m,\u001b[0m\u001b[0;34m\u001b[0m\u001b[0;34m\u001b[0m\u001b[0m\n\u001b[1;32m      3\u001b[0m     \u001b[0mval_df\u001b[0m\u001b[0;34m=\u001b[0m\u001b[0mtrial_val_single_df\u001b[0m\u001b[0;34m,\u001b[0m\u001b[0;34m\u001b[0m\u001b[0;34m\u001b[0m\u001b[0m\n\u001b[1;32m      4\u001b[0m     \u001b[0mtest_df\u001b[0m\u001b[0;34m=\u001b[0m\u001b[0mtest_single_df\u001b[0m\u001b[0;34m,\u001b[0m\u001b[0;34m\u001b[0m\u001b[0;34m\u001b[0m\u001b[0m\n\u001b[1;32m      5\u001b[0m     \u001b[0mtext_col\u001b[0m\u001b[0;34m=\u001b[0m\u001b[0;34m\"sentence_no_contractions\"\u001b[0m\u001b[0;34m,\u001b[0m \u001b[0;31m# \"pos_sequence\", \"dep_sequence\", \"morph_sequence\",\u001b[0m\u001b[0;34m\u001b[0m\u001b[0;34m\u001b[0m\u001b[0m\n",
            "\u001b[0;32m<ipython-input-34-81f1dfcc869e>\u001b[0m in \u001b[0;36mrun_bert_experiment\u001b[0;34m(train_df, val_df, test_df, text_col, model_name, output_dir, epochs, lr, batch_size, max_length)\u001b[0m\n\u001b[1;32m    116\u001b[0m \u001b[0;34m\u001b[0m\u001b[0m\n\u001b[1;32m    117\u001b[0m     \u001b[0;31m# 6. Train\u001b[0m\u001b[0;34m\u001b[0m\u001b[0;34m\u001b[0m\u001b[0m\n\u001b[0;32m--> 118\u001b[0;31m     \u001b[0mtrainer\u001b[0m\u001b[0;34m.\u001b[0m\u001b[0mtrain\u001b[0m\u001b[0;34m(\u001b[0m\u001b[0;34m)\u001b[0m\u001b[0;34m\u001b[0m\u001b[0;34m\u001b[0m\u001b[0m\n\u001b[0m\u001b[1;32m    119\u001b[0m \u001b[0;34m\u001b[0m\u001b[0m\n\u001b[1;32m    120\u001b[0m     \u001b[0;31m# 7. Evaluate on val & test\u001b[0m\u001b[0;34m\u001b[0m\u001b[0;34m\u001b[0m\u001b[0m\n",
            "\u001b[0;32m/usr/local/lib/python3.11/dist-packages/transformers/trainer.py\u001b[0m in \u001b[0;36mtrain\u001b[0;34m(self, resume_from_checkpoint, trial, ignore_keys_for_eval, **kwargs)\u001b[0m\n\u001b[1;32m   2243\u001b[0m                 \u001b[0mhf_hub_utils\u001b[0m\u001b[0;34m.\u001b[0m\u001b[0menable_progress_bars\u001b[0m\u001b[0;34m(\u001b[0m\u001b[0;34m)\u001b[0m\u001b[0;34m\u001b[0m\u001b[0;34m\u001b[0m\u001b[0m\n\u001b[1;32m   2244\u001b[0m         \u001b[0;32melse\u001b[0m\u001b[0;34m:\u001b[0m\u001b[0;34m\u001b[0m\u001b[0;34m\u001b[0m\u001b[0m\n\u001b[0;32m-> 2245\u001b[0;31m             return inner_training_loop(\n\u001b[0m\u001b[1;32m   2246\u001b[0m                 \u001b[0margs\u001b[0m\u001b[0;34m=\u001b[0m\u001b[0margs\u001b[0m\u001b[0;34m,\u001b[0m\u001b[0;34m\u001b[0m\u001b[0;34m\u001b[0m\u001b[0m\n\u001b[1;32m   2247\u001b[0m                 \u001b[0mresume_from_checkpoint\u001b[0m\u001b[0;34m=\u001b[0m\u001b[0mresume_from_checkpoint\u001b[0m\u001b[0;34m,\u001b[0m\u001b[0;34m\u001b[0m\u001b[0;34m\u001b[0m\u001b[0m\n",
            "\u001b[0;32m/usr/local/lib/python3.11/dist-packages/transformers/trainer.py\u001b[0m in \u001b[0;36m_inner_training_loop\u001b[0;34m(self, batch_size, args, resume_from_checkpoint, trial, ignore_keys_for_eval)\u001b[0m\n\u001b[1;32m   2559\u001b[0m                         \u001b[0margs\u001b[0m\u001b[0;34m.\u001b[0m\u001b[0mlogging_nan_inf_filter\u001b[0m\u001b[0;34m\u001b[0m\u001b[0;34m\u001b[0m\u001b[0m\n\u001b[1;32m   2560\u001b[0m                         \u001b[0;32mand\u001b[0m \u001b[0;32mnot\u001b[0m \u001b[0mis_torch_xla_available\u001b[0m\u001b[0;34m(\u001b[0m\u001b[0;34m)\u001b[0m\u001b[0;34m\u001b[0m\u001b[0;34m\u001b[0m\u001b[0m\n\u001b[0;32m-> 2561\u001b[0;31m                         \u001b[0;32mand\u001b[0m \u001b[0;34m(\u001b[0m\u001b[0mtorch\u001b[0m\u001b[0;34m.\u001b[0m\u001b[0misnan\u001b[0m\u001b[0;34m(\u001b[0m\u001b[0mtr_loss_step\u001b[0m\u001b[0;34m)\u001b[0m \u001b[0;32mor\u001b[0m \u001b[0mtorch\u001b[0m\u001b[0;34m.\u001b[0m\u001b[0misinf\u001b[0m\u001b[0;34m(\u001b[0m\u001b[0mtr_loss_step\u001b[0m\u001b[0;34m)\u001b[0m\u001b[0;34m)\u001b[0m\u001b[0;34m\u001b[0m\u001b[0;34m\u001b[0m\u001b[0m\n\u001b[0m\u001b[1;32m   2562\u001b[0m                     ):\n\u001b[1;32m   2563\u001b[0m                         \u001b[0;31m# if loss is nan or inf simply add the average of previous logged losses\u001b[0m\u001b[0;34m\u001b[0m\u001b[0;34m\u001b[0m\u001b[0m\n",
            "\u001b[0;31mKeyboardInterrupt\u001b[0m: "
          ]
        }
      ]
    },
    {
      "cell_type": "code",
      "source": [],
      "metadata": {
        "id": "ig6T9Xku_e85"
      },
      "execution_count": null,
      "outputs": []
    },
    {
      "cell_type": "code",
      "source": [],
      "metadata": {
        "id": "-rpwRVNF_e56"
      },
      "execution_count": null,
      "outputs": []
    },
    {
      "cell_type": "code",
      "source": [],
      "metadata": {
        "id": "a7OVfxB__e3S"
      },
      "execution_count": null,
      "outputs": []
    },
    {
      "cell_type": "code",
      "source": [],
      "metadata": {
        "id": "BtVWXxqb_e0r"
      },
      "execution_count": null,
      "outputs": []
    },
    {
      "cell_type": "code",
      "source": [],
      "metadata": {
        "id": "ze7GiYRP_ewQ"
      },
      "execution_count": null,
      "outputs": []
    },
    {
      "cell_type": "code",
      "source": [],
      "metadata": {
        "id": "BhQefGUW_etu"
      },
      "execution_count": null,
      "outputs": []
    },
    {
      "cell_type": "code",
      "source": [],
      "metadata": {
        "id": "IZTwujNx_erj"
      },
      "execution_count": null,
      "outputs": []
    },
    {
      "cell_type": "code",
      "source": [],
      "metadata": {
        "id": "yFJ-Ucst_eot"
      },
      "execution_count": null,
      "outputs": []
    },
    {
      "cell_type": "markdown",
      "source": [
        "## BERT"
      ],
      "metadata": {
        "id": "dN0RXkp0uj5E"
      }
    },
    {
      "cell_type": "code",
      "source": [],
      "metadata": {
        "id": "bbVwzSTbQxFe"
      },
      "execution_count": null,
      "outputs": []
    }
  ]
}