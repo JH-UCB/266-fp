{
  "nbformat": 4,
  "nbformat_minor": 0,
  "metadata": {
    "colab": {
      "provenance": [],
      "gpuType": "A100",
      "machine_shape": "hm",
      "toc_visible": true,
      "collapsed_sections": [
        "5VB_YXjon0-r"
      ]
    },
    "kernelspec": {
      "name": "python3",
      "display_name": "Python 3"
    },
    "language_info": {
      "name": "python"
    },
    "accelerator": "GPU"
  },
  "cells": [
    {
      "cell_type": "markdown",
      "source": [
        "## Setup"
      ],
      "metadata": {
        "id": "5VB_YXjon0-r"
      }
    },
    {
      "cell_type": "code",
      "source": [
        "#@title Install Packages"
      ],
      "metadata": {
        "id": "xYRurcbg2fuq"
      },
      "execution_count": 1,
      "outputs": []
    },
    {
      "cell_type": "code",
      "execution_count": 2,
      "metadata": {
        "id": "XWeMhKnlvi9F",
        "colab": {
          "base_uri": "https://localhost:8080/"
        },
        "outputId": "41cd6a1a-7a06-4789-8440-0fc3abd37b33"
      },
      "outputs": [
        {
          "output_type": "stream",
          "name": "stdout",
          "text": [
            "\u001b[?25l   \u001b[90m━━━━━━━━━━━━━━━━━━━━━━━━━━━━━━━━━━━━━━━━\u001b[0m \u001b[32m0.0/491.2 kB\u001b[0m \u001b[31m?\u001b[0m eta \u001b[36m-:--:--\u001b[0m\r\u001b[2K   \u001b[91m━━━━━━━━━━━━━━━━━━━━━━━━━━━━━━━━━━━━━━━\u001b[0m\u001b[90m╺\u001b[0m \u001b[32m481.3/491.2 kB\u001b[0m \u001b[31m14.4 MB/s\u001b[0m eta \u001b[36m0:00:01\u001b[0m\r\u001b[2K   \u001b[90m━━━━━━━━━━━━━━━━━━━━━━━━━━━━━━━━━━━━━━━━\u001b[0m \u001b[32m491.2/491.2 kB\u001b[0m \u001b[31m9.2 MB/s\u001b[0m eta \u001b[36m0:00:00\u001b[0m\n",
            "\u001b[?25h\u001b[?25l   \u001b[90m━━━━━━━━━━━━━━━━━━━━━━━━━━━━━━━━━━━━━━━━\u001b[0m \u001b[32m0.0/116.3 kB\u001b[0m \u001b[31m?\u001b[0m eta \u001b[36m-:--:--\u001b[0m\r\u001b[2K   \u001b[90m━━━━━━━━━━━━━━━━━━━━━━━━━━━━━━━━━━━━━━━━\u001b[0m \u001b[32m116.3/116.3 kB\u001b[0m \u001b[31m8.5 MB/s\u001b[0m eta \u001b[36m0:00:00\u001b[0m\n",
            "\u001b[?25h\u001b[?25l   \u001b[90m━━━━━━━━━━━━━━━━━━━━━━━━━━━━━━━━━━━━━━━━\u001b[0m \u001b[32m0.0/183.9 kB\u001b[0m \u001b[31m?\u001b[0m eta \u001b[36m-:--:--\u001b[0m\r\u001b[2K   \u001b[90m━━━━━━━━━━━━━━━━━━━━━━━━━━━━━━━━━━━━━━━━\u001b[0m \u001b[32m183.9/183.9 kB\u001b[0m \u001b[31m11.5 MB/s\u001b[0m eta \u001b[36m0:00:00\u001b[0m\n",
            "\u001b[2K   \u001b[90m━━━━━━━━━━━━━━━━━━━━━━━━━━━━━━━━━━━━━━━━\u001b[0m \u001b[32m143.5/143.5 kB\u001b[0m \u001b[31m9.4 MB/s\u001b[0m eta \u001b[36m0:00:00\u001b[0m\n",
            "\u001b[2K   \u001b[90m━━━━━━━━━━━━━━━━━━━━━━━━━━━━━━━━━━━━━━━━\u001b[0m \u001b[32m194.8/194.8 kB\u001b[0m \u001b[31m13.8 MB/s\u001b[0m eta \u001b[36m0:00:00\u001b[0m\n",
            "\u001b[?25h\u001b[31mERROR: pip's dependency resolver does not currently take into account all the packages that are installed. This behaviour is the source of the following dependency conflicts.\n",
            "torch 2.6.0+cu124 requires nvidia-cublas-cu12==12.4.5.8; platform_system == \"Linux\" and platform_machine == \"x86_64\", but you have nvidia-cublas-cu12 12.5.3.2 which is incompatible.\n",
            "torch 2.6.0+cu124 requires nvidia-cuda-cupti-cu12==12.4.127; platform_system == \"Linux\" and platform_machine == \"x86_64\", but you have nvidia-cuda-cupti-cu12 12.5.82 which is incompatible.\n",
            "torch 2.6.0+cu124 requires nvidia-cuda-nvrtc-cu12==12.4.127; platform_system == \"Linux\" and platform_machine == \"x86_64\", but you have nvidia-cuda-nvrtc-cu12 12.5.82 which is incompatible.\n",
            "torch 2.6.0+cu124 requires nvidia-cuda-runtime-cu12==12.4.127; platform_system == \"Linux\" and platform_machine == \"x86_64\", but you have nvidia-cuda-runtime-cu12 12.5.82 which is incompatible.\n",
            "torch 2.6.0+cu124 requires nvidia-cudnn-cu12==9.1.0.70; platform_system == \"Linux\" and platform_machine == \"x86_64\", but you have nvidia-cudnn-cu12 9.3.0.75 which is incompatible.\n",
            "torch 2.6.0+cu124 requires nvidia-cufft-cu12==11.2.1.3; platform_system == \"Linux\" and platform_machine == \"x86_64\", but you have nvidia-cufft-cu12 11.2.3.61 which is incompatible.\n",
            "torch 2.6.0+cu124 requires nvidia-curand-cu12==10.3.5.147; platform_system == \"Linux\" and platform_machine == \"x86_64\", but you have nvidia-curand-cu12 10.3.6.82 which is incompatible.\n",
            "torch 2.6.0+cu124 requires nvidia-cusolver-cu12==11.6.1.9; platform_system == \"Linux\" and platform_machine == \"x86_64\", but you have nvidia-cusolver-cu12 11.6.3.83 which is incompatible.\n",
            "torch 2.6.0+cu124 requires nvidia-cusparse-cu12==12.3.1.170; platform_system == \"Linux\" and platform_machine == \"x86_64\", but you have nvidia-cusparse-cu12 12.5.1.3 which is incompatible.\n",
            "torch 2.6.0+cu124 requires nvidia-nvjitlink-cu12==12.4.127; platform_system == \"Linux\" and platform_machine == \"x86_64\", but you have nvidia-nvjitlink-cu12 12.5.82 which is incompatible.\n",
            "gcsfs 2025.3.2 requires fsspec==2025.3.2, but you have fsspec 2024.12.0 which is incompatible.\u001b[0m\u001b[31m\n",
            "\u001b[2K   \u001b[90m━━━━━━━━━━━━━━━━━━━━━━━━━━━━━━━━━━━━━━━━\u001b[0m \u001b[32m84.0/84.0 kB\u001b[0m \u001b[31m1.3 MB/s\u001b[0m eta \u001b[36m0:00:00\u001b[0m\n",
            "\u001b[2K   \u001b[90m━━━━━━━━━━━━━━━━━━━━━━━━━━━━━━━━━━━━━━━━\u001b[0m \u001b[32m289.9/289.9 kB\u001b[0m \u001b[31m8.5 MB/s\u001b[0m eta \u001b[36m0:00:00\u001b[0m\n",
            "\u001b[2K   \u001b[90m━━━━━━━━━━━━━━━━━━━━━━━━━━━━━━━━━━━━━━━━\u001b[0m \u001b[32m118.3/118.3 kB\u001b[0m \u001b[31m11.0 MB/s\u001b[0m eta \u001b[36m0:00:00\u001b[0m\n",
            "\u001b[2K   \u001b[90m━━━━━━━━━━━━━━━━━━━━━━━━━━━━━━━━━━━━━━━━\u001b[0m \u001b[32m53.8/53.8 MB\u001b[0m \u001b[31m41.9 MB/s\u001b[0m eta \u001b[36m0:00:00\u001b[0m\n",
            "\u001b[?25h"
          ]
        }
      ],
      "source": [
        "!pip install -q transformers\n",
        "!pip install -q torchinfo\n",
        "!pip install -q datasets\n",
        "!pip install -q evaluate\n",
        "!pip install -q nltk\n",
        "!pip install -q contractions\n",
        "!pip install -q hf_xet\n",
        "!pip install -q sentencepiece"
      ]
    },
    {
      "cell_type": "code",
      "source": [
        "!sudo apt-get update\n",
        "! sudo apt-get install tree"
      ],
      "metadata": {
        "colab": {
          "base_uri": "https://localhost:8080/"
        },
        "id": "rX3VqZu11-s_",
        "outputId": "9235eb28-a67e-4ff8-845e-3628802a6ffe"
      },
      "execution_count": 3,
      "outputs": [
        {
          "output_type": "stream",
          "name": "stdout",
          "text": [
            "\r0% [Working]\r            \rHit:1 https://developer.download.nvidia.com/compute/cuda/repos/ubuntu2204/x86_64  InRelease\n",
            "\r0% [Connecting to archive.ubuntu.com (185.125.190.83)] [Connecting to security.\r                                                                               \rGet:2 https://cloud.r-project.org/bin/linux/ubuntu jammy-cran40/ InRelease [3,632 B]\n",
            "\r0% [Connecting to archive.ubuntu.com (185.125.190.83)] [Connecting to security.\r0% [Waiting for headers] [Waiting for headers] [Waiting for headers] [Connected\r                                                                               \rGet:3 https://r2u.stat.illinois.edu/ubuntu jammy InRelease [6,555 B]\n",
            "\r0% [Waiting for headers] [Waiting for headers] [3 InRelease 6,555 B/6,555 B 100\r0% [Waiting for headers] [Waiting for headers] [Connected to ppa.launchpadconte\r                                                                               \rGet:4 http://security.ubuntu.com/ubuntu jammy-security InRelease [129 kB]\n",
            "Hit:5 http://archive.ubuntu.com/ubuntu jammy InRelease\n",
            "Get:6 http://archive.ubuntu.com/ubuntu jammy-updates InRelease [128 kB]\n",
            "Get:7 https://r2u.stat.illinois.edu/ubuntu jammy/main amd64 Packages [2,688 kB]\n",
            "Hit:8 https://ppa.launchpadcontent.net/deadsnakes/ppa/ubuntu jammy InRelease\n",
            "Hit:9 https://ppa.launchpadcontent.net/graphics-drivers/ppa/ubuntu jammy InRelease\n",
            "Get:10 https://r2u.stat.illinois.edu/ubuntu jammy/main all Packages [8,824 kB]\n",
            "Hit:11 https://ppa.launchpadcontent.net/ubuntugis/ppa/ubuntu jammy InRelease\n",
            "Get:12 http://security.ubuntu.com/ubuntu jammy-security/main amd64 Packages [2,788 kB]\n",
            "Hit:13 http://archive.ubuntu.com/ubuntu jammy-backports InRelease\n",
            "Get:14 http://archive.ubuntu.com/ubuntu jammy-updates/universe amd64 Packages [1,542 kB]\n",
            "Get:15 http://security.ubuntu.com/ubuntu jammy-security/universe amd64 Packages [1,243 kB]\n",
            "Get:16 http://archive.ubuntu.com/ubuntu jammy-updates/main amd64 Packages [3,099 kB]\n",
            "Fetched 20.5 MB in 2s (9,673 kB/s)\n",
            "Reading package lists... Done\n",
            "W: Skipping acquire of configured file 'main/source/Sources' as repository 'https://r2u.stat.illinois.edu/ubuntu jammy InRelease' does not seem to provide it (sources.list entry misspelt?)\n",
            "Reading package lists... Done\n",
            "Building dependency tree... Done\n",
            "Reading state information... Done\n",
            "The following NEW packages will be installed:\n",
            "  tree\n",
            "0 upgraded, 1 newly installed, 0 to remove and 31 not upgraded.\n",
            "Need to get 47.9 kB of archives.\n",
            "After this operation, 116 kB of additional disk space will be used.\n",
            "Get:1 http://archive.ubuntu.com/ubuntu jammy/universe amd64 tree amd64 2.0.2-1 [47.9 kB]\n",
            "Fetched 47.9 kB in 0s (109 kB/s)\n",
            "debconf: unable to initialize frontend: Dialog\n",
            "debconf: (No usable dialog-like program is installed, so the dialog based frontend cannot be used. at /usr/share/perl5/Debconf/FrontEnd/Dialog.pm line 78, <> line 1.)\n",
            "debconf: falling back to frontend: Readline\n",
            "debconf: unable to initialize frontend: Readline\n",
            "debconf: (This frontend requires a controlling tty.)\n",
            "debconf: falling back to frontend: Teletype\n",
            "dpkg-preconfigure: unable to re-open stdin: \n",
            "Selecting previously unselected package tree.\n",
            "(Reading database ... 126315 files and directories currently installed.)\n",
            "Preparing to unpack .../tree_2.0.2-1_amd64.deb ...\n",
            "Unpacking tree (2.0.2-1) ...\n",
            "Setting up tree (2.0.2-1) ...\n",
            "Processing triggers for man-db (2.10.2-1) ...\n"
          ]
        }
      ]
    },
    {
      "cell_type": "code",
      "source": [
        "#@title Imports\n",
        "import nltk\n",
        "from nltk.tokenize import RegexpTokenizer\n",
        "\n",
        "import contractions\n",
        "\n",
        "import evaluate\n",
        "import transformers\n",
        "import torch\n",
        "\n",
        "from torchinfo import summary\n",
        "\n",
        "from datasets import load_dataset, Dataset, DatasetDict\n",
        "\n",
        "from transformers import AutoTokenizer, AutoModel, AutoModelForSequenceClassification, TrainingArguments, Trainer\n",
        "\n",
        "import os\n",
        "import pandas as pd\n",
        "import numpy as np\n",
        "import matplotlib.pyplot as plt\n",
        "import seaborn as sns\n",
        "\n",
        "import sklearn\n",
        "\n",
        "import spacy\n",
        "\n",
        "from sklearn.feature_extraction.text import TfidfVectorizer\n",
        "from sklearn.naive_bayes import MultinomialNB\n",
        "from sklearn.metrics import classification_report, precision_recall_fscore_support, accuracy_score\n",
        "\n",
        "import sentencepiece"
      ],
      "metadata": {
        "id": "3wEgNBR6zosA"
      },
      "execution_count": 4,
      "outputs": []
    },
    {
      "cell_type": "code",
      "source": [
        "# @title Mount Google Drive"
      ],
      "metadata": {
        "id": "rSP7bIn12YU7"
      },
      "execution_count": 5,
      "outputs": []
    },
    {
      "cell_type": "code",
      "source": [
        "from google.colab import drive\n",
        "drive.mount('/content/drive')"
      ],
      "metadata": {
        "colab": {
          "base_uri": "https://localhost:8080/"
        },
        "id": "oWKPq7h01cXk",
        "outputId": "c68cdbb4-18cc-47b3-8464-c5ab5429b7b6"
      },
      "execution_count": 6,
      "outputs": [
        {
          "output_type": "stream",
          "name": "stdout",
          "text": [
            "Mounted at /content/drive\n"
          ]
        }
      ]
    },
    {
      "cell_type": "code",
      "source": [
        "dir_root = '/content/drive/MyDrive/266-final/'\n",
        "# dir_data = '/content/drive/MyDrive/266-final/data/'\n",
        "# dir_data = '/content/drive/MyDrive/266-final/data/se21-t1-comp-lex-master/'\n",
        "dir_data = '/content/drive/MyDrive/266-final/data/266-comp-lex-master'\n",
        "dir_models = '/content/drive/MyDrive/266-final/models/'\n",
        "dir_results = '/content/drive/MyDrive/266-final/results/'"
      ],
      "metadata": {
        "id": "I3Tfro3Zzop5"
      },
      "execution_count": 7,
      "outputs": []
    },
    {
      "cell_type": "code",
      "source": [
        "log_filename = \"experiment_runs.txt\"\n",
        "log_filepath = os.path.join(dir_results, log_filename)"
      ],
      "metadata": {
        "id": "xjKYgeSA6zGe"
      },
      "execution_count": 8,
      "outputs": []
    },
    {
      "cell_type": "code",
      "source": [
        "wandbai_api_key = \"\""
      ],
      "metadata": {
        "id": "HjZtvw5ScRDp"
      },
      "execution_count": 9,
      "outputs": []
    },
    {
      "cell_type": "code",
      "source": [
        "!tree /content/drive/MyDrive/266-final/data/266-comp-lex-master/"
      ],
      "metadata": {
        "colab": {
          "base_uri": "https://localhost:8080/"
        },
        "id": "Qw9f1Hol2UhL",
        "outputId": "d99b111d-ca46-47c3-dd89-ba0765076162"
      },
      "execution_count": 10,
      "outputs": [
        {
          "output_type": "stream",
          "name": "stdout",
          "text": [
            "\u001b[01;34m/content/drive/MyDrive/266-final/data/266-comp-lex-master/\u001b[0m\n",
            "├── \u001b[01;34mfe-test-labels\u001b[0m\n",
            "│   ├── \u001b[00mtest_multi_df.csv\u001b[0m\n",
            "│   └── \u001b[00mtest_single_df.csv\u001b[0m\n",
            "├── \u001b[01;34mfe-train\u001b[0m\n",
            "│   ├── \u001b[00mtrain_multi_df.csv\u001b[0m\n",
            "│   └── \u001b[00mtrain_single_df.csv\u001b[0m\n",
            "├── \u001b[01;34mfe-trial-val\u001b[0m\n",
            "│   ├── \u001b[00mtrial_val_multi_df.csv\u001b[0m\n",
            "│   └── \u001b[00mtrial_val_single_df.csv\u001b[0m\n",
            "├── \u001b[01;34mtest-labels\u001b[0m\n",
            "│   ├── \u001b[00mlcp_multi_test.tsv\u001b[0m\n",
            "│   └── \u001b[00mlcp_single_test.tsv\u001b[0m\n",
            "├── \u001b[01;34mtrain\u001b[0m\n",
            "│   ├── \u001b[00mlcp_multi_train.tsv\u001b[0m\n",
            "│   └── \u001b[00mlcp_single_train.tsv\u001b[0m\n",
            "└── \u001b[01;34mtrial\u001b[0m\n",
            "    ├── \u001b[00mlcp_multi_trial.tsv\u001b[0m\n",
            "    └── \u001b[00mlcp_single_trial.tsv\u001b[0m\n",
            "\n",
            "6 directories, 12 files\n"
          ]
        }
      ]
    },
    {
      "cell_type": "code",
      "source": [
        "!ls -R /content/drive/MyDrive/266-final/data/266-comp-lex-master/"
      ],
      "metadata": {
        "colab": {
          "base_uri": "https://localhost:8080/"
        },
        "id": "Zgul33NlKkbV",
        "outputId": "4707d59e-382e-4a2a-b0d4-f4ea48cc25b5"
      },
      "execution_count": 11,
      "outputs": [
        {
          "output_type": "stream",
          "name": "stdout",
          "text": [
            "/content/drive/MyDrive/266-final/data/266-comp-lex-master/:\n",
            "fe-test-labels\tfe-train  fe-trial-val\ttest-labels  train  trial\n",
            "\n",
            "/content/drive/MyDrive/266-final/data/266-comp-lex-master/fe-test-labels:\n",
            "test_multi_df.csv  test_single_df.csv\n",
            "\n",
            "/content/drive/MyDrive/266-final/data/266-comp-lex-master/fe-train:\n",
            "train_multi_df.csv  train_single_df.csv\n",
            "\n",
            "/content/drive/MyDrive/266-final/data/266-comp-lex-master/fe-trial-val:\n",
            "trial_val_multi_df.csv\ttrial_val_single_df.csv\n",
            "\n",
            "/content/drive/MyDrive/266-final/data/266-comp-lex-master/test-labels:\n",
            "lcp_multi_test.tsv  lcp_single_test.tsv\n",
            "\n",
            "/content/drive/MyDrive/266-final/data/266-comp-lex-master/train:\n",
            "lcp_multi_train.tsv  lcp_single_train.tsv\n",
            "\n",
            "/content/drive/MyDrive/266-final/data/266-comp-lex-master/trial:\n",
            "lcp_multi_trial.tsv  lcp_single_trial.tsv\n"
          ]
        }
      ]
    },
    {
      "cell_type": "code",
      "source": [
        "!tree /content/drive/MyDrive/266-final/data/266-comp-lex-master/"
      ],
      "metadata": {
        "colab": {
          "base_uri": "https://localhost:8080/"
        },
        "id": "G9f8sPUBdbVr",
        "outputId": "8978e137-80ee-48a5-8434-153e264fdfa2"
      },
      "execution_count": 12,
      "outputs": [
        {
          "output_type": "stream",
          "name": "stdout",
          "text": [
            "\u001b[01;34m/content/drive/MyDrive/266-final/data/266-comp-lex-master/\u001b[0m\n",
            "├── \u001b[01;34mfe-test-labels\u001b[0m\n",
            "│   ├── \u001b[00mtest_multi_df.csv\u001b[0m\n",
            "│   └── \u001b[00mtest_single_df.csv\u001b[0m\n",
            "├── \u001b[01;34mfe-train\u001b[0m\n",
            "│   ├── \u001b[00mtrain_multi_df.csv\u001b[0m\n",
            "│   └── \u001b[00mtrain_single_df.csv\u001b[0m\n",
            "├── \u001b[01;34mfe-trial-val\u001b[0m\n",
            "│   ├── \u001b[00mtrial_val_multi_df.csv\u001b[0m\n",
            "│   └── \u001b[00mtrial_val_single_df.csv\u001b[0m\n",
            "├── \u001b[01;34mtest-labels\u001b[0m\n",
            "│   ├── \u001b[00mlcp_multi_test.tsv\u001b[0m\n",
            "│   └── \u001b[00mlcp_single_test.tsv\u001b[0m\n",
            "├── \u001b[01;34mtrain\u001b[0m\n",
            "│   ├── \u001b[00mlcp_multi_train.tsv\u001b[0m\n",
            "│   └── \u001b[00mlcp_single_train.tsv\u001b[0m\n",
            "└── \u001b[01;34mtrial\u001b[0m\n",
            "    ├── \u001b[00mlcp_multi_trial.tsv\u001b[0m\n",
            "    └── \u001b[00mlcp_single_trial.tsv\u001b[0m\n",
            "\n",
            "6 directories, 12 files\n"
          ]
        }
      ]
    },
    {
      "cell_type": "code",
      "source": [
        "#@title Import Data"
      ],
      "metadata": {
        "id": "oftTqvV8zojV"
      },
      "execution_count": 13,
      "outputs": []
    },
    {
      "cell_type": "code",
      "source": [
        "df_names = [\n",
        "    \"train_single_df\",\n",
        "    \"train_multi_df\",\n",
        "    \"trial_val_single_df\",\n",
        "    \"trial_val_multi_df\",\n",
        "    \"test_single_df\",\n",
        "    \"test_multi_df\"\n",
        "]\n",
        "\n",
        "loaded_dataframes = {}\n",
        "\n",
        "for df_name in df_names:\n",
        "    if \"train\" in df_name:\n",
        "        subdir = \"fe-train\"\n",
        "    elif \"trial_val\" in df_name:\n",
        "        subdir = \"fe-trial-val\"\n",
        "    elif \"test\" in df_name:\n",
        "        subdir = \"fe-test-labels\"\n",
        "    else:\n",
        "        subdir = None\n",
        "\n",
        "    if subdir:\n",
        "        read_path = os.path.join(dir_data, subdir, f\"{df_name}.csv\")\n",
        "        loaded_df = pd.read_csv(read_path)\n",
        "        loaded_dataframes[df_name] = loaded_df\n",
        "        print(f\"Loaded {df_name} from {read_path}\")\n",
        "\n",
        "# for df_name, df in loaded_dataframes.items():\n",
        "#     print(f\"\\n>>> {df_name} shape: {df.shape}\")\n",
        "#     if 'binary_complexity' in df.columns:\n",
        "#         print(df['binary_complexity'].value_counts())\n",
        "#         print(df.info())\n",
        "#         print(df.head())\n",
        "\n",
        "for df_name, df in loaded_dataframes.items():\n",
        "    globals()[df_name] = df\n",
        "    print(f\"{df_name} loaded into global namespace.\")"
      ],
      "metadata": {
        "id": "73lV0P87eV-P",
        "colab": {
          "base_uri": "https://localhost:8080/"
        },
        "outputId": "bb5c8735-db73-4c2a-ea14-fe759502378c"
      },
      "execution_count": 14,
      "outputs": [
        {
          "output_type": "stream",
          "name": "stdout",
          "text": [
            "Loaded train_single_df from /content/drive/MyDrive/266-final/data/266-comp-lex-master/fe-train/train_single_df.csv\n",
            "Loaded train_multi_df from /content/drive/MyDrive/266-final/data/266-comp-lex-master/fe-train/train_multi_df.csv\n",
            "Loaded trial_val_single_df from /content/drive/MyDrive/266-final/data/266-comp-lex-master/fe-trial-val/trial_val_single_df.csv\n",
            "Loaded trial_val_multi_df from /content/drive/MyDrive/266-final/data/266-comp-lex-master/fe-trial-val/trial_val_multi_df.csv\n",
            "Loaded test_single_df from /content/drive/MyDrive/266-final/data/266-comp-lex-master/fe-test-labels/test_single_df.csv\n",
            "Loaded test_multi_df from /content/drive/MyDrive/266-final/data/266-comp-lex-master/fe-test-labels/test_multi_df.csv\n",
            "train_single_df loaded into global namespace.\n",
            "train_multi_df loaded into global namespace.\n",
            "trial_val_single_df loaded into global namespace.\n",
            "trial_val_multi_df loaded into global namespace.\n",
            "test_single_df loaded into global namespace.\n",
            "test_multi_df loaded into global namespace.\n"
          ]
        }
      ]
    },
    {
      "cell_type": "markdown",
      "source": [
        "- Functional tests pass, we can proceed with Baseline Modeling"
      ],
      "metadata": {
        "id": "8VsgfL5ZhO4z"
      }
    },
    {
      "cell_type": "code",
      "source": [
        "#@title Experiment 1: Baseline Modeling"
      ],
      "metadata": {
        "id": "AryofObMaySF"
      },
      "execution_count": 15,
      "outputs": []
    },
    {
      "cell_type": "markdown",
      "source": [
        "### Reminders:\n",
        "\n",
        "- Precision\n",
        "$$\n",
        "\\text{Precision} = \\frac{TP}{TP + FP}\n",
        "$$\n",
        "- Recall\n",
        "$$\n",
        "\\text{Recall} = \\frac{TP}{TP + FN}\n",
        "$$\n",
        "\n",
        "- Accuracy\n",
        "$$\n",
        "\\text{Accuracy} = \\frac{TP + TN}{TP + TN + FP + FN}\n",
        "$$\n",
        "\n",
        "- F1 Score\n",
        "$$\n",
        "\\text{F1} = 2 \\times \\frac{\\text{Precision} \\times \\text{Recall}}{\\text{Precision} + \\text{Recall}}\n",
        "$$\n",
        "\n",
        "- Cosine Similarity\n",
        "$$\n",
        "\\text{Cosine Similarity} = \\frac{\\mathbf{A} \\cdot \\mathbf{B}}{\\|\\mathbf{A}\\| \\, \\|\\mathbf{B}\\|}\n",
        "$$\n",
        "\n",
        "- Jaccard Similarity\n",
        "$$\n",
        "\\text{Jaccard Similarity} = \\frac{|A \\cap B|}{|A \\cup B|}\n",
        "$$\n",
        "\n",
        "- Overlap Similarity (Overlap Coefficient)\n",
        "$$\n",
        "\\text{Overlap Similarity} = \\frac{|A \\cap B|}{\\min(|A|, |B|)}\n",
        "$$\n",
        "\n",
        "- Dice Coefficient\n",
        "$$\n",
        "\\text{Dice Coefficient} = \\frac{2 \\, |A \\cap B|}{|A| + |B|}\n",
        "$$\n",
        "\n"
      ],
      "metadata": {
        "id": "zcq7Fwy9jazt"
      }
    },
    {
      "cell_type": "markdown",
      "source": [
        "## Naive Bayes"
      ],
      "metadata": {
        "id": "kXGkjXQGqeH8"
      }
    },
    {
      "cell_type": "markdown",
      "source": [
        "### X = Sentence: contractions and no contractions"
      ],
      "metadata": {
        "id": "25Ph58CZtFJJ"
      }
    },
    {
      "cell_type": "markdown",
      "source": [
        "- sentence no contractions"
      ],
      "metadata": {
        "id": "MMDGr-ELvBZL"
      }
    },
    {
      "cell_type": "code",
      "source": [
        "train_df = train_single_df\n",
        "val_df = trial_val_single_df\n",
        "\n",
        "vectorizer = TfidfVectorizer()  # just on 'sentence_no_contractions'\n",
        "X_train = vectorizer.fit_transform(train_df['sentence_no_contractions'])\n",
        "y_train = train_df['binary_complexity']\n",
        "\n",
        "X_val = vectorizer.transform(val_df['sentence_no_contractions'])\n",
        "y_val = val_df['binary_complexity']\n",
        "\n",
        "clf = MultinomialNB()\n",
        "clf.fit(X_train, y_train)\n",
        "preds = clf.predict(X_val)\n",
        "print(classification_report(y_val, preds))\n"
      ],
      "metadata": {
        "colab": {
          "base_uri": "https://localhost:8080/"
        },
        "id": "nd8mW5gfhV8j",
        "outputId": "5c8f6d13-8ad7-497d-f915-46cf52f06f39"
      },
      "execution_count": 16,
      "outputs": [
        {
          "output_type": "stream",
          "name": "stdout",
          "text": [
            "              precision    recall  f1-score   support\n",
            "\n",
            "           0       0.57      0.74      0.64       518\n",
            "           1       0.59      0.40      0.47       482\n",
            "\n",
            "    accuracy                           0.57      1000\n",
            "   macro avg       0.58      0.57      0.56      1000\n",
            "weighted avg       0.58      0.57      0.56      1000\n",
            "\n"
          ]
        }
      ]
    },
    {
      "cell_type": "markdown",
      "source": [
        "- sentence with contractions"
      ],
      "metadata": {
        "id": "00DmH5T-vDp3"
      }
    },
    {
      "cell_type": "code",
      "source": [
        "train_df = train_single_df\n",
        "val_df = trial_val_single_df\n",
        "\n",
        "vectorizer = TfidfVectorizer()  # just on 'sentence'\n",
        "X_train = vectorizer.fit_transform(train_df['sentence'])\n",
        "y_train = train_df['binary_complexity']\n",
        "\n",
        "X_val = vectorizer.transform(val_df['sentence'])\n",
        "y_val = val_df['binary_complexity']\n",
        "\n",
        "clf = MultinomialNB()\n",
        "clf.fit(X_train, y_train)\n",
        "preds = clf.predict(X_val)\n",
        "print(classification_report(y_val, preds))\n"
      ],
      "metadata": {
        "colab": {
          "base_uri": "https://localhost:8080/"
        },
        "id": "p0rDGC_Ur7Tc",
        "outputId": "f50ff25c-3907-422a-aa3f-c4a62c878e26"
      },
      "execution_count": 17,
      "outputs": [
        {
          "output_type": "stream",
          "name": "stdout",
          "text": [
            "              precision    recall  f1-score   support\n",
            "\n",
            "           0       0.57      0.74      0.64       518\n",
            "           1       0.59      0.40      0.48       482\n",
            "\n",
            "    accuracy                           0.57      1000\n",
            "   macro avg       0.58      0.57      0.56      1000\n",
            "weighted avg       0.58      0.57      0.56      1000\n",
            "\n"
          ]
        }
      ]
    },
    {
      "cell_type": "markdown",
      "source": [
        "- sentence no contractions"
      ],
      "metadata": {
        "id": "s90SKXECvFdU"
      }
    },
    {
      "cell_type": "code",
      "source": [
        "train_df = train_multi_df\n",
        "val_df = trial_val_multi_df\n",
        "\n",
        "vectorizer = TfidfVectorizer()  # just on 'sentence_no_contractions'\n",
        "X_train = vectorizer.fit_transform(train_df['sentence_no_contractions'])\n",
        "y_train = train_df['binary_complexity']\n",
        "\n",
        "X_val = vectorizer.transform(val_df['sentence_no_contractions'])\n",
        "y_val = val_df['binary_complexity']\n",
        "\n",
        "clf = MultinomialNB()\n",
        "clf.fit(X_train, y_train)\n",
        "preds = clf.predict(X_val)\n",
        "print(classification_report(y_val, preds))"
      ],
      "metadata": {
        "colab": {
          "base_uri": "https://localhost:8080/"
        },
        "id": "5krsiE6ohV6F",
        "outputId": "5f28f6fd-e559-44e0-8b7a-1d9c69dd811e"
      },
      "execution_count": 18,
      "outputs": [
        {
          "output_type": "stream",
          "name": "stdout",
          "text": [
            "              precision    recall  f1-score   support\n",
            "\n",
            "           0       0.66      0.75      0.70       142\n",
            "           1       0.60      0.48      0.53       108\n",
            "\n",
            "    accuracy                           0.64       250\n",
            "   macro avg       0.63      0.62      0.62       250\n",
            "weighted avg       0.63      0.64      0.63       250\n",
            "\n"
          ]
        }
      ]
    },
    {
      "cell_type": "markdown",
      "source": [
        "- sentence with contractions"
      ],
      "metadata": {
        "id": "gSARiKJUvJlO"
      }
    },
    {
      "cell_type": "code",
      "source": [
        "train_df = train_multi_df\n",
        "val_df = trial_val_multi_df\n",
        "\n",
        "vectorizer = TfidfVectorizer()  # just on 'sentence'\n",
        "X_train = vectorizer.fit_transform(train_df['sentence'])\n",
        "y_train = train_df['binary_complexity']\n",
        "\n",
        "X_val = vectorizer.transform(val_df['sentence'])\n",
        "y_val = val_df['binary_complexity']\n",
        "\n",
        "clf = MultinomialNB()\n",
        "clf.fit(X_train, y_train)\n",
        "preds = clf.predict(X_val)\n",
        "print(classification_report(y_val, preds))\n"
      ],
      "metadata": {
        "colab": {
          "base_uri": "https://localhost:8080/"
        },
        "id": "nDhdExbrhV3n",
        "outputId": "40e73cef-d188-4565-daba-a71652dcccf1"
      },
      "execution_count": 19,
      "outputs": [
        {
          "output_type": "stream",
          "name": "stdout",
          "text": [
            "              precision    recall  f1-score   support\n",
            "\n",
            "           0       0.66      0.75      0.70       142\n",
            "           1       0.60      0.49      0.54       108\n",
            "\n",
            "    accuracy                           0.64       250\n",
            "   macro avg       0.63      0.62      0.62       250\n",
            "weighted avg       0.64      0.64      0.63       250\n",
            "\n"
          ]
        }
      ]
    },
    {
      "cell_type": "markdown",
      "source": [
        "- **Score is higher than expected for a Naive Bayes model**\n",
        "- **There is no difference in performance when using the input sequence of the sentence with and without contractions**"
      ],
      "metadata": {
        "id": "8ZGQHDtwsMwa"
      }
    },
    {
      "cell_type": "markdown",
      "source": [
        "### X = pos_sequence: Part-of-Speech Tags"
      ],
      "metadata": {
        "id": "kmm6vDVPsm6a"
      }
    },
    {
      "cell_type": "markdown",
      "source": [
        "- POS Tags: Extracts the part-of-speech (POS) tags for each token (e.g., \"DET\", \"NOUN\", \"VERB\")."
      ],
      "metadata": {
        "id": "UAkALOTjuG36"
      }
    },
    {
      "cell_type": "code",
      "source": [
        "train_df = train_single_df\n",
        "val_df = trial_val_single_df\n",
        "\n",
        "vectorizer = TfidfVectorizer()\n",
        "X_train = vectorizer.fit_transform(train_df['pos_sequence'])\n",
        "y_train = train_df['binary_complexity']\n",
        "\n",
        "X_val = vectorizer.transform(val_df['pos_sequence'])\n",
        "y_val = val_df['binary_complexity']\n",
        "\n",
        "clf = MultinomialNB()\n",
        "clf.fit(X_train, y_train)\n",
        "preds = clf.predict(X_val)\n",
        "print(classification_report(y_val, preds))\n"
      ],
      "metadata": {
        "colab": {
          "base_uri": "https://localhost:8080/"
        },
        "id": "_j5rivRdsbaQ",
        "outputId": "5483a84f-fa48-42c7-bd2c-9d7f2f399e1f"
      },
      "execution_count": 20,
      "outputs": [
        {
          "output_type": "stream",
          "name": "stdout",
          "text": [
            "              precision    recall  f1-score   support\n",
            "\n",
            "           0       0.54      0.69      0.61       518\n",
            "           1       0.53      0.38      0.44       482\n",
            "\n",
            "    accuracy                           0.54      1000\n",
            "   macro avg       0.54      0.53      0.52      1000\n",
            "weighted avg       0.54      0.54      0.53      1000\n",
            "\n"
          ]
        }
      ]
    },
    {
      "cell_type": "code",
      "source": [
        "train_df = train_multi_df\n",
        "val_df = trial_val_multi_df\n",
        "\n",
        "vectorizer = TfidfVectorizer()\n",
        "X_train = vectorizer.fit_transform(train_df['pos_sequence'])\n",
        "y_train = train_df['binary_complexity']\n",
        "\n",
        "X_val = vectorizer.transform(val_df['pos_sequence'])\n",
        "y_val = val_df['binary_complexity']\n",
        "\n",
        "clf = MultinomialNB()\n",
        "clf.fit(X_train, y_train)\n",
        "preds = clf.predict(X_val)\n",
        "print(classification_report(y_val, preds))\n"
      ],
      "metadata": {
        "colab": {
          "base_uri": "https://localhost:8080/"
        },
        "id": "vJUA-jU3tBKj",
        "outputId": "481c610b-9a85-4218-efb4-a8f51df76723"
      },
      "execution_count": 21,
      "outputs": [
        {
          "output_type": "stream",
          "name": "stdout",
          "text": [
            "              precision    recall  f1-score   support\n",
            "\n",
            "           0       0.62      0.73      0.67       142\n",
            "           1       0.53      0.40      0.46       108\n",
            "\n",
            "    accuracy                           0.59       250\n",
            "   macro avg       0.57      0.57      0.56       250\n",
            "weighted avg       0.58      0.59      0.58       250\n",
            "\n"
          ]
        }
      ]
    },
    {
      "cell_type": "markdown",
      "source": [
        "- Part of Speech tags outperform raw input sequence"
      ],
      "metadata": {
        "id": "y9fD5Js7t8Ez"
      }
    },
    {
      "cell_type": "markdown",
      "source": [
        "### X = dep_sequence: Dependency Tags\n",
        "\n",
        "- Dependency Tags: Extracts the syntactic dependency labels for each token (e.g., \"det\", \"nsubj\", \"ROOT\")."
      ],
      "metadata": {
        "id": "N9puBjbrtktC"
      }
    },
    {
      "cell_type": "code",
      "source": [
        "train_df = train_single_df\n",
        "val_df = trial_val_single_df\n",
        "\n",
        "vectorizer = TfidfVectorizer()\n",
        "X_train = vectorizer.fit_transform(train_df['dep_sequence'])\n",
        "y_train = train_df['binary_complexity']\n",
        "\n",
        "X_val = vectorizer.transform(val_df['dep_sequence'])\n",
        "y_val = val_df['binary_complexity']\n",
        "\n",
        "clf = MultinomialNB()\n",
        "clf.fit(X_train, y_train)\n",
        "preds = clf.predict(X_val)\n",
        "print(classification_report(y_val, preds))"
      ],
      "metadata": {
        "colab": {
          "base_uri": "https://localhost:8080/"
        },
        "id": "Z0uXfJPLsbX0",
        "outputId": "9c9d5896-cef5-4f86-c021-ca38528832e8"
      },
      "execution_count": 22,
      "outputs": [
        {
          "output_type": "stream",
          "name": "stdout",
          "text": [
            "              precision    recall  f1-score   support\n",
            "\n",
            "           0       0.55      0.62      0.58       518\n",
            "           1       0.53      0.46      0.49       482\n",
            "\n",
            "    accuracy                           0.54      1000\n",
            "   macro avg       0.54      0.54      0.54      1000\n",
            "weighted avg       0.54      0.54      0.54      1000\n",
            "\n"
          ]
        }
      ]
    },
    {
      "cell_type": "code",
      "source": [
        "train_df = train_multi_df\n",
        "val_df = trial_val_multi_df\n",
        "\n",
        "vectorizer = TfidfVectorizer()\n",
        "X_train = vectorizer.fit_transform(train_df['dep_sequence'])\n",
        "y_train = train_df['binary_complexity']\n",
        "\n",
        "X_val = vectorizer.transform(val_df['dep_sequence'])\n",
        "y_val = val_df['binary_complexity']\n",
        "\n",
        "clf = MultinomialNB()\n",
        "clf.fit(X_train, y_train)\n",
        "preds = clf.predict(X_val)\n",
        "print(classification_report(y_val, preds))"
      ],
      "metadata": {
        "colab": {
          "base_uri": "https://localhost:8080/"
        },
        "id": "zmVkGchCuuj2",
        "outputId": "1e2baddf-e4ef-43ad-af43-4dec08958e1f"
      },
      "execution_count": 23,
      "outputs": [
        {
          "output_type": "stream",
          "name": "stdout",
          "text": [
            "              precision    recall  f1-score   support\n",
            "\n",
            "           0       0.60      0.68      0.64       142\n",
            "           1       0.49      0.42      0.45       108\n",
            "\n",
            "    accuracy                           0.56       250\n",
            "   macro avg       0.55      0.55      0.55       250\n",
            "weighted avg       0.56      0.56      0.56       250\n",
            "\n"
          ]
        }
      ]
    },
    {
      "cell_type": "markdown",
      "source": [
        "### X = morph_sequence: Morphological Features\n",
        "- For each token, the morphological attributes have been retrieved for each token"
      ],
      "metadata": {
        "id": "hlE9BbXuuYQO"
      }
    },
    {
      "cell_type": "code",
      "source": [
        "train_df = train_single_df\n",
        "val_df = trial_val_single_df\n",
        "\n",
        "vectorizer = TfidfVectorizer()\n",
        "X_train = vectorizer.fit_transform(train_df['morph_sequence'])\n",
        "y_train = train_df['binary_complexity']\n",
        "\n",
        "X_val = vectorizer.transform(val_df['morph_sequence'])\n",
        "y_val = val_df['binary_complexity']\n",
        "\n",
        "clf = MultinomialNB()\n",
        "clf.fit(X_train, y_train)\n",
        "preds = clf.predict(X_val)\n",
        "print(classification_report(y_val, preds))\n"
      ],
      "metadata": {
        "colab": {
          "base_uri": "https://localhost:8080/"
        },
        "id": "jpy5Kh8SsbTR",
        "outputId": "990c311a-6a05-4e72-9356-832680a40a37"
      },
      "execution_count": 24,
      "outputs": [
        {
          "output_type": "stream",
          "name": "stdout",
          "text": [
            "              precision    recall  f1-score   support\n",
            "\n",
            "           0       0.56      0.59      0.57       518\n",
            "           1       0.53      0.50      0.51       482\n",
            "\n",
            "    accuracy                           0.55      1000\n",
            "   macro avg       0.54      0.54      0.54      1000\n",
            "weighted avg       0.54      0.55      0.54      1000\n",
            "\n"
          ]
        }
      ]
    },
    {
      "cell_type": "code",
      "source": [
        "train_df = train_multi_df\n",
        "val_df = trial_val_multi_df\n",
        "\n",
        "vectorizer = TfidfVectorizer()\n",
        "X_train = vectorizer.fit_transform(train_df['morph_sequence'])\n",
        "y_train = train_df['binary_complexity']\n",
        "\n",
        "X_val = vectorizer.transform(val_df['morph_sequence'])\n",
        "y_val = val_df['binary_complexity']\n",
        "\n",
        "clf = MultinomialNB()\n",
        "clf.fit(X_train, y_train)\n",
        "preds = clf.predict(X_val)\n",
        "print(classification_report(y_val, preds))\n"
      ],
      "metadata": {
        "colab": {
          "base_uri": "https://localhost:8080/"
        },
        "id": "SS92gFd1sbQe",
        "outputId": "8fb54fe9-4691-42d3-ef94-2d4d3682f926"
      },
      "execution_count": 25,
      "outputs": [
        {
          "output_type": "stream",
          "name": "stdout",
          "text": [
            "              precision    recall  f1-score   support\n",
            "\n",
            "           0       0.66      0.56      0.61       142\n",
            "           1       0.52      0.63      0.57       108\n",
            "\n",
            "    accuracy                           0.59       250\n",
            "   macro avg       0.59      0.59      0.59       250\n",
            "weighted avg       0.60      0.59      0.59       250\n",
            "\n"
          ]
        }
      ]
    },
    {
      "cell_type": "markdown",
      "source": [
        "### Baseline Experiment Results\n",
        "\n",
        "#### Evaluation\n",
        "\n",
        "- Naive Bayes baseline demonstrates improved performance on the re-balanced dataset, compared with the original balance, including on pure engineered features.\n"
      ],
      "metadata": {
        "id": "pGyR5awNxlm8"
      }
    },
    {
      "cell_type": "markdown",
      "source": [
        "## Update: Concatenated and Interleaved Features"
      ],
      "metadata": {
        "id": "sxtX1PTeixut"
      }
    },
    {
      "cell_type": "markdown",
      "source": [
        "### Single"
      ],
      "metadata": {
        "id": "WMhH03VXi7FG"
      }
    },
    {
      "cell_type": "code",
      "source": [
        "train_df = train_single_df\n",
        "val_df = trial_val_single_df\n",
        "\n",
        "vectorizer = TfidfVectorizer()  # just on 'sentence_no_contractions'\n",
        "X_train = vectorizer.fit_transform(train_df['snc_pos_seq'])\n",
        "y_train = train_df['binary_complexity']\n",
        "\n",
        "X_val = vectorizer.transform(val_df['snc_pos_seq'])\n",
        "y_val = val_df['binary_complexity']\n",
        "\n",
        "clf = MultinomialNB()\n",
        "clf.fit(X_train, y_train)\n",
        "preds = clf.predict(X_val)\n",
        "print(classification_report(y_val, preds))\n"
      ],
      "metadata": {
        "id": "ySyP-tBv6DOp",
        "colab": {
          "base_uri": "https://localhost:8080/"
        },
        "outputId": "fb8291fc-e469-4965-9ae2-ced95834d89f"
      },
      "execution_count": 26,
      "outputs": [
        {
          "output_type": "stream",
          "name": "stdout",
          "text": [
            "              precision    recall  f1-score   support\n",
            "\n",
            "           0       0.56      0.74      0.64       518\n",
            "           1       0.57      0.37      0.45       482\n",
            "\n",
            "    accuracy                           0.56      1000\n",
            "   macro avg       0.56      0.55      0.54      1000\n",
            "weighted avg       0.56      0.56      0.55      1000\n",
            "\n"
          ]
        }
      ]
    },
    {
      "cell_type": "code",
      "source": [
        "train_df = train_single_df\n",
        "val_df = trial_val_single_df\n",
        "\n",
        "vectorizer = TfidfVectorizer()  # just on 'sentence_no_contractions'\n",
        "X_train = vectorizer.fit_transform(train_df['snc_pos_alt'])\n",
        "y_train = train_df['binary_complexity']\n",
        "\n",
        "X_val = vectorizer.transform(val_df['snc_pos_alt'])\n",
        "y_val = val_df['binary_complexity']\n",
        "\n",
        "clf = MultinomialNB()\n",
        "clf.fit(X_train, y_train)\n",
        "preds = clf.predict(X_val)\n",
        "print(classification_report(y_val, preds))\n"
      ],
      "metadata": {
        "id": "TZUHcYROi97p",
        "colab": {
          "base_uri": "https://localhost:8080/"
        },
        "outputId": "91f8bc42-1d80-41d5-d7ec-ce8d8c8be388"
      },
      "execution_count": 27,
      "outputs": [
        {
          "output_type": "stream",
          "name": "stdout",
          "text": [
            "              precision    recall  f1-score   support\n",
            "\n",
            "           0       0.56      0.74      0.64       518\n",
            "           1       0.57      0.37      0.45       482\n",
            "\n",
            "    accuracy                           0.56      1000\n",
            "   macro avg       0.56      0.56      0.54      1000\n",
            "weighted avg       0.56      0.56      0.55      1000\n",
            "\n"
          ]
        }
      ]
    },
    {
      "cell_type": "code",
      "source": [
        "train_df = train_single_df\n",
        "val_df = trial_val_single_df\n",
        "\n",
        "vectorizer = TfidfVectorizer()  # just on 'sentence_no_contractions'\n",
        "X_train = vectorizer.fit_transform(train_df['snc_morph_seq'])\n",
        "y_train = train_df['binary_complexity']\n",
        "\n",
        "X_val = vectorizer.transform(val_df['snc_morph_seq'])\n",
        "y_val = val_df['binary_complexity']\n",
        "\n",
        "clf = MultinomialNB()\n",
        "clf.fit(X_train, y_train)\n",
        "preds = clf.predict(X_val)\n",
        "print(classification_report(y_val, preds))\n"
      ],
      "metadata": {
        "id": "SHEvDREji93u",
        "colab": {
          "base_uri": "https://localhost:8080/"
        },
        "outputId": "fe1f1bce-3200-467a-f957-0787c3f99f21"
      },
      "execution_count": 28,
      "outputs": [
        {
          "output_type": "stream",
          "name": "stdout",
          "text": [
            "              precision    recall  f1-score   support\n",
            "\n",
            "           0       0.56      0.76      0.65       518\n",
            "           1       0.59      0.37      0.45       482\n",
            "\n",
            "    accuracy                           0.57      1000\n",
            "   macro avg       0.58      0.56      0.55      1000\n",
            "weighted avg       0.58      0.57      0.55      1000\n",
            "\n"
          ]
        }
      ]
    },
    {
      "cell_type": "code",
      "source": [
        "train_df = train_single_df\n",
        "val_df = trial_val_single_df\n",
        "\n",
        "vectorizer = TfidfVectorizer()  # just on 'sentence_no_contractions'\n",
        "X_train = vectorizer.fit_transform(train_df['snc_morph_alt'])\n",
        "y_train = train_df['binary_complexity']\n",
        "\n",
        "X_val = vectorizer.transform(val_df['snc_morph_alt'])\n",
        "y_val = val_df['binary_complexity']\n",
        "\n",
        "clf = MultinomialNB()\n",
        "clf.fit(X_train, y_train)\n",
        "preds = clf.predict(X_val)\n",
        "print(classification_report(y_val, preds))\n"
      ],
      "metadata": {
        "id": "VsBCBWb9i9zc",
        "colab": {
          "base_uri": "https://localhost:8080/"
        },
        "outputId": "b0ccd2b5-7b58-4836-d335-f21bbdcf8f9c"
      },
      "execution_count": 29,
      "outputs": [
        {
          "output_type": "stream",
          "name": "stdout",
          "text": [
            "              precision    recall  f1-score   support\n",
            "\n",
            "           0       0.56      0.77      0.65       518\n",
            "           1       0.59      0.36      0.45       482\n",
            "\n",
            "    accuracy                           0.57      1000\n",
            "   macro avg       0.58      0.56      0.55      1000\n",
            "weighted avg       0.58      0.57      0.55      1000\n",
            "\n"
          ]
        }
      ]
    },
    {
      "cell_type": "code",
      "source": [
        "train_df = train_single_df\n",
        "val_df = trial_val_single_df\n",
        "\n",
        "vectorizer = TfidfVectorizer()  # just on 'sentence_no_contractions'\n",
        "X_train = vectorizer.fit_transform(train_df['snc_dep_seq'])\n",
        "y_train = train_df['binary_complexity']\n",
        "\n",
        "X_val = vectorizer.transform(val_df['snc_dep_seq'])\n",
        "y_val = val_df['binary_complexity']\n",
        "\n",
        "clf = MultinomialNB()\n",
        "clf.fit(X_train, y_train)\n",
        "preds = clf.predict(X_val)\n",
        "print(classification_report(y_val, preds))\n"
      ],
      "metadata": {
        "id": "vp39Lrohi9u2",
        "colab": {
          "base_uri": "https://localhost:8080/"
        },
        "outputId": "870495c6-b6bb-4002-945c-fb5ed4deca39"
      },
      "execution_count": 30,
      "outputs": [
        {
          "output_type": "stream",
          "name": "stdout",
          "text": [
            "              precision    recall  f1-score   support\n",
            "\n",
            "           0       0.56      0.73      0.63       518\n",
            "           1       0.57      0.37      0.45       482\n",
            "\n",
            "    accuracy                           0.56      1000\n",
            "   macro avg       0.56      0.55      0.54      1000\n",
            "weighted avg       0.56      0.56      0.54      1000\n",
            "\n"
          ]
        }
      ]
    },
    {
      "cell_type": "code",
      "source": [
        "train_df = train_single_df\n",
        "val_df = trial_val_single_df\n",
        "\n",
        "vectorizer = TfidfVectorizer()  # just on 'sentence_no_contractions'\n",
        "X_train = vectorizer.fit_transform(train_df['snc_dep_alt'])\n",
        "y_train = train_df['binary_complexity']\n",
        "\n",
        "X_val = vectorizer.transform(val_df['snc_dep_alt'])\n",
        "y_val = val_df['binary_complexity']\n",
        "\n",
        "clf = MultinomialNB()\n",
        "clf.fit(X_train, y_train)\n",
        "preds = clf.predict(X_val)\n",
        "print(classification_report(y_val, preds))\n"
      ],
      "metadata": {
        "id": "l9tFeaMgi9qV",
        "colab": {
          "base_uri": "https://localhost:8080/"
        },
        "outputId": "8f11c2b8-111c-4e4e-c2a0-5bee619312a2"
      },
      "execution_count": 31,
      "outputs": [
        {
          "output_type": "stream",
          "name": "stdout",
          "text": [
            "              precision    recall  f1-score   support\n",
            "\n",
            "           0       0.56      0.75      0.64       518\n",
            "           1       0.58      0.37      0.45       482\n",
            "\n",
            "    accuracy                           0.57      1000\n",
            "   macro avg       0.57      0.56      0.55      1000\n",
            "weighted avg       0.57      0.57      0.55      1000\n",
            "\n"
          ]
        }
      ]
    },
    {
      "cell_type": "code",
      "source": [],
      "metadata": {
        "id": "xpwW_ZUbi9jh"
      },
      "execution_count": 31,
      "outputs": []
    },
    {
      "cell_type": "code",
      "source": [],
      "metadata": {
        "id": "hMXjQhoqi9bW"
      },
      "execution_count": 31,
      "outputs": []
    },
    {
      "cell_type": "markdown",
      "source": [
        "### Multi"
      ],
      "metadata": {
        "id": "3BpggVu4i-ng"
      }
    },
    {
      "cell_type": "code",
      "source": [
        "train_df = train_multi_df\n",
        "val_df = trial_val_multi_df\n",
        "\n",
        "vectorizer = TfidfVectorizer()  # just on 'sentence_no_contractions'\n",
        "X_train = vectorizer.fit_transform(train_df['snc_pos_seq'])\n",
        "y_train = train_df['binary_complexity']\n",
        "\n",
        "X_val = vectorizer.transform(val_df['snc_pos_seq'])\n",
        "y_val = val_df['binary_complexity']\n",
        "\n",
        "clf = MultinomialNB()\n",
        "clf.fit(X_train, y_train)\n",
        "preds = clf.predict(X_val)\n",
        "print(classification_report(y_val, preds))\n"
      ],
      "metadata": {
        "id": "nBlZTla5i_el",
        "colab": {
          "base_uri": "https://localhost:8080/"
        },
        "outputId": "29bc209a-9e53-4bce-df8b-0862eed1c23f"
      },
      "execution_count": 32,
      "outputs": [
        {
          "output_type": "stream",
          "name": "stdout",
          "text": [
            "              precision    recall  f1-score   support\n",
            "\n",
            "           0       0.66      0.77      0.71       142\n",
            "           1       0.62      0.49      0.55       108\n",
            "\n",
            "    accuracy                           0.65       250\n",
            "   macro avg       0.64      0.63      0.63       250\n",
            "weighted avg       0.64      0.65      0.64       250\n",
            "\n"
          ]
        }
      ]
    },
    {
      "cell_type": "code",
      "source": [
        "train_df = train_multi_df\n",
        "val_df = trial_val_multi_df\n",
        "\n",
        "vectorizer = TfidfVectorizer()  # just on 'sentence_no_contractions'\n",
        "X_train = vectorizer.fit_transform(train_df['snc_pos_alt'])\n",
        "y_train = train_df['binary_complexity']\n",
        "\n",
        "X_val = vectorizer.transform(val_df['snc_pos_alt'])\n",
        "y_val = val_df['binary_complexity']\n",
        "\n",
        "clf = MultinomialNB()\n",
        "clf.fit(X_train, y_train)\n",
        "preds = clf.predict(X_val)\n",
        "print(classification_report(y_val, preds))\n"
      ],
      "metadata": {
        "id": "OZSMB9gZjAei",
        "colab": {
          "base_uri": "https://localhost:8080/"
        },
        "outputId": "2abcc230-940d-4555-f688-dc6c96da9a02"
      },
      "execution_count": 33,
      "outputs": [
        {
          "output_type": "stream",
          "name": "stdout",
          "text": [
            "              precision    recall  f1-score   support\n",
            "\n",
            "           0       0.65      0.77      0.70       142\n",
            "           1       0.60      0.45      0.52       108\n",
            "\n",
            "    accuracy                           0.63       250\n",
            "   macro avg       0.62      0.61      0.61       250\n",
            "weighted avg       0.63      0.63      0.62       250\n",
            "\n"
          ]
        }
      ]
    },
    {
      "cell_type": "code",
      "source": [
        "train_df = train_multi_df\n",
        "val_df = trial_val_multi_df\n",
        "\n",
        "vectorizer = TfidfVectorizer()  # just on 'sentence_no_contractions'\n",
        "X_train = vectorizer.fit_transform(train_df['snc_morph_seq'])\n",
        "y_train = train_df['binary_complexity']\n",
        "\n",
        "X_val = vectorizer.transform(val_df['snc_morph_seq'])\n",
        "y_val = val_df['binary_complexity']\n",
        "\n",
        "clf = MultinomialNB()\n",
        "clf.fit(X_train, y_train)\n",
        "preds = clf.predict(X_val)\n",
        "print(classification_report(y_val, preds))\n"
      ],
      "metadata": {
        "id": "6q35gCbpjAWr",
        "colab": {
          "base_uri": "https://localhost:8080/"
        },
        "outputId": "5965fa4c-9445-4c1b-e1a7-587fabbc8198"
      },
      "execution_count": 34,
      "outputs": [
        {
          "output_type": "stream",
          "name": "stdout",
          "text": [
            "              precision    recall  f1-score   support\n",
            "\n",
            "           0       0.67      0.77      0.72       142\n",
            "           1       0.63      0.51      0.56       108\n",
            "\n",
            "    accuracy                           0.66       250\n",
            "   macro avg       0.65      0.64      0.64       250\n",
            "weighted avg       0.66      0.66      0.65       250\n",
            "\n"
          ]
        }
      ]
    },
    {
      "cell_type": "code",
      "source": [
        "train_df = train_multi_df\n",
        "val_df = trial_val_multi_df\n",
        "\n",
        "vectorizer = TfidfVectorizer()  # just on 'sentence_no_contractions'\n",
        "X_train = vectorizer.fit_transform(train_df['snc_morph_alt'])\n",
        "y_train = train_df['binary_complexity']\n",
        "\n",
        "X_val = vectorizer.transform(val_df['snc_morph_alt'])\n",
        "y_val = val_df['binary_complexity']\n",
        "\n",
        "clf = MultinomialNB()\n",
        "clf.fit(X_train, y_train)\n",
        "preds = clf.predict(X_val)\n",
        "print(classification_report(y_val, preds))\n"
      ],
      "metadata": {
        "id": "Q-mo-hhGjAUF",
        "colab": {
          "base_uri": "https://localhost:8080/"
        },
        "outputId": "874a7fb1-fb09-4db8-9889-89c796c5f4c6"
      },
      "execution_count": 35,
      "outputs": [
        {
          "output_type": "stream",
          "name": "stdout",
          "text": [
            "              precision    recall  f1-score   support\n",
            "\n",
            "           0       0.66      0.78      0.72       142\n",
            "           1       0.62      0.47      0.54       108\n",
            "\n",
            "    accuracy                           0.65       250\n",
            "   macro avg       0.64      0.63      0.63       250\n",
            "weighted avg       0.64      0.65      0.64       250\n",
            "\n"
          ]
        }
      ]
    },
    {
      "cell_type": "code",
      "source": [
        "train_df = train_multi_df\n",
        "val_df = trial_val_multi_df\n",
        "\n",
        "vectorizer = TfidfVectorizer()  # just on 'sentence_no_contractions'\n",
        "X_train = vectorizer.fit_transform(train_df['snc_dep_seq'])\n",
        "y_train = train_df['binary_complexity']\n",
        "\n",
        "X_val = vectorizer.transform(val_df['snc_dep_seq'])\n",
        "y_val = val_df['binary_complexity']\n",
        "\n",
        "clf = MultinomialNB()\n",
        "clf.fit(X_train, y_train)\n",
        "preds = clf.predict(X_val)\n",
        "print(classification_report(y_val, preds))\n"
      ],
      "metadata": {
        "id": "GnUzd_5rjARd",
        "colab": {
          "base_uri": "https://localhost:8080/"
        },
        "outputId": "16844a71-4749-4fc4-c8e7-119479195642"
      },
      "execution_count": 36,
      "outputs": [
        {
          "output_type": "stream",
          "name": "stdout",
          "text": [
            "              precision    recall  f1-score   support\n",
            "\n",
            "           0       0.65      0.77      0.71       142\n",
            "           1       0.60      0.46      0.52       108\n",
            "\n",
            "    accuracy                           0.64       250\n",
            "   macro avg       0.63      0.62      0.61       250\n",
            "weighted avg       0.63      0.64      0.63       250\n",
            "\n"
          ]
        }
      ]
    },
    {
      "cell_type": "code",
      "source": [
        "train_df = train_multi_df\n",
        "val_df = trial_val_multi_df\n",
        "\n",
        "vectorizer = TfidfVectorizer()  # just on 'sentence_no_contractions'\n",
        "X_train = vectorizer.fit_transform(train_df['snc_dep_alt'])\n",
        "y_train = train_df['binary_complexity']\n",
        "\n",
        "X_val = vectorizer.transform(val_df['snc_dep_alt'])\n",
        "y_val = val_df['binary_complexity']\n",
        "\n",
        "clf = MultinomialNB()\n",
        "clf.fit(X_train, y_train)\n",
        "preds = clf.predict(X_val)\n",
        "print(classification_report(y_val, preds))\n"
      ],
      "metadata": {
        "id": "-30JhVkUjAPA",
        "colab": {
          "base_uri": "https://localhost:8080/"
        },
        "outputId": "6a0f1cba-39c1-42b3-ab92-323c41f5ee19"
      },
      "execution_count": 37,
      "outputs": [
        {
          "output_type": "stream",
          "name": "stdout",
          "text": [
            "              precision    recall  f1-score   support\n",
            "\n",
            "           0       0.64      0.77      0.70       142\n",
            "           1       0.59      0.44      0.51       108\n",
            "\n",
            "    accuracy                           0.63       250\n",
            "   macro avg       0.62      0.61      0.60       250\n",
            "weighted avg       0.62      0.63      0.62       250\n",
            "\n"
          ]
        }
      ]
    },
    {
      "cell_type": "code",
      "source": [
        "train_df = train_multi_df\n",
        "val_df = trial_val_multi_df\n",
        "\n",
        "vectorizer = TfidfVectorizer()  # just on 'sentence_no_contractions'\n",
        "X_train = vectorizer.fit_transform(train_df['snc_morph_complexity_value'])\n",
        "y_train = train_df['binary_complexity']\n",
        "\n",
        "X_val = vectorizer.transform(val_df['snc_morph_complexity_value'])\n",
        "y_val = val_df['binary_complexity']\n",
        "\n",
        "clf = MultinomialNB()\n",
        "clf.fit(X_train, y_train)\n",
        "preds = clf.predict(X_val)\n",
        "print(classification_report(y_val, preds))\n"
      ],
      "metadata": {
        "id": "nh3tmh9PjAMN",
        "colab": {
          "base_uri": "https://localhost:8080/"
        },
        "outputId": "3489329f-3c96-4391-8eef-26e100aba9ee"
      },
      "execution_count": 38,
      "outputs": [
        {
          "output_type": "stream",
          "name": "stdout",
          "text": [
            "              precision    recall  f1-score   support\n",
            "\n",
            "           0       0.65      0.75      0.70       142\n",
            "           1       0.59      0.47      0.53       108\n",
            "\n",
            "    accuracy                           0.63       250\n",
            "   macro avg       0.62      0.61      0.61       250\n",
            "weighted avg       0.63      0.63      0.62       250\n",
            "\n"
          ]
        }
      ]
    },
    {
      "cell_type": "markdown",
      "source": [
        "#### Evaluation\n",
        "\n",
        "- Naive Bayes baseline demonstrates considerably improved performance on the re-balanced dataset, compared with the original balance, including on pure engineered features and enriched features (concatenated or interleaved)."
      ],
      "metadata": {
        "id": "gbQkd3-sonhc"
      }
    },
    {
      "cell_type": "code",
      "source": [],
      "metadata": {
        "id": "mEtFrB4Oov7m"
      },
      "execution_count": null,
      "outputs": []
    }
  ]
}