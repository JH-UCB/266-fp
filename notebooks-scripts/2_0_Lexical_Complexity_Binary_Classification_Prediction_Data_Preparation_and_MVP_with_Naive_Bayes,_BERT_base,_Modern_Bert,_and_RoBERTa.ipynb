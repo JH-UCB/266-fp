{
  "nbformat": 4,
  "nbformat_minor": 0,
  "metadata": {
    "colab": {
      "provenance": [],
      "gpuType": "T4"
    },
    "kernelspec": {
      "name": "python3",
      "display_name": "Python 3"
    },
    "language_info": {
      "name": "python"
    }
  },
  "cells": [
    {
      "cell_type": "code",
      "source": [
        "#@title Install Packages"
      ],
      "metadata": {
        "id": "xYRurcbg2fuq"
      },
      "execution_count": null,
      "outputs": []
    },
    {
      "cell_type": "code",
      "execution_count": null,
      "metadata": {
        "id": "XWeMhKnlvi9F"
      },
      "outputs": [],
      "source": [
        "!pip install -q transformers\n",
        "!pip install -q torchinfo\n",
        "!pip install -q datasets\n",
        "!pip install -q evaluate\n",
        "!pip install -q nltk\n",
        "!pip install -q contractions"
      ]
    },
    {
      "cell_type": "code",
      "source": [
        "!sudo apt-get update\n",
        "! sudo apt-get install tree"
      ],
      "metadata": {
        "colab": {
          "base_uri": "https://localhost:8080/"
        },
        "id": "rX3VqZu11-s_",
        "outputId": "d2c2398c-8687-4dac-b357-4dddf2317c6c"
      },
      "execution_count": null,
      "outputs": [
        {
          "output_type": "stream",
          "name": "stdout",
          "text": [
            "Hit:1 https://cloud.r-project.org/bin/linux/ubuntu jammy-cran40/ InRelease\n",
            "Hit:2 https://developer.download.nvidia.com/compute/cuda/repos/ubuntu2204/x86_64  InRelease\n",
            "Hit:3 http://archive.ubuntu.com/ubuntu jammy InRelease\n",
            "Hit:4 http://security.ubuntu.com/ubuntu jammy-security InRelease\n",
            "Hit:5 https://r2u.stat.illinois.edu/ubuntu jammy InRelease\n",
            "Hit:6 http://archive.ubuntu.com/ubuntu jammy-updates InRelease\n",
            "Hit:7 http://archive.ubuntu.com/ubuntu jammy-backports InRelease\n",
            "Hit:8 https://ppa.launchpadcontent.net/deadsnakes/ppa/ubuntu jammy InRelease\n",
            "Hit:9 https://ppa.launchpadcontent.net/graphics-drivers/ppa/ubuntu jammy InRelease\n",
            "Hit:10 https://ppa.launchpadcontent.net/ubuntugis/ppa/ubuntu jammy InRelease\n",
            "Reading package lists... Done\n",
            "W: Skipping acquire of configured file 'main/source/Sources' as repository 'https://r2u.stat.illinois.edu/ubuntu jammy InRelease' does not seem to provide it (sources.list entry misspelt?)\n",
            "Reading package lists... Done\n",
            "Building dependency tree... Done\n",
            "Reading state information... Done\n",
            "tree is already the newest version (2.0.2-1).\n",
            "0 upgraded, 0 newly installed, 0 to remove and 42 not upgraded.\n"
          ]
        }
      ]
    },
    {
      "cell_type": "code",
      "source": [
        "#@title Imports\n",
        "\n",
        "import transformers\n",
        "import evaluate\n",
        "\n",
        "import nltk\n",
        "\n",
        "import contractions\n",
        "\n",
        "from datasets import load_dataset\n",
        "from torchinfo import summary\n",
        "\n",
        "from transformers import AutoTokenizer, AutoModel, AutoModelForSequenceClassification\n",
        "from transformers import TrainingArguments, Trainer\n",
        "\n",
        "import os\n",
        "import pandas as pd\n",
        "import numpy as np\n",
        "\n",
        "import sklearn"
      ],
      "metadata": {
        "id": "3wEgNBR6zosA"
      },
      "execution_count": null,
      "outputs": []
    },
    {
      "cell_type": "code",
      "source": [
        "# @title Mount Google Drive"
      ],
      "metadata": {
        "id": "rSP7bIn12YU7"
      },
      "execution_count": null,
      "outputs": []
    },
    {
      "cell_type": "code",
      "source": [
        "from google.colab import drive\n",
        "drive.mount('/content/drive')"
      ],
      "metadata": {
        "colab": {
          "base_uri": "https://localhost:8080/"
        },
        "id": "oWKPq7h01cXk",
        "outputId": "c3e3f4bf-b7b4-4584-96bd-62ab227714bc"
      },
      "execution_count": null,
      "outputs": [
        {
          "output_type": "stream",
          "name": "stdout",
          "text": [
            "Mounted at /content/drive\n"
          ]
        }
      ]
    },
    {
      "cell_type": "code",
      "source": [
        "dir_root = '/content/drive/MyDrive/266-final/'\n",
        "# dir_data = '/content/drive/MyDrive/266-final/data/'\n",
        "# dir_data = '/content/drive/MyDrive/266-final/data/se21-t1-comp-lex-master/'\n",
        "dir_data = '/content/drive/MyDrive/266-final/data/266-comp-lex-master'\n",
        "dir_models = '/content/drive/MyDrive/266-final/models/'\n",
        "dir_results = '/content/drive/MyDrive/266-final/results/'"
      ],
      "metadata": {
        "id": "I3Tfro3Zzop5"
      },
      "execution_count": null,
      "outputs": []
    },
    {
      "cell_type": "code",
      "source": [
        "!tree /content/drive/MyDrive/266-final/data/266-comp-lex-master/"
      ],
      "metadata": {
        "colab": {
          "base_uri": "https://localhost:8080/"
        },
        "id": "Qw9f1Hol2UhL",
        "outputId": "193d8ea3-1b8b-4820-8c35-76b2a9c765d6"
      },
      "execution_count": null,
      "outputs": [
        {
          "output_type": "stream",
          "name": "stdout",
          "text": [
            "\u001b[01;34m/content/drive/MyDrive/266-final/data/266-comp-lex-master/\u001b[0m\n",
            "├── \u001b[01;34mfe-test-labels\u001b[0m\n",
            "├── \u001b[01;34mfe-train\u001b[0m\n",
            "├── \u001b[01;34mfe-trial-val\u001b[0m\n",
            "├── \u001b[01;34mtest-labels\u001b[0m\n",
            "│   ├── \u001b[00mlcp_multi_test.tsv\u001b[0m\n",
            "│   └── \u001b[00mlcp_single_test.tsv\u001b[0m\n",
            "├── \u001b[01;34mtrain\u001b[0m\n",
            "│   ├── \u001b[00mlcp_multi_train.tsv\u001b[0m\n",
            "│   └── \u001b[00mlcp_single_train.tsv\u001b[0m\n",
            "└── \u001b[01;34mtrial\u001b[0m\n",
            "    ├── \u001b[00mlcp_multi_trial.tsv\u001b[0m\n",
            "    └── \u001b[00mlcp_single_trial.tsv\u001b[0m\n",
            "\n",
            "6 directories, 6 files\n"
          ]
        }
      ]
    },
    {
      "cell_type": "code",
      "source": [
        "!ls -R /content/drive/MyDrive/266-final/data/266-comp-lex-master/"
      ],
      "metadata": {
        "colab": {
          "base_uri": "https://localhost:8080/"
        },
        "id": "Zgul33NlKkbV",
        "outputId": "325676d7-a592-4e97-99a9-c604688f51e6"
      },
      "execution_count": 19,
      "outputs": [
        {
          "output_type": "stream",
          "name": "stdout",
          "text": [
            "/content/drive/MyDrive/266-final/data/266-comp-lex-master/:\n",
            "fe-test-labels\tfe-train  fe-trial-val\ttest-labels  train  trial\n",
            "\n",
            "/content/drive/MyDrive/266-final/data/266-comp-lex-master/fe-test-labels:\n",
            "\n",
            "/content/drive/MyDrive/266-final/data/266-comp-lex-master/fe-train:\n",
            "\n",
            "/content/drive/MyDrive/266-final/data/266-comp-lex-master/fe-trial-val:\n",
            "\n",
            "/content/drive/MyDrive/266-final/data/266-comp-lex-master/test-labels:\n",
            "lcp_multi_test.tsv  lcp_single_test.tsv\n",
            "\n",
            "/content/drive/MyDrive/266-final/data/266-comp-lex-master/train:\n",
            "lcp_multi_train.tsv  lcp_single_train.tsv\n",
            "\n",
            "/content/drive/MyDrive/266-final/data/266-comp-lex-master/trial:\n",
            "lcp_multi_trial.tsv  lcp_single_trial.tsv\n"
          ]
        }
      ]
    },
    {
      "cell_type": "code",
      "source": [
        "#@title Import Data"
      ],
      "metadata": {
        "id": "oftTqvV8zojV"
      },
      "execution_count": 20,
      "outputs": []
    },
    {
      "cell_type": "code",
      "source": [
        "# train_single_df = pd.read_csv(os.path.join(dir_data, \"train\", \"lcp_single_train.tsv\"), sep=\"\\t\")\n",
        "# train_multi_df = pd.read_csv(os.path.join(dir_data, \"train\", \"lcp_multi_train.tsv\"), sep=\"\\t\")\n",
        "\n",
        "# trail_val_single_df = pd.read_csv(os.path.join(dir_data, \"trial\", \"lcp_single_trial.tsv\"), sep=\"\\t\")\n",
        "# trail_val_multi_df = pd.read_csv(os.path.join(dir_data, \"trial\", \"lcp_multi_trial.tsv\"), sep=\"\\t\")\n",
        "\n",
        "# test_single_df = pd.read_csv(os.path.join(dir_data, \"test-labels\", \"lcp_single_test.tsv\"), sep=\"\\t\")\n",
        "# test_multi_df = pd.read_csv(os.path.join(dir_data, \"test-labels\", \"lcp_multi_test.tsv\"), sep=\"\\t\")"
      ],
      "metadata": {
        "id": "73lV0P87eV-P"
      },
      "execution_count": 35,
      "outputs": []
    },
    {
      "cell_type": "code",
      "source": [
        "# # Try to load the files containing unterminated strings\n",
        "# try:\n",
        "#     # Approach 1: Try with the C engine but with error handling\n",
        "#     multi_test_df = pd.read_csv(\n",
        "#         os.path.join(dir_data, \"test\", \"lcp_multi_test.tsv\"),\n",
        "#         sep=\"\\t\",\n",
        "#         on_bad_lines='skip'  # Skip bad lines\n",
        "#     )\n",
        "#     print(\"Loaded with skipping bad lines\")\n",
        "# except Exception as e:\n",
        "#     print(f\"First approach failed: {e}\")\n",
        "#     try:\n",
        "#         # Approach 2: Try with the Python engine which might be more forgiving\n",
        "#         multi_test_df = pd.read_csv(\n",
        "#             os.path.join(dir_data, \"test\", \"lcp_multi_test.tsv\"),\n",
        "#             sep=\"\\t\",\n",
        "#             engine=\"python\",\n",
        "#             quoting=3  # QUOTE_NONE\n",
        "#         )\n",
        "#         print(\"Loaded with Python engine\")\n"
      ],
      "metadata": {
        "id": "SMJiIX6stPVG"
      },
      "execution_count": null,
      "outputs": []
    },
    {
      "cell_type": "code",
      "source": [
        "# Load train data into train_*_df\n",
        "train_single_df = pd.read_csv(\n",
        "    os.path.join(dir_data, \"train\", \"lcp_single_train.tsv\"),\n",
        "    sep = \"\\t\",\n",
        "    engine = \"python\",\n",
        "    quoting = 3\n",
        ")\n",
        "train_multi_df = pd.read_csv(\n",
        "    os.path.join(dir_data, \"train\", \"lcp_multi_train.tsv\"),\n",
        "    sep = \"\\t\",\n",
        "    engine = \"python\",\n",
        "    quoting = 3\n",
        ")\n",
        "\n",
        "# Load trial data into trial_val_*_df\n",
        "trial_val_single_df = pd.read_csv(\n",
        "    os.path.join(dir_data, \"trial\", \"lcp_single_trial.tsv\"),\n",
        "    sep = \"\\t\",\n",
        "    engine = \"python\",\n",
        "    quoting = 3\n",
        ")\n",
        "trial_val_multi_df = pd.read_csv(\n",
        "    os.path.join(dir_data, \"trial\", \"lcp_multi_trial.tsv\"),\n",
        "    sep = \"\\t\",\n",
        "    engine = \"python\",\n",
        "    quoting = 3\n",
        ")\n",
        "\n",
        "# Load test data (with labels) into test_*_df\n",
        "test_single_df = pd.read_csv(\n",
        "    os.path.join(dir_data, \"test-labels\", \"lcp_single_test.tsv\"),\n",
        "    sep = \"\\t\",\n",
        "    engine = \"python\",\n",
        "    quoting = 3\n",
        ")\n",
        "test_multi_df = pd.read_csv(\n",
        "    os.path.join(dir_data, \"test-labels\", \"lcp_multi_test.tsv\"),\n",
        "    sep = \"\\t\",\n",
        "    engine = \"python\",\n",
        "    quoting = 3\n",
        ")\n",
        "\n",
        "print(\"Data successfully loaded into train, trial-val, and test variables\")"
      ],
      "metadata": {
        "id": "THI7aT5zeV74",
        "colab": {
          "base_uri": "https://localhost:8080/"
        },
        "outputId": "60db9c24-a346-4474-bc8e-52f8cf76bea9"
      },
      "execution_count": 28,
      "outputs": [
        {
          "output_type": "stream",
          "name": "stdout",
          "text": [
            "Data successfully loaded into train, trial-val, and test variables\n"
          ]
        }
      ]
    },
    {
      "cell_type": "code",
      "source": [
        "#@title EDA"
      ],
      "metadata": {
        "id": "0cdO5Mp2uq_f"
      },
      "execution_count": 36,
      "outputs": []
    },
    {
      "cell_type": "code",
      "source": [
        "import numpy as np\n",
        "\n",
        "def print_dataframe_summary(df_name, df):\n",
        "    # Print section header\n",
        "    print(f\"========== {df_name} ==========\")\n",
        "\n",
        "    # Shape and Columns\n",
        "    print(f\"Shape: {df.shape}\")\n",
        "    print(f\"Columns: {list(df.columns)}\\n\")\n",
        "\n",
        "    # Data Types\n",
        "    print(\"Data Types:\")\n",
        "    print(df.dtypes)\n",
        "    print()\n",
        "\n",
        "    # Missing Values\n",
        "    print(\"Missing Values (by column):\")\n",
        "    print(df.isna().sum())\n",
        "    print()\n",
        "\n",
        "    # 'complexity' column stats\n",
        "    desc = df['complexity'].describe()  # count, mean, std, min, 25%, 50%, 75%, max\n",
        "    print(\"'complexity' Column Stats (incl. quartiles and median):\")\n",
        "    print(desc)\n",
        "\n",
        "    # Calculate frequency counts for each quartile range\n",
        "    q1 = desc['25%']\n",
        "    q2 = desc['50%']  # This is the median\n",
        "    q3 = desc['75%']\n",
        "    q_max = desc['max']\n",
        "\n",
        "    # Note: We'll define the ranges as:\n",
        "    #   <= Q1\n",
        "    #   > Q1 and <= Q2\n",
        "    #   > Q2 and <= Q3\n",
        "    #   > Q3\n",
        "\n",
        "    freq_q1 = np.sum(df['complexity'] <= q1)\n",
        "    freq_q2 = np.sum((df['complexity'] > q1) & (df['complexity'] <= q2))\n",
        "    freq_q3 = np.sum((df['complexity'] > q2) & (df['complexity'] <= q3))\n",
        "    freq_q4 = np.sum(df['complexity'] > q3)\n",
        "\n",
        "    print()\n",
        "    print(\"Quartile Frequency Counts (tab-separated next to each quartile):\")\n",
        "    print(f\"25%: {q1}\\tCount (<= Q1): {freq_q1}\")\n",
        "    print(f\"50% (Median): {q2}\\tCount (Q1 < x <= Q2): {freq_q2}\")\n",
        "    print(f\"75%: {q3}\\tCount (Q2 < x <= Q3): {freq_q3}\")\n",
        "    print(f\"100% (Max): {q_max}\\tCount (Q3 < x <= Max): {freq_q4}\")\n",
        "\n",
        "    print(\"======================================\\n\")\n",
        "\n",
        "# Now we call this for each of our dataframes\n",
        "print_dataframe_summary(\"train_single_df\", train_single_df)\n",
        "print_dataframe_summary(\"train_multi_df\", train_multi_df)\n",
        "print_dataframe_summary(\"trial_val_single_df\", trial_val_single_df)\n",
        "print_dataframe_summary(\"trial_val_multi_df\", trial_val_multi_df)\n",
        "print_dataframe_summary(\"test_single_df\", test_single_df)\n",
        "print_dataframe_summary(\"test_multi_df\", test_multi_df)\n"
      ],
      "metadata": {
        "id": "1SwpD2xceV2m",
        "colab": {
          "base_uri": "https://localhost:8080/"
        },
        "outputId": "4539fada-720d-4622-c3a6-aadbed7319ad"
      },
      "execution_count": 30,
      "outputs": [
        {
          "output_type": "stream",
          "name": "stdout",
          "text": [
            "========== train_single_df ==========\n",
            "Shape: (7662, 5)\n",
            "Columns: ['id', 'corpus', 'sentence', 'token', 'complexity']\n",
            "\n",
            "Data Types:\n",
            "id             object\n",
            "corpus         object\n",
            "sentence       object\n",
            "token          object\n",
            "complexity    float64\n",
            "dtype: object\n",
            "\n",
            "Missing Values (by column):\n",
            "id            0\n",
            "corpus        0\n",
            "sentence      0\n",
            "token         7\n",
            "complexity    0\n",
            "dtype: int64\n",
            "\n",
            "'complexity' Column Stats (incl. quartiles and median):\n",
            "count    7662.000000\n",
            "mean        0.302288\n",
            "std         0.132977\n",
            "min         0.000000\n",
            "25%         0.211538\n",
            "50%         0.279412\n",
            "75%         0.375000\n",
            "max         0.861111\n",
            "Name: complexity, dtype: float64\n",
            "\n",
            "Quartile Frequency Counts (tab-separated next to each quartile):\n",
            "25%: 0.2115384615384615\tCount (<= Q1): 1928\n",
            "50% (Median): 0.2794117647058823\tCount (Q1 < x <= Q2): 1937\n",
            "75%: 0.375\tCount (Q2 < x <= Q3): 1984\n",
            "100% (Max): 0.8611111111111112\tCount (Q3 < x <= Max): 1813\n",
            "======================================\n",
            "\n",
            "========== train_multi_df ==========\n",
            "Shape: (1517, 5)\n",
            "Columns: ['id', 'corpus', 'sentence', 'token', 'complexity']\n",
            "\n",
            "Data Types:\n",
            "id             object\n",
            "corpus         object\n",
            "sentence       object\n",
            "token          object\n",
            "complexity    float64\n",
            "dtype: object\n",
            "\n",
            "Missing Values (by column):\n",
            "id            0\n",
            "corpus        0\n",
            "sentence      0\n",
            "token         0\n",
            "complexity    0\n",
            "dtype: int64\n",
            "\n",
            "'complexity' Column Stats (incl. quartiles and median):\n",
            "count    1517.000000\n",
            "mean        0.418362\n",
            "std         0.155536\n",
            "min         0.027778\n",
            "25%         0.302632\n",
            "50%         0.409091\n",
            "75%         0.529412\n",
            "max         0.975000\n",
            "Name: complexity, dtype: float64\n",
            "\n",
            "Quartile Frequency Counts (tab-separated next to each quartile):\n",
            "25%: 0.3026315789473685\tCount (<= Q1): 382\n",
            "50% (Median): 0.409090909090909\tCount (Q1 < x <= Q2): 377\n",
            "75%: 0.5294117647058824\tCount (Q2 < x <= Q3): 380\n",
            "100% (Max): 0.975\tCount (Q3 < x <= Max): 378\n",
            "======================================\n",
            "\n",
            "========== trial_val_single_df ==========\n",
            "Shape: (421, 5)\n",
            "Columns: ['id', 'subcorpus', 'sentence', 'token', 'complexity']\n",
            "\n",
            "Data Types:\n",
            "id             object\n",
            "subcorpus      object\n",
            "sentence       object\n",
            "token          object\n",
            "complexity    float64\n",
            "dtype: object\n",
            "\n",
            "Missing Values (by column):\n",
            "id            0\n",
            "subcorpus     0\n",
            "sentence      0\n",
            "token         0\n",
            "complexity    0\n",
            "dtype: int64\n",
            "\n",
            "'complexity' Column Stats (incl. quartiles and median):\n",
            "count    421.000000\n",
            "mean       0.298631\n",
            "std        0.137619\n",
            "min        0.000000\n",
            "25%        0.214286\n",
            "50%        0.266667\n",
            "75%        0.359375\n",
            "max        0.875000\n",
            "Name: complexity, dtype: float64\n",
            "\n",
            "Quartile Frequency Counts (tab-separated next to each quartile):\n",
            "25%: 0.2142857142857143\tCount (<= Q1): 106\n",
            "50% (Median): 0.2666666666666667\tCount (Q1 < x <= Q2): 107\n",
            "75%: 0.359375\tCount (Q2 < x <= Q3): 103\n",
            "100% (Max): 0.875\tCount (Q3 < x <= Max): 105\n",
            "======================================\n",
            "\n",
            "========== trial_val_multi_df ==========\n",
            "Shape: (99, 5)\n",
            "Columns: ['id', 'subcorpus', 'sentence', 'token', 'complexity']\n",
            "\n",
            "Data Types:\n",
            "id             object\n",
            "subcorpus      object\n",
            "sentence       object\n",
            "token          object\n",
            "complexity    float64\n",
            "dtype: object\n",
            "\n",
            "Missing Values (by column):\n",
            "id            0\n",
            "subcorpus     0\n",
            "sentence      0\n",
            "token         0\n",
            "complexity    0\n",
            "dtype: int64\n",
            "\n",
            "'complexity' Column Stats (incl. quartiles and median):\n",
            "count    99.000000\n",
            "mean      0.417961\n",
            "std       0.153752\n",
            "min       0.000000\n",
            "25%       0.309028\n",
            "50%       0.421875\n",
            "75%       0.513932\n",
            "max       0.825000\n",
            "Name: complexity, dtype: float64\n",
            "\n",
            "Quartile Frequency Counts (tab-separated next to each quartile):\n",
            "25%: 0.3090277777777778\tCount (<= Q1): 25\n",
            "50% (Median): 0.421875\tCount (Q1 < x <= Q2): 25\n",
            "75%: 0.5139318885448916\tCount (Q2 < x <= Q3): 24\n",
            "100% (Max): 0.825\tCount (Q3 < x <= Max): 25\n",
            "======================================\n",
            "\n",
            "========== test_single_df ==========\n",
            "Shape: (917, 5)\n",
            "Columns: ['id', 'corpus', 'sentence', 'token', 'complexity']\n",
            "\n",
            "Data Types:\n",
            "id             object\n",
            "corpus         object\n",
            "sentence       object\n",
            "token          object\n",
            "complexity    float64\n",
            "dtype: object\n",
            "\n",
            "Missing Values (by column):\n",
            "id            0\n",
            "corpus        0\n",
            "sentence      0\n",
            "token         0\n",
            "complexity    0\n",
            "dtype: int64\n",
            "\n",
            "'complexity' Column Stats (incl. quartiles and median):\n",
            "count    917.000000\n",
            "mean       0.296362\n",
            "std        0.127290\n",
            "min        0.000000\n",
            "25%        0.214286\n",
            "50%        0.276316\n",
            "75%        0.357143\n",
            "max        0.777778\n",
            "Name: complexity, dtype: float64\n",
            "\n",
            "Quartile Frequency Counts (tab-separated next to each quartile):\n",
            "25%: 0.2142857142857143\tCount (<= Q1): 237\n",
            "50% (Median): 0.2763157894736842\tCount (Q1 < x <= Q2): 224\n",
            "75%: 0.3571428571428571\tCount (Q2 < x <= Q3): 229\n",
            "100% (Max): 0.7777777777777777\tCount (Q3 < x <= Max): 227\n",
            "======================================\n",
            "\n",
            "========== test_multi_df ==========\n",
            "Shape: (184, 5)\n",
            "Columns: ['id', 'corpus', 'sentence', 'token', 'complexity']\n",
            "\n",
            "Data Types:\n",
            "id             object\n",
            "corpus         object\n",
            "sentence       object\n",
            "token          object\n",
            "complexity    float64\n",
            "dtype: object\n",
            "\n",
            "Missing Values (by column):\n",
            "id            0\n",
            "corpus        0\n",
            "sentence      0\n",
            "token         0\n",
            "complexity    0\n",
            "dtype: int64\n",
            "\n",
            "'complexity' Column Stats (incl. quartiles and median):\n",
            "count    184.000000\n",
            "mean       0.422312\n",
            "std        0.155785\n",
            "min        0.000000\n",
            "25%        0.316667\n",
            "50%        0.428571\n",
            "75%        0.527778\n",
            "max        0.800000\n",
            "Name: complexity, dtype: float64\n",
            "\n",
            "Quartile Frequency Counts (tab-separated next to each quartile):\n",
            "25%: 0.3166666666666666\tCount (<= Q1): 47\n",
            "50% (Median): 0.4285714285714286\tCount (Q1 < x <= Q2): 46\n",
            "75%: 0.5277777777777778\tCount (Q2 < x <= Q3): 46\n",
            "100% (Max): 0.8\tCount (Q3 < x <= Max): 45\n",
            "======================================\n",
            "\n"
          ]
        }
      ]
    },
    {
      "cell_type": "code",
      "source": [
        "print(train_single_df.head())"
      ],
      "metadata": {
        "colab": {
          "base_uri": "https://localhost:8080/"
        },
        "id": "7YGSzp2KwJkE",
        "outputId": "bd9d9d8d-2883-40a7-9d9c-9e6b09ec24e7"
      },
      "execution_count": 39,
      "outputs": [
        {
          "output_type": "stream",
          "name": "stdout",
          "text": [
            "                               id corpus  \\\n",
            "0  3ZLW647WALVGE8EBR50EGUBPU4P32A  bible   \n",
            "1  34R0BODSP1ZBN3DVY8J8XSIY551E5C  bible   \n",
            "2  3S1WOPCJFGTJU2SGNAN2Y213N6WJE3  bible   \n",
            "3  3BFNCI9LYKQN09BHXHH9CLSX5KP738  bible   \n",
            "4  3G5RUKN2EC3YIWSKUXZ8ZVH95R49N2  bible   \n",
            "\n",
            "                                            sentence     token  complexity  \n",
            "0  Behold, there came up out of the river seven c...     river    0.000000  \n",
            "1  I am a fellow bondservant with you and with yo...  brothers    0.000000  \n",
            "2  The man, the lord of the land, said to us, 'By...  brothers    0.050000  \n",
            "3  Shimei had sixteen sons and six daughters; but...  brothers    0.150000  \n",
            "4               \"He has put my brothers far from me.  brothers    0.263889  \n"
          ]
        }
      ]
    },
    {
      "cell_type": "code",
      "source": [
        "print(train_multi_df.head())"
      ],
      "metadata": {
        "id": "q_-6n1S3buOL",
        "colab": {
          "base_uri": "https://localhost:8080/"
        },
        "outputId": "b152926b-8afe-497a-faa4-68882d3bb9c0"
      },
      "execution_count": 40,
      "outputs": [
        {
          "output_type": "stream",
          "name": "stdout",
          "text": [
            "                               id corpus  \\\n",
            "0  3S37Y8CWI80N8KVM53U4E6JKCDC4WE  bible   \n",
            "1  3WGCNLZJKF877FYC1Q6COKNWTDWD11  bible   \n",
            "2  3UOMW19E6D6WQ5TH2HDD74IVKTP5CB  bible   \n",
            "3  36JW4WBR06KF9AXMUL4N476OMF8FHD  bible   \n",
            "4  3HRWUH63QU2FH9Q8R7MRNFC7JX2N5A  bible   \n",
            "\n",
            "                                            sentence            token  \\\n",
            "0  but the seventh day is a Sabbath to Yahweh you...      seventh day   \n",
            "1  But let each man test his own work, and then h...         own work   \n",
            "2  To him who by understanding made the heavens; ...  loving kindness   \n",
            "3  Remember to me, my God, this also, and spare m...  loving kindness   \n",
            "4  Because your loving kindness is better than li...  loving kindness   \n",
            "\n",
            "   complexity  \n",
            "0    0.027778  \n",
            "1    0.050000  \n",
            "2    0.050000  \n",
            "3    0.050000  \n",
            "4    0.075000  \n"
          ]
        }
      ]
    },
    {
      "cell_type": "code",
      "source": [],
      "metadata": {
        "id": "2_ETbD0YbuNZ"
      },
      "execution_count": null,
      "outputs": []
    },
    {
      "cell_type": "code",
      "source": [],
      "metadata": {
        "id": "_tcACu7FbuMy"
      },
      "execution_count": null,
      "outputs": []
    },
    {
      "cell_type": "code",
      "source": [],
      "metadata": {
        "id": "wWgWq-y-bt8W"
      },
      "execution_count": null,
      "outputs": []
    },
    {
      "cell_type": "code",
      "source": [],
      "metadata": {
        "id": "jG3xMkzCbt6J"
      },
      "execution_count": null,
      "outputs": []
    },
    {
      "cell_type": "code",
      "source": [],
      "metadata": {
        "id": "ABo6W4Ibbt4D"
      },
      "execution_count": null,
      "outputs": []
    },
    {
      "cell_type": "code",
      "source": [],
      "metadata": {
        "id": "ZDnoU_zNbt1s"
      },
      "execution_count": null,
      "outputs": []
    },
    {
      "cell_type": "code",
      "source": [],
      "metadata": {
        "id": "27LtqsOBbtzR"
      },
      "execution_count": null,
      "outputs": []
    },
    {
      "cell_type": "code",
      "source": [],
      "metadata": {
        "id": "9GCUTqfKEE3G"
      },
      "execution_count": null,
      "outputs": []
    }
  ]
}